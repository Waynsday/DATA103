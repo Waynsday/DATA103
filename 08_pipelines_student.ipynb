{
 "cells": [
  {
   "cell_type": "code",
   "execution_count": 1,
   "metadata": {},
   "outputs": [],
   "source": [
    "import pandas as pd \n",
    "import numpy as np\n",
    "from sklearn.model_selection import train_test_split\n",
    "\n",
    "import seaborn as sns\n",
    "\n",
    "sns.set_style('whitegrid')\n",
    "sns.set_palette('Set2')\n",
    "sns.color_palette('Set2')\n",
    "dlsu_green = \"#117a65ff\"\n"
   ]
  },
  {
   "cell_type": "markdown",
   "metadata": {},
   "source": [
    "# Scikitlearn Pipeline"
   ]
  },
  {
   "cell_type": "markdown",
   "metadata": {},
   "source": [
    "<img src=\"https://www.tomasbeuzen.com/post/scikit-learn-gridsearch-pipelines/featured_hu078592ed7247fe60b201cf541e7b6db7_204111_720x0_resize_lanczos_3.png\">"
   ]
  },
  {
   "cell_type": "markdown",
   "metadata": {},
   "source": [
    "There are a few key steps that we take prior to building a model. A few of them are: \n",
    "    - Feature pre-processing - wherein we prepare our data to be ready for modeling \n",
    "    - Feature Selection - selection of features to further simplify our model in the hopes that it will perform better \n",
    "    - Model Selection & Hyperparameter tuning - running different machine learning algorithms and hyperparameters to find the optimal model\n",
    "    \n",
    "The code that we develop for these can get out of hand especially if we run multiple experiments. To aid us in this, we have the `Pipeline` class from sklearn which allows us to enumerate the steps to be taken from preprocessing to modeling. Using this class helps us maintain our code and simplifies our process further. "
   ]
  },
  {
   "cell_type": "markdown",
   "metadata": {},
   "source": [
    "## Create Fake Data"
   ]
  },
  {
   "cell_type": "markdown",
   "metadata": {},
   "source": [
    "Generate a toy dataset that contains features on height, age, gender wherein the model target is if the person likes pop music or not. We introduce random null values to demonstrate the use of scikitlearn pipeline."
   ]
  },
  {
   "cell_type": "code",
   "execution_count": 2,
   "metadata": {},
   "outputs": [
    {
     "data": {
      "text/html": [
       "<div>\n",
       "<style scoped>\n",
       "    .dataframe tbody tr th:only-of-type {\n",
       "        vertical-align: middle;\n",
       "    }\n",
       "\n",
       "    .dataframe tbody tr th {\n",
       "        vertical-align: top;\n",
       "    }\n",
       "\n",
       "    .dataframe thead th {\n",
       "        text-align: right;\n",
       "    }\n",
       "</style>\n",
       "<table border=\"1\" class=\"dataframe\">\n",
       "  <thead>\n",
       "    <tr style=\"text-align: right;\">\n",
       "      <th></th>\n",
       "      <th>height</th>\n",
       "      <th>age</th>\n",
       "      <th>gender</th>\n",
       "      <th>likes_pop</th>\n",
       "    </tr>\n",
       "  </thead>\n",
       "  <tbody>\n",
       "    <tr>\n",
       "      <th>0</th>\n",
       "      <td>196</td>\n",
       "      <td>36</td>\n",
       "      <td>male</td>\n",
       "      <td>1</td>\n",
       "    </tr>\n",
       "    <tr>\n",
       "      <th>1</th>\n",
       "      <td>182</td>\n",
       "      <td>37</td>\n",
       "      <td>female</td>\n",
       "      <td>1</td>\n",
       "    </tr>\n",
       "    <tr>\n",
       "      <th>2</th>\n",
       "      <td>156</td>\n",
       "      <td>42</td>\n",
       "      <td>male</td>\n",
       "      <td>1</td>\n",
       "    </tr>\n",
       "    <tr>\n",
       "      <th>3</th>\n",
       "      <td>172</td>\n",
       "      <td>41</td>\n",
       "      <td>male</td>\n",
       "      <td>1</td>\n",
       "    </tr>\n",
       "    <tr>\n",
       "      <th>4</th>\n",
       "      <td>173</td>\n",
       "      <td>26</td>\n",
       "      <td>male</td>\n",
       "      <td>0</td>\n",
       "    </tr>\n",
       "  </tbody>\n",
       "</table>\n",
       "</div>"
      ],
      "text/plain": [
       "   height  age  gender  likes_pop\n",
       "0     196   36    male          1\n",
       "1     182   37  female          1\n",
       "2     156   42    male          1\n",
       "3     172   41    male          1\n",
       "4     173   26    male          0"
      ]
     },
     "metadata": {},
     "output_type": "display_data"
    }
   ],
   "source": [
    "size = 100\n",
    "\n",
    "data = {\"height\": np.random.choice(np.arange(150, 200), size),\n",
    "        \"age\": np.random.choice(np.arange(20, 50), size),\n",
    "        \"gender\": np.random.choice(['male', 'female'], size),\n",
    "        \"likes_pop\": np.random.choice([0,1], size)}\n",
    "\n",
    "toy_data_df = pd.DataFrame(data)\n",
    "display(toy_data_df.head())"
   ]
  },
  {
   "cell_type": "code",
   "execution_count": 3,
   "metadata": {},
   "outputs": [
    {
     "data": {
      "text/html": [
       "<div>\n",
       "<style scoped>\n",
       "    .dataframe tbody tr th:only-of-type {\n",
       "        vertical-align: middle;\n",
       "    }\n",
       "\n",
       "    .dataframe tbody tr th {\n",
       "        vertical-align: top;\n",
       "    }\n",
       "\n",
       "    .dataframe thead th {\n",
       "        text-align: right;\n",
       "    }\n",
       "</style>\n",
       "<table border=\"1\" class=\"dataframe\">\n",
       "  <thead>\n",
       "    <tr style=\"text-align: right;\">\n",
       "      <th></th>\n",
       "      <th>height</th>\n",
       "      <th>age</th>\n",
       "      <th>gender</th>\n",
       "    </tr>\n",
       "  </thead>\n",
       "  <tbody>\n",
       "    <tr>\n",
       "      <th>0</th>\n",
       "      <td>NaN</td>\n",
       "      <td>36.0</td>\n",
       "      <td>NaN</td>\n",
       "    </tr>\n",
       "    <tr>\n",
       "      <th>1</th>\n",
       "      <td>182.0</td>\n",
       "      <td>NaN</td>\n",
       "      <td>NaN</td>\n",
       "    </tr>\n",
       "    <tr>\n",
       "      <th>2</th>\n",
       "      <td>156.0</td>\n",
       "      <td>42.0</td>\n",
       "      <td>male</td>\n",
       "    </tr>\n",
       "    <tr>\n",
       "      <th>3</th>\n",
       "      <td>172.0</td>\n",
       "      <td>NaN</td>\n",
       "      <td>male</td>\n",
       "    </tr>\n",
       "    <tr>\n",
       "      <th>4</th>\n",
       "      <td>NaN</td>\n",
       "      <td>NaN</td>\n",
       "      <td>male</td>\n",
       "    </tr>\n",
       "    <tr>\n",
       "      <th>...</th>\n",
       "      <td>...</td>\n",
       "      <td>...</td>\n",
       "      <td>...</td>\n",
       "    </tr>\n",
       "    <tr>\n",
       "      <th>95</th>\n",
       "      <td>174.0</td>\n",
       "      <td>49.0</td>\n",
       "      <td>NaN</td>\n",
       "    </tr>\n",
       "    <tr>\n",
       "      <th>96</th>\n",
       "      <td>NaN</td>\n",
       "      <td>22.0</td>\n",
       "      <td>NaN</td>\n",
       "    </tr>\n",
       "    <tr>\n",
       "      <th>97</th>\n",
       "      <td>166.0</td>\n",
       "      <td>27.0</td>\n",
       "      <td>female</td>\n",
       "    </tr>\n",
       "    <tr>\n",
       "      <th>98</th>\n",
       "      <td>175.0</td>\n",
       "      <td>36.0</td>\n",
       "      <td>NaN</td>\n",
       "    </tr>\n",
       "    <tr>\n",
       "      <th>99</th>\n",
       "      <td>NaN</td>\n",
       "      <td>NaN</td>\n",
       "      <td>female</td>\n",
       "    </tr>\n",
       "  </tbody>\n",
       "</table>\n",
       "<p>100 rows × 3 columns</p>\n",
       "</div>"
      ],
      "text/plain": [
       "    height   age  gender\n",
       "0      NaN  36.0     NaN\n",
       "1    182.0   NaN     NaN\n",
       "2    156.0  42.0    male\n",
       "3    172.0   NaN    male\n",
       "4      NaN   NaN    male\n",
       "..     ...   ...     ...\n",
       "95   174.0  49.0     NaN\n",
       "96     NaN  22.0     NaN\n",
       "97   166.0  27.0  female\n",
       "98   175.0  36.0     NaN\n",
       "99     NaN   NaN  female\n",
       "\n",
       "[100 rows x 3 columns]"
      ]
     },
     "metadata": {},
     "output_type": "display_data"
    }
   ],
   "source": [
    "X = toy_data_df[['height', 'age', 'gender']]\n",
    "X = X.mask(np.random.random(X.shape) < .3)\n",
    "y = toy_data_df['likes_pop']\n",
    "X_train, X_test, y_train, y_test = train_test_split(X, y, test_size=.2, random_state=0)\n",
    "\n",
    "display(X)"
   ]
  },
  {
   "cell_type": "markdown",
   "metadata": {},
   "source": [
    "## Build Pipeline to handle Missing Data & Categorical Values"
   ]
  },
  {
   "cell_type": "code",
   "execution_count": 4,
   "metadata": {},
   "outputs": [],
   "source": [
    "from sklearn.pipeline import Pipeline \n",
    "from sklearn.impute import SimpleImputer\n",
    "from sklearn.preprocessing import OneHotEncoder"
   ]
  },
  {
   "cell_type": "markdown",
   "metadata": {},
   "source": [
    "Example of using `SimpleImputer`"
   ]
  },
  {
   "cell_type": "code",
   "execution_count": null,
   "metadata": {},
   "outputs": [],
   "source": []
  },
  {
   "cell_type": "markdown",
   "metadata": {},
   "source": [
    "Pipeline that uses `SimpleImputer` and `OneHotEncoder`"
   ]
  },
  {
   "cell_type": "code",
   "execution_count": 8,
   "metadata": {},
   "outputs": [],
   "source": [
    "numeric_imputer = Pipeline(\n",
    "        steps=[\n",
    "            (\"impute\", SimpleImputer(strategy='mean'))\n",
    "        ]\n",
    ")\n",
    "\n",
    "categorical_imputer = Pipeline(\n",
    "        steps=[\n",
    "            (\"impute\", SimpleImputer(strategy='most_frequent')),\n",
    "            (\"one-hot\", OneHotEncoder(handle_unknown='ignore', sparse=False))\n",
    "        ]\n",
    ")"
   ]
  },
  {
   "cell_type": "markdown",
   "metadata": {},
   "source": [
    "### Sample of Using the Categorical Imputer on the Toy Dataset"
   ]
  },
  {
   "cell_type": "code",
   "execution_count": 9,
   "metadata": {},
   "outputs": [
    {
     "data": {
      "text/plain": [
       "Pipeline(steps=[('impute', SimpleImputer(strategy='most_frequent')),\n",
       "                ('one-hot',\n",
       "                 OneHotEncoder(handle_unknown='ignore', sparse=False))])"
      ]
     },
     "execution_count": 9,
     "metadata": {},
     "output_type": "execute_result"
    }
   ],
   "source": [
    "categorical_imputer.fit(X_train[['gender']])"
   ]
  },
  {
   "cell_type": "markdown",
   "metadata": {},
   "source": [
    "The `steps` attribute contains the instances of the preprocessing done. For example, you can access the names of the features returned from the categorical imputer by going through the steps attribute"
   ]
  },
  {
   "cell_type": "code",
   "execution_count": 10,
   "metadata": {},
   "outputs": [
    {
     "data": {
      "text/plain": [
       "array(['x0_female', 'x0_male'], dtype=object)"
      ]
     },
     "execution_count": 10,
     "metadata": {},
     "output_type": "execute_result"
    }
   ],
   "source": [
    "categorical_imputer.steps[1][1].get_feature_names()"
   ]
  },
  {
   "cell_type": "markdown",
   "metadata": {},
   "source": [
    "\n",
    "### Sample of Using the Numeric Imputer on the Toy Dataset"
   ]
  },
  {
   "cell_type": "code",
   "execution_count": 20,
   "metadata": {},
   "outputs": [
    {
     "data": {
      "text/plain": [
       "Pipeline(steps=[('impute', SimpleImputer())])"
      ]
     },
     "execution_count": 20,
     "metadata": {},
     "output_type": "execute_result"
    }
   ],
   "source": [
    "numeric_imputer.fit(X_train[['age']])"
   ]
  },
  {
   "cell_type": "code",
   "execution_count": 26,
   "metadata": {},
   "outputs": [
    {
     "data": {
      "text/plain": [
       "SimpleImputer()"
      ]
     },
     "execution_count": 26,
     "metadata": {},
     "output_type": "execute_result"
    }
   ],
   "source": [
    "numeric_imputer.steps[0][1]"
   ]
  },
  {
   "cell_type": "code",
   "execution_count": 19,
   "metadata": {},
   "outputs": [
    {
     "data": {
      "text/plain": [
       "Pipeline(steps=[('impute', SimpleImputer())])"
      ]
     },
     "execution_count": 19,
     "metadata": {},
     "output_type": "execute_result"
    }
   ],
   "source": [
    "numeric_imputer.fit(X_train[['height']])"
   ]
  },
  {
   "cell_type": "code",
   "execution_count": null,
   "metadata": {},
   "outputs": [],
   "source": []
  },
  {
   "cell_type": "markdown",
   "metadata": {},
   "source": [
    "### How do we stitch the 2 together if we have a lot of features?"
   ]
  },
  {
   "cell_type": "markdown",
   "metadata": {},
   "source": [
    "Sklearn has the `ColumnTransformer` estimator. This estimator allows different columns or column subsets of the input to be transformed separately and the features generated by each transformer will be concatenated to form a single feature space. "
   ]
  },
  {
   "cell_type": "code",
   "execution_count": 1,
   "metadata": {},
   "outputs": [],
   "source": [
    "from sklearn.compose import ColumnTransformer\n",
    "\n"
   ]
  },
  {
   "cell_type": "markdown",
   "metadata": {},
   "source": [
    "We can access the different transformers/steps using the `transformers` attribute"
   ]
  },
  {
   "cell_type": "code",
   "execution_count": 14,
   "metadata": {},
   "outputs": [
    {
     "data": {
      "text/plain": [
       "[('numeric', Pipeline(steps=[('impute', SimpleImputer())]), ['height', 'age']),\n",
       " ('categorical',\n",
       "  Pipeline(steps=[('impute', SimpleImputer(strategy='most_frequent')),\n",
       "                  ('one-hot',\n",
       "                   OneHotEncoder(handle_unknown='ignore', sparse=False))]),\n",
       "  ['gender'])]"
      ]
     },
     "execution_count": 14,
     "metadata": {},
     "output_type": "execute_result"
    }
   ],
   "source": [
    "num_cat_imputer.transformers"
   ]
  },
  {
   "cell_type": "markdown",
   "metadata": {},
   "source": [
    "### Building a Pipeline from Preprocessing up to Modeling"
   ]
  },
  {
   "cell_type": "code",
   "execution_count": 15,
   "metadata": {},
   "outputs": [
    {
     "data": {
      "text/plain": [
       "Pipeline(steps=[('preprocess',\n",
       "                 ColumnTransformer(transformers=[('numeric',\n",
       "                                                  Pipeline(steps=[('impute',\n",
       "                                                                   SimpleImputer())]),\n",
       "                                                  ['height', 'age']),\n",
       "                                                 ('categorical',\n",
       "                                                  Pipeline(steps=[('impute',\n",
       "                                                                   SimpleImputer(strategy='most_frequent')),\n",
       "                                                                  ('one-hot',\n",
       "                                                                   OneHotEncoder(handle_unknown='ignore',\n",
       "                                                                                 sparse=False))]),\n",
       "                                                  ['gender'])])),\n",
       "                ('model', LogisticRegression())])"
      ]
     },
     "execution_count": 15,
     "metadata": {},
     "output_type": "execute_result"
    }
   ],
   "source": [
    "from sklearn.linear_model import LogisticRegression\n",
    "from sklearn.metrics import precision_score, recall_score, f1_score\n",
    "\n",
    "log_reg = LogisticRegression()\n",
    "\n",
    "logreg_pipeline = Pipeline(steps=[\n",
    "    ('preprocess', num_cat_imputer),\n",
    "    ('model', log_reg)\n",
    "])\n",
    "\n",
    "logreg_pipeline.fit(X_train, y_train)\n"
   ]
  },
  {
   "cell_type": "code",
   "execution_count": 16,
   "metadata": {},
   "outputs": [
    {
     "name": "stdout",
     "output_type": "stream",
     "text": [
      "Test acc:0.7\n",
      "Test Precision:0.75\n",
      "Test Recall:0.375\n"
     ]
    }
   ],
   "source": [
    "y_pred = logreg_pipeline.predict(X_test)\n",
    "\n",
    "print(f\"Test acc:{logreg_pipeline.score(X_test, y_test)}\")\n",
    "print(f\"Test Precision:{precision_score(y_test, y_pred)}\")\n",
    "print(f\"Test Recall:{recall_score(y_test, y_pred)}\")"
   ]
  },
  {
   "cell_type": "markdown",
   "metadata": {},
   "source": [
    "### Optimizing the pipeline by including Gridsearch"
   ]
  },
  {
   "cell_type": "markdown",
   "metadata": {},
   "source": [
    "Since the pipeline attribute provides the score or scoring function we can use our pipeline as part of our gridsearch"
   ]
  },
  {
   "cell_type": "code",
   "execution_count": 17,
   "metadata": {},
   "outputs": [
    {
     "name": "stderr",
     "output_type": "stream",
     "text": [
      "C:\\Users\\Sashmir Yap\\Miniconda3\\envs\\dsi\\lib\\site-packages\\sklearn\\model_selection\\_validation.py:619: FitFailedWarning: Estimator fit failed. The score on this train-test partition for these parameters will be set to nan. Details: \n",
      "Traceback (most recent call last):\n",
      "  File \"C:\\Users\\Sashmir Yap\\Miniconda3\\envs\\dsi\\lib\\site-packages\\sklearn\\model_selection\\_validation.py\", line 598, in _fit_and_score\n",
      "    estimator.fit(X_train, y_train, **fit_params)\n",
      "  File \"C:\\Users\\Sashmir Yap\\Miniconda3\\envs\\dsi\\lib\\site-packages\\sklearn\\pipeline.py\", line 346, in fit\n",
      "    self._final_estimator.fit(Xt, y, **fit_params_last_step)\n",
      "  File \"C:\\Users\\Sashmir Yap\\Miniconda3\\envs\\dsi\\lib\\site-packages\\sklearn\\linear_model\\_logistic.py\", line 1362, in fit\n",
      "    sample_weight=sample_weight)\n",
      "  File \"C:\\Users\\Sashmir Yap\\Miniconda3\\envs\\dsi\\lib\\site-packages\\sklearn\\svm\\_base.py\", line 978, in _fit_liblinear\n",
      "    epsilon, sample_weight)\n",
      "  File \"sklearn\\svm\\_liblinear.pyx\", line 52, in sklearn.svm._liblinear.train_wrap\n",
      "ValueError: b'C <= 0'\n",
      "\n",
      "  FitFailedWarning)\n",
      "C:\\Users\\Sashmir Yap\\Miniconda3\\envs\\dsi\\lib\\site-packages\\sklearn\\model_selection\\_validation.py:619: FitFailedWarning: Estimator fit failed. The score on this train-test partition for these parameters will be set to nan. Details: \n",
      "Traceback (most recent call last):\n",
      "  File \"C:\\Users\\Sashmir Yap\\Miniconda3\\envs\\dsi\\lib\\site-packages\\sklearn\\model_selection\\_validation.py\", line 598, in _fit_and_score\n",
      "    estimator.fit(X_train, y_train, **fit_params)\n",
      "  File \"C:\\Users\\Sashmir Yap\\Miniconda3\\envs\\dsi\\lib\\site-packages\\sklearn\\pipeline.py\", line 346, in fit\n",
      "    self._final_estimator.fit(Xt, y, **fit_params_last_step)\n",
      "  File \"C:\\Users\\Sashmir Yap\\Miniconda3\\envs\\dsi\\lib\\site-packages\\sklearn\\linear_model\\_logistic.py\", line 1362, in fit\n",
      "    sample_weight=sample_weight)\n",
      "  File \"C:\\Users\\Sashmir Yap\\Miniconda3\\envs\\dsi\\lib\\site-packages\\sklearn\\svm\\_base.py\", line 978, in _fit_liblinear\n",
      "    epsilon, sample_weight)\n",
      "  File \"sklearn\\svm\\_liblinear.pyx\", line 52, in sklearn.svm._liblinear.train_wrap\n",
      "ValueError: b'C <= 0'\n",
      "\n",
      "  FitFailedWarning)\n",
      "C:\\Users\\Sashmir Yap\\Miniconda3\\envs\\dsi\\lib\\site-packages\\sklearn\\model_selection\\_validation.py:619: FitFailedWarning: Estimator fit failed. The score on this train-test partition for these parameters will be set to nan. Details: \n",
      "Traceback (most recent call last):\n",
      "  File \"C:\\Users\\Sashmir Yap\\Miniconda3\\envs\\dsi\\lib\\site-packages\\sklearn\\model_selection\\_validation.py\", line 598, in _fit_and_score\n",
      "    estimator.fit(X_train, y_train, **fit_params)\n",
      "  File \"C:\\Users\\Sashmir Yap\\Miniconda3\\envs\\dsi\\lib\\site-packages\\sklearn\\pipeline.py\", line 346, in fit\n",
      "    self._final_estimator.fit(Xt, y, **fit_params_last_step)\n",
      "  File \"C:\\Users\\Sashmir Yap\\Miniconda3\\envs\\dsi\\lib\\site-packages\\sklearn\\linear_model\\_logistic.py\", line 1362, in fit\n",
      "    sample_weight=sample_weight)\n",
      "  File \"C:\\Users\\Sashmir Yap\\Miniconda3\\envs\\dsi\\lib\\site-packages\\sklearn\\svm\\_base.py\", line 978, in _fit_liblinear\n",
      "    epsilon, sample_weight)\n",
      "  File \"sklearn\\svm\\_liblinear.pyx\", line 52, in sklearn.svm._liblinear.train_wrap\n",
      "ValueError: b'C <= 0'\n",
      "\n",
      "  FitFailedWarning)\n",
      "C:\\Users\\Sashmir Yap\\Miniconda3\\envs\\dsi\\lib\\site-packages\\sklearn\\model_selection\\_validation.py:619: FitFailedWarning: Estimator fit failed. The score on this train-test partition for these parameters will be set to nan. Details: \n",
      "Traceback (most recent call last):\n",
      "  File \"C:\\Users\\Sashmir Yap\\Miniconda3\\envs\\dsi\\lib\\site-packages\\sklearn\\model_selection\\_validation.py\", line 598, in _fit_and_score\n",
      "    estimator.fit(X_train, y_train, **fit_params)\n",
      "  File \"C:\\Users\\Sashmir Yap\\Miniconda3\\envs\\dsi\\lib\\site-packages\\sklearn\\pipeline.py\", line 346, in fit\n",
      "    self._final_estimator.fit(Xt, y, **fit_params_last_step)\n",
      "  File \"C:\\Users\\Sashmir Yap\\Miniconda3\\envs\\dsi\\lib\\site-packages\\sklearn\\linear_model\\_logistic.py\", line 1362, in fit\n",
      "    sample_weight=sample_weight)\n",
      "  File \"C:\\Users\\Sashmir Yap\\Miniconda3\\envs\\dsi\\lib\\site-packages\\sklearn\\svm\\_base.py\", line 978, in _fit_liblinear\n",
      "    epsilon, sample_weight)\n",
      "  File \"sklearn\\svm\\_liblinear.pyx\", line 52, in sklearn.svm._liblinear.train_wrap\n",
      "ValueError: b'C <= 0'\n",
      "\n",
      "  FitFailedWarning)\n",
      "C:\\Users\\Sashmir Yap\\Miniconda3\\envs\\dsi\\lib\\site-packages\\sklearn\\model_selection\\_validation.py:619: FitFailedWarning: Estimator fit failed. The score on this train-test partition for these parameters will be set to nan. Details: \n",
      "Traceback (most recent call last):\n",
      "  File \"C:\\Users\\Sashmir Yap\\Miniconda3\\envs\\dsi\\lib\\site-packages\\sklearn\\model_selection\\_validation.py\", line 598, in _fit_and_score\n",
      "    estimator.fit(X_train, y_train, **fit_params)\n",
      "  File \"C:\\Users\\Sashmir Yap\\Miniconda3\\envs\\dsi\\lib\\site-packages\\sklearn\\pipeline.py\", line 346, in fit\n",
      "    self._final_estimator.fit(Xt, y, **fit_params_last_step)\n",
      "  File \"C:\\Users\\Sashmir Yap\\Miniconda3\\envs\\dsi\\lib\\site-packages\\sklearn\\linear_model\\_logistic.py\", line 1362, in fit\n",
      "    sample_weight=sample_weight)\n",
      "  File \"C:\\Users\\Sashmir Yap\\Miniconda3\\envs\\dsi\\lib\\site-packages\\sklearn\\svm\\_base.py\", line 978, in _fit_liblinear\n",
      "    epsilon, sample_weight)\n",
      "  File \"sklearn\\svm\\_liblinear.pyx\", line 52, in sklearn.svm._liblinear.train_wrap\n",
      "ValueError: b'C <= 0'\n",
      "\n",
      "  FitFailedWarning)\n",
      "C:\\Users\\Sashmir Yap\\Miniconda3\\envs\\dsi\\lib\\site-packages\\sklearn\\model_selection\\_validation.py:619: FitFailedWarning: Estimator fit failed. The score on this train-test partition for these parameters will be set to nan. Details: \n",
      "Traceback (most recent call last):\n",
      "  File \"C:\\Users\\Sashmir Yap\\Miniconda3\\envs\\dsi\\lib\\site-packages\\sklearn\\model_selection\\_validation.py\", line 598, in _fit_and_score\n",
      "    estimator.fit(X_train, y_train, **fit_params)\n",
      "  File \"C:\\Users\\Sashmir Yap\\Miniconda3\\envs\\dsi\\lib\\site-packages\\sklearn\\pipeline.py\", line 346, in fit\n",
      "    self._final_estimator.fit(Xt, y, **fit_params_last_step)\n",
      "  File \"C:\\Users\\Sashmir Yap\\Miniconda3\\envs\\dsi\\lib\\site-packages\\sklearn\\linear_model\\_logistic.py\", line 1362, in fit\n",
      "    sample_weight=sample_weight)\n",
      "  File \"C:\\Users\\Sashmir Yap\\Miniconda3\\envs\\dsi\\lib\\site-packages\\sklearn\\svm\\_base.py\", line 978, in _fit_liblinear\n",
      "    epsilon, sample_weight)\n",
      "  File \"sklearn\\svm\\_liblinear.pyx\", line 52, in sklearn.svm._liblinear.train_wrap\n",
      "ValueError: b'C <= 0'\n",
      "\n",
      "  FitFailedWarning)\n",
      "C:\\Users\\Sashmir Yap\\Miniconda3\\envs\\dsi\\lib\\site-packages\\sklearn\\model_selection\\_validation.py:619: FitFailedWarning: Estimator fit failed. The score on this train-test partition for these parameters will be set to nan. Details: \n",
      "Traceback (most recent call last):\n",
      "  File \"C:\\Users\\Sashmir Yap\\Miniconda3\\envs\\dsi\\lib\\site-packages\\sklearn\\model_selection\\_validation.py\", line 598, in _fit_and_score\n",
      "    estimator.fit(X_train, y_train, **fit_params)\n",
      "  File \"C:\\Users\\Sashmir Yap\\Miniconda3\\envs\\dsi\\lib\\site-packages\\sklearn\\pipeline.py\", line 346, in fit\n",
      "    self._final_estimator.fit(Xt, y, **fit_params_last_step)\n",
      "  File \"C:\\Users\\Sashmir Yap\\Miniconda3\\envs\\dsi\\lib\\site-packages\\sklearn\\linear_model\\_logistic.py\", line 1362, in fit\n",
      "    sample_weight=sample_weight)\n",
      "  File \"C:\\Users\\Sashmir Yap\\Miniconda3\\envs\\dsi\\lib\\site-packages\\sklearn\\svm\\_base.py\", line 978, in _fit_liblinear\n",
      "    epsilon, sample_weight)\n",
      "  File \"sklearn\\svm\\_liblinear.pyx\", line 52, in sklearn.svm._liblinear.train_wrap\n",
      "ValueError: b'C <= 0'\n",
      "\n",
      "  FitFailedWarning)\n",
      "C:\\Users\\Sashmir Yap\\Miniconda3\\envs\\dsi\\lib\\site-packages\\sklearn\\model_selection\\_validation.py:619: FitFailedWarning: Estimator fit failed. The score on this train-test partition for these parameters will be set to nan. Details: \n",
      "Traceback (most recent call last):\n",
      "  File \"C:\\Users\\Sashmir Yap\\Miniconda3\\envs\\dsi\\lib\\site-packages\\sklearn\\model_selection\\_validation.py\", line 598, in _fit_and_score\n",
      "    estimator.fit(X_train, y_train, **fit_params)\n",
      "  File \"C:\\Users\\Sashmir Yap\\Miniconda3\\envs\\dsi\\lib\\site-packages\\sklearn\\pipeline.py\", line 346, in fit\n",
      "    self._final_estimator.fit(Xt, y, **fit_params_last_step)\n",
      "  File \"C:\\Users\\Sashmir Yap\\Miniconda3\\envs\\dsi\\lib\\site-packages\\sklearn\\linear_model\\_logistic.py\", line 1362, in fit\n",
      "    sample_weight=sample_weight)\n",
      "  File \"C:\\Users\\Sashmir Yap\\Miniconda3\\envs\\dsi\\lib\\site-packages\\sklearn\\svm\\_base.py\", line 978, in _fit_liblinear\n",
      "    epsilon, sample_weight)\n",
      "  File \"sklearn\\svm\\_liblinear.pyx\", line 52, in sklearn.svm._liblinear.train_wrap\n",
      "ValueError: b'C <= 0'\n",
      "\n",
      "  FitFailedWarning)\n",
      "C:\\Users\\Sashmir Yap\\Miniconda3\\envs\\dsi\\lib\\site-packages\\sklearn\\model_selection\\_validation.py:619: FitFailedWarning: Estimator fit failed. The score on this train-test partition for these parameters will be set to nan. Details: \n",
      "Traceback (most recent call last):\n",
      "  File \"C:\\Users\\Sashmir Yap\\Miniconda3\\envs\\dsi\\lib\\site-packages\\sklearn\\model_selection\\_validation.py\", line 598, in _fit_and_score\n",
      "    estimator.fit(X_train, y_train, **fit_params)\n",
      "  File \"C:\\Users\\Sashmir Yap\\Miniconda3\\envs\\dsi\\lib\\site-packages\\sklearn\\pipeline.py\", line 346, in fit\n",
      "    self._final_estimator.fit(Xt, y, **fit_params_last_step)\n",
      "  File \"C:\\Users\\Sashmir Yap\\Miniconda3\\envs\\dsi\\lib\\site-packages\\sklearn\\linear_model\\_logistic.py\", line 1362, in fit\n",
      "    sample_weight=sample_weight)\n",
      "  File \"C:\\Users\\Sashmir Yap\\Miniconda3\\envs\\dsi\\lib\\site-packages\\sklearn\\svm\\_base.py\", line 978, in _fit_liblinear\n",
      "    epsilon, sample_weight)\n",
      "  File \"sklearn\\svm\\_liblinear.pyx\", line 52, in sklearn.svm._liblinear.train_wrap\n",
      "ValueError: b'C <= 0'\n",
      "\n",
      "  FitFailedWarning)\n",
      "C:\\Users\\Sashmir Yap\\Miniconda3\\envs\\dsi\\lib\\site-packages\\sklearn\\model_selection\\_validation.py:619: FitFailedWarning: Estimator fit failed. The score on this train-test partition for these parameters will be set to nan. Details: \n",
      "Traceback (most recent call last):\n",
      "  File \"C:\\Users\\Sashmir Yap\\Miniconda3\\envs\\dsi\\lib\\site-packages\\sklearn\\model_selection\\_validation.py\", line 598, in _fit_and_score\n",
      "    estimator.fit(X_train, y_train, **fit_params)\n",
      "  File \"C:\\Users\\Sashmir Yap\\Miniconda3\\envs\\dsi\\lib\\site-packages\\sklearn\\pipeline.py\", line 346, in fit\n",
      "    self._final_estimator.fit(Xt, y, **fit_params_last_step)\n",
      "  File \"C:\\Users\\Sashmir Yap\\Miniconda3\\envs\\dsi\\lib\\site-packages\\sklearn\\linear_model\\_logistic.py\", line 1362, in fit\n",
      "    sample_weight=sample_weight)\n",
      "  File \"C:\\Users\\Sashmir Yap\\Miniconda3\\envs\\dsi\\lib\\site-packages\\sklearn\\svm\\_base.py\", line 978, in _fit_liblinear\n",
      "    epsilon, sample_weight)\n",
      "  File \"sklearn\\svm\\_liblinear.pyx\", line 52, in sklearn.svm._liblinear.train_wrap\n",
      "ValueError: b'C <= 0'\n",
      "\n",
      "  FitFailedWarning)\n",
      "C:\\Users\\Sashmir Yap\\Miniconda3\\envs\\dsi\\lib\\site-packages\\sklearn\\model_selection\\_validation.py:619: FitFailedWarning: Estimator fit failed. The score on this train-test partition for these parameters will be set to nan. Details: \n",
      "Traceback (most recent call last):\n",
      "  File \"C:\\Users\\Sashmir Yap\\Miniconda3\\envs\\dsi\\lib\\site-packages\\sklearn\\model_selection\\_validation.py\", line 598, in _fit_and_score\n",
      "    estimator.fit(X_train, y_train, **fit_params)\n",
      "  File \"C:\\Users\\Sashmir Yap\\Miniconda3\\envs\\dsi\\lib\\site-packages\\sklearn\\pipeline.py\", line 346, in fit\n",
      "    self._final_estimator.fit(Xt, y, **fit_params_last_step)\n",
      "  File \"C:\\Users\\Sashmir Yap\\Miniconda3\\envs\\dsi\\lib\\site-packages\\sklearn\\linear_model\\_logistic.py\", line 1362, in fit\n",
      "    sample_weight=sample_weight)\n",
      "  File \"C:\\Users\\Sashmir Yap\\Miniconda3\\envs\\dsi\\lib\\site-packages\\sklearn\\svm\\_base.py\", line 978, in _fit_liblinear\n",
      "    epsilon, sample_weight)\n",
      "  File \"sklearn\\svm\\_liblinear.pyx\", line 52, in sklearn.svm._liblinear.train_wrap\n",
      "ValueError: b'C <= 0'\n",
      "\n",
      "  FitFailedWarning)\n",
      "C:\\Users\\Sashmir Yap\\Miniconda3\\envs\\dsi\\lib\\site-packages\\sklearn\\model_selection\\_validation.py:619: FitFailedWarning: Estimator fit failed. The score on this train-test partition for these parameters will be set to nan. Details: \n",
      "Traceback (most recent call last):\n",
      "  File \"C:\\Users\\Sashmir Yap\\Miniconda3\\envs\\dsi\\lib\\site-packages\\sklearn\\model_selection\\_validation.py\", line 598, in _fit_and_score\n",
      "    estimator.fit(X_train, y_train, **fit_params)\n",
      "  File \"C:\\Users\\Sashmir Yap\\Miniconda3\\envs\\dsi\\lib\\site-packages\\sklearn\\pipeline.py\", line 346, in fit\n",
      "    self._final_estimator.fit(Xt, y, **fit_params_last_step)\n",
      "  File \"C:\\Users\\Sashmir Yap\\Miniconda3\\envs\\dsi\\lib\\site-packages\\sklearn\\linear_model\\_logistic.py\", line 1362, in fit\n",
      "    sample_weight=sample_weight)\n",
      "  File \"C:\\Users\\Sashmir Yap\\Miniconda3\\envs\\dsi\\lib\\site-packages\\sklearn\\svm\\_base.py\", line 978, in _fit_liblinear\n",
      "    epsilon, sample_weight)\n",
      "  File \"sklearn\\svm\\_liblinear.pyx\", line 52, in sklearn.svm._liblinear.train_wrap\n",
      "ValueError: b'C <= 0'\n",
      "\n",
      "  FitFailedWarning)\n",
      "C:\\Users\\Sashmir Yap\\Miniconda3\\envs\\dsi\\lib\\site-packages\\sklearn\\model_selection\\_validation.py:619: FitFailedWarning: Estimator fit failed. The score on this train-test partition for these parameters will be set to nan. Details: \n",
      "Traceback (most recent call last):\n",
      "  File \"C:\\Users\\Sashmir Yap\\Miniconda3\\envs\\dsi\\lib\\site-packages\\sklearn\\model_selection\\_validation.py\", line 598, in _fit_and_score\n",
      "    estimator.fit(X_train, y_train, **fit_params)\n",
      "  File \"C:\\Users\\Sashmir Yap\\Miniconda3\\envs\\dsi\\lib\\site-packages\\sklearn\\pipeline.py\", line 346, in fit\n",
      "    self._final_estimator.fit(Xt, y, **fit_params_last_step)\n",
      "  File \"C:\\Users\\Sashmir Yap\\Miniconda3\\envs\\dsi\\lib\\site-packages\\sklearn\\linear_model\\_logistic.py\", line 1362, in fit\n",
      "    sample_weight=sample_weight)\n",
      "  File \"C:\\Users\\Sashmir Yap\\Miniconda3\\envs\\dsi\\lib\\site-packages\\sklearn\\svm\\_base.py\", line 978, in _fit_liblinear\n",
      "    epsilon, sample_weight)\n",
      "  File \"sklearn\\svm\\_liblinear.pyx\", line 52, in sklearn.svm._liblinear.train_wrap\n",
      "ValueError: b'C <= 0'\n",
      "\n",
      "  FitFailedWarning)\n",
      "C:\\Users\\Sashmir Yap\\Miniconda3\\envs\\dsi\\lib\\site-packages\\sklearn\\model_selection\\_validation.py:619: FitFailedWarning: Estimator fit failed. The score on this train-test partition for these parameters will be set to nan. Details: \n",
      "Traceback (most recent call last):\n",
      "  File \"C:\\Users\\Sashmir Yap\\Miniconda3\\envs\\dsi\\lib\\site-packages\\sklearn\\model_selection\\_validation.py\", line 598, in _fit_and_score\n",
      "    estimator.fit(X_train, y_train, **fit_params)\n",
      "  File \"C:\\Users\\Sashmir Yap\\Miniconda3\\envs\\dsi\\lib\\site-packages\\sklearn\\pipeline.py\", line 346, in fit\n",
      "    self._final_estimator.fit(Xt, y, **fit_params_last_step)\n",
      "  File \"C:\\Users\\Sashmir Yap\\Miniconda3\\envs\\dsi\\lib\\site-packages\\sklearn\\linear_model\\_logistic.py\", line 1362, in fit\n",
      "    sample_weight=sample_weight)\n",
      "  File \"C:\\Users\\Sashmir Yap\\Miniconda3\\envs\\dsi\\lib\\site-packages\\sklearn\\svm\\_base.py\", line 978, in _fit_liblinear\n",
      "    epsilon, sample_weight)\n",
      "  File \"sklearn\\svm\\_liblinear.pyx\", line 52, in sklearn.svm._liblinear.train_wrap\n",
      "ValueError: b'C <= 0'\n",
      "\n",
      "  FitFailedWarning)\n",
      "C:\\Users\\Sashmir Yap\\Miniconda3\\envs\\dsi\\lib\\site-packages\\sklearn\\model_selection\\_validation.py:619: FitFailedWarning: Estimator fit failed. The score on this train-test partition for these parameters will be set to nan. Details: \n",
      "Traceback (most recent call last):\n",
      "  File \"C:\\Users\\Sashmir Yap\\Miniconda3\\envs\\dsi\\lib\\site-packages\\sklearn\\model_selection\\_validation.py\", line 598, in _fit_and_score\n",
      "    estimator.fit(X_train, y_train, **fit_params)\n",
      "  File \"C:\\Users\\Sashmir Yap\\Miniconda3\\envs\\dsi\\lib\\site-packages\\sklearn\\pipeline.py\", line 346, in fit\n",
      "    self._final_estimator.fit(Xt, y, **fit_params_last_step)\n",
      "  File \"C:\\Users\\Sashmir Yap\\Miniconda3\\envs\\dsi\\lib\\site-packages\\sklearn\\linear_model\\_logistic.py\", line 1362, in fit\n",
      "    sample_weight=sample_weight)\n",
      "  File \"C:\\Users\\Sashmir Yap\\Miniconda3\\envs\\dsi\\lib\\site-packages\\sklearn\\svm\\_base.py\", line 978, in _fit_liblinear\n",
      "    epsilon, sample_weight)\n",
      "  File \"sklearn\\svm\\_liblinear.pyx\", line 52, in sklearn.svm._liblinear.train_wrap\n",
      "ValueError: b'C <= 0'\n",
      "\n",
      "  FitFailedWarning)\n",
      "C:\\Users\\Sashmir Yap\\Miniconda3\\envs\\dsi\\lib\\site-packages\\sklearn\\model_selection\\_validation.py:619: FitFailedWarning: Estimator fit failed. The score on this train-test partition for these parameters will be set to nan. Details: \n",
      "Traceback (most recent call last):\n",
      "  File \"C:\\Users\\Sashmir Yap\\Miniconda3\\envs\\dsi\\lib\\site-packages\\sklearn\\model_selection\\_validation.py\", line 598, in _fit_and_score\n",
      "    estimator.fit(X_train, y_train, **fit_params)\n",
      "  File \"C:\\Users\\Sashmir Yap\\Miniconda3\\envs\\dsi\\lib\\site-packages\\sklearn\\pipeline.py\", line 346, in fit\n",
      "    self._final_estimator.fit(Xt, y, **fit_params_last_step)\n",
      "  File \"C:\\Users\\Sashmir Yap\\Miniconda3\\envs\\dsi\\lib\\site-packages\\sklearn\\linear_model\\_logistic.py\", line 1362, in fit\n",
      "    sample_weight=sample_weight)\n",
      "  File \"C:\\Users\\Sashmir Yap\\Miniconda3\\envs\\dsi\\lib\\site-packages\\sklearn\\svm\\_base.py\", line 978, in _fit_liblinear\n",
      "    epsilon, sample_weight)\n",
      "  File \"sklearn\\svm\\_liblinear.pyx\", line 52, in sklearn.svm._liblinear.train_wrap\n",
      "ValueError: b'C <= 0'\n",
      "\n",
      "  FitFailedWarning)\n",
      "C:\\Users\\Sashmir Yap\\Miniconda3\\envs\\dsi\\lib\\site-packages\\sklearn\\model_selection\\_validation.py:619: FitFailedWarning: Estimator fit failed. The score on this train-test partition for these parameters will be set to nan. Details: \n",
      "Traceback (most recent call last):\n",
      "  File \"C:\\Users\\Sashmir Yap\\Miniconda3\\envs\\dsi\\lib\\site-packages\\sklearn\\model_selection\\_validation.py\", line 598, in _fit_and_score\n",
      "    estimator.fit(X_train, y_train, **fit_params)\n",
      "  File \"C:\\Users\\Sashmir Yap\\Miniconda3\\envs\\dsi\\lib\\site-packages\\sklearn\\pipeline.py\", line 346, in fit\n",
      "    self._final_estimator.fit(Xt, y, **fit_params_last_step)\n",
      "  File \"C:\\Users\\Sashmir Yap\\Miniconda3\\envs\\dsi\\lib\\site-packages\\sklearn\\linear_model\\_logistic.py\", line 1362, in fit\n",
      "    sample_weight=sample_weight)\n",
      "  File \"C:\\Users\\Sashmir Yap\\Miniconda3\\envs\\dsi\\lib\\site-packages\\sklearn\\svm\\_base.py\", line 978, in _fit_liblinear\n",
      "    epsilon, sample_weight)\n",
      "  File \"sklearn\\svm\\_liblinear.pyx\", line 52, in sklearn.svm._liblinear.train_wrap\n",
      "ValueError: b'C <= 0'\n",
      "\n",
      "  FitFailedWarning)\n",
      "C:\\Users\\Sashmir Yap\\Miniconda3\\envs\\dsi\\lib\\site-packages\\sklearn\\model_selection\\_validation.py:619: FitFailedWarning: Estimator fit failed. The score on this train-test partition for these parameters will be set to nan. Details: \n",
      "Traceback (most recent call last):\n",
      "  File \"C:\\Users\\Sashmir Yap\\Miniconda3\\envs\\dsi\\lib\\site-packages\\sklearn\\model_selection\\_validation.py\", line 598, in _fit_and_score\n",
      "    estimator.fit(X_train, y_train, **fit_params)\n",
      "  File \"C:\\Users\\Sashmir Yap\\Miniconda3\\envs\\dsi\\lib\\site-packages\\sklearn\\pipeline.py\", line 346, in fit\n",
      "    self._final_estimator.fit(Xt, y, **fit_params_last_step)\n",
      "  File \"C:\\Users\\Sashmir Yap\\Miniconda3\\envs\\dsi\\lib\\site-packages\\sklearn\\linear_model\\_logistic.py\", line 1362, in fit\n",
      "    sample_weight=sample_weight)\n",
      "  File \"C:\\Users\\Sashmir Yap\\Miniconda3\\envs\\dsi\\lib\\site-packages\\sklearn\\svm\\_base.py\", line 978, in _fit_liblinear\n",
      "    epsilon, sample_weight)\n",
      "  File \"sklearn\\svm\\_liblinear.pyx\", line 52, in sklearn.svm._liblinear.train_wrap\n",
      "ValueError: b'C <= 0'\n",
      "\n",
      "  FitFailedWarning)\n",
      "C:\\Users\\Sashmir Yap\\Miniconda3\\envs\\dsi\\lib\\site-packages\\sklearn\\model_selection\\_validation.py:619: FitFailedWarning: Estimator fit failed. The score on this train-test partition for these parameters will be set to nan. Details: \n",
      "Traceback (most recent call last):\n",
      "  File \"C:\\Users\\Sashmir Yap\\Miniconda3\\envs\\dsi\\lib\\site-packages\\sklearn\\model_selection\\_validation.py\", line 598, in _fit_and_score\n",
      "    estimator.fit(X_train, y_train, **fit_params)\n",
      "  File \"C:\\Users\\Sashmir Yap\\Miniconda3\\envs\\dsi\\lib\\site-packages\\sklearn\\pipeline.py\", line 346, in fit\n",
      "    self._final_estimator.fit(Xt, y, **fit_params_last_step)\n",
      "  File \"C:\\Users\\Sashmir Yap\\Miniconda3\\envs\\dsi\\lib\\site-packages\\sklearn\\linear_model\\_logistic.py\", line 1362, in fit\n",
      "    sample_weight=sample_weight)\n",
      "  File \"C:\\Users\\Sashmir Yap\\Miniconda3\\envs\\dsi\\lib\\site-packages\\sklearn\\svm\\_base.py\", line 978, in _fit_liblinear\n",
      "    epsilon, sample_weight)\n",
      "  File \"sklearn\\svm\\_liblinear.pyx\", line 52, in sklearn.svm._liblinear.train_wrap\n",
      "ValueError: b'C <= 0'\n",
      "\n",
      "  FitFailedWarning)\n",
      "C:\\Users\\Sashmir Yap\\Miniconda3\\envs\\dsi\\lib\\site-packages\\sklearn\\model_selection\\_validation.py:619: FitFailedWarning: Estimator fit failed. The score on this train-test partition for these parameters will be set to nan. Details: \n",
      "Traceback (most recent call last):\n",
      "  File \"C:\\Users\\Sashmir Yap\\Miniconda3\\envs\\dsi\\lib\\site-packages\\sklearn\\model_selection\\_validation.py\", line 598, in _fit_and_score\n",
      "    estimator.fit(X_train, y_train, **fit_params)\n",
      "  File \"C:\\Users\\Sashmir Yap\\Miniconda3\\envs\\dsi\\lib\\site-packages\\sklearn\\pipeline.py\", line 346, in fit\n",
      "    self._final_estimator.fit(Xt, y, **fit_params_last_step)\n",
      "  File \"C:\\Users\\Sashmir Yap\\Miniconda3\\envs\\dsi\\lib\\site-packages\\sklearn\\linear_model\\_logistic.py\", line 1362, in fit\n",
      "    sample_weight=sample_weight)\n",
      "  File \"C:\\Users\\Sashmir Yap\\Miniconda3\\envs\\dsi\\lib\\site-packages\\sklearn\\svm\\_base.py\", line 978, in _fit_liblinear\n",
      "    epsilon, sample_weight)\n",
      "  File \"sklearn\\svm\\_liblinear.pyx\", line 52, in sklearn.svm._liblinear.train_wrap\n",
      "ValueError: b'C <= 0'\n",
      "\n",
      "  FitFailedWarning)\n",
      "C:\\Users\\Sashmir Yap\\Miniconda3\\envs\\dsi\\lib\\site-packages\\sklearn\\model_selection\\_search.py:925: UserWarning: One or more of the test scores are non-finite: [   nan    nan 0.6125 0.575  0.6125 0.6375 0.6125 0.6125 0.5875 0.575 ]\n",
      "  category=UserWarning\n"
     ]
    },
    {
     "data": {
      "text/plain": [
       "GridSearchCV(cv=10,\n",
       "             estimator=Pipeline(steps=[('preprocess',\n",
       "                                        ColumnTransformer(transformers=[('numeric',\n",
       "                                                                         Pipeline(steps=[('impute',\n",
       "                                                                                          SimpleImputer())]),\n",
       "                                                                         ['height',\n",
       "                                                                          'age']),\n",
       "                                                                        ('categorical',\n",
       "                                                                         Pipeline(steps=[('impute',\n",
       "                                                                                          SimpleImputer(strategy='most_frequent')),\n",
       "                                                                                         ('one-hot',\n",
       "                                                                                          OneHotEncoder(handle_unknown='ignore',\n",
       "                                                                                                        sparse=False))]),\n",
       "                                                                         ['gender'])])),\n",
       "                                       ('model', LogisticRegression())]),\n",
       "             param_grid={'model__C': [0, 0.1, 0.001, 0.0001, 1],\n",
       "                         'model__penalty': ['l1', 'l2'],\n",
       "                         'model__solver': ['liblinear']})"
      ]
     },
     "execution_count": 17,
     "metadata": {},
     "output_type": "execute_result"
    }
   ],
   "source": [
    "from sklearn.model_selection import GridSearchCV\n",
    "\n",
    "param_dict = {'model__C': [0, 0.1, 0.001, 0.0001, 1],\n",
    "              'model__penalty': ['l1', 'l2'],\n",
    "              'model__solver': ['liblinear']}\n",
    "\n",
    "search = GridSearchCV(logreg_pipeline, param_dict, cv=10)\n",
    "search.fit(X_train, y_train)"
   ]
  },
  {
   "cell_type": "code",
   "execution_count": 20,
   "metadata": {},
   "outputs": [
    {
     "data": {
      "text/plain": [
       "Pipeline(steps=[('preprocess',\n",
       "                 ColumnTransformer(transformers=[('numeric',\n",
       "                                                  Pipeline(steps=[('impute',\n",
       "                                                                   SimpleImputer())]),\n",
       "                                                  ['height', 'age']),\n",
       "                                                 ('categorical',\n",
       "                                                  Pipeline(steps=[('impute',\n",
       "                                                                   SimpleImputer(strategy='most_frequent')),\n",
       "                                                                  ('one-hot',\n",
       "                                                                   OneHotEncoder(handle_unknown='ignore',\n",
       "                                                                                 sparse=False))]),\n",
       "                                                  ['gender'])])),\n",
       "                ('model', LogisticRegression(C=0.001, solver='liblinear'))])"
      ]
     },
     "execution_count": 20,
     "metadata": {},
     "output_type": "execute_result"
    }
   ],
   "source": [
    "search.best_estimator_"
   ]
  },
  {
   "cell_type": "code",
   "execution_count": 21,
   "metadata": {},
   "outputs": [
    {
     "name": "stdout",
     "output_type": "stream",
     "text": [
      "Test acc:0.6\n",
      "Test Precision:0.0\n",
      "Test Recall:0.0\n"
     ]
    },
    {
     "name": "stderr",
     "output_type": "stream",
     "text": [
      "C:\\Users\\Sashmir Yap\\Miniconda3\\envs\\dsi\\lib\\site-packages\\sklearn\\metrics\\_classification.py:1248: UndefinedMetricWarning: Precision is ill-defined and being set to 0.0 due to no predicted samples. Use `zero_division` parameter to control this behavior.\n",
      "  _warn_prf(average, modifier, msg_start, len(result))\n"
     ]
    }
   ],
   "source": [
    "y_pred = search.best_estimator_.predict(X_test)\n",
    "\n",
    "print(f\"Test acc:{search.best_estimator_.score(X_test, y_test)}\")\n",
    "print(f\"Test Precision:{precision_score(y_test, y_pred)}\")\n",
    "print(f\"Test Recall:{recall_score(y_test, y_pred)}\")\n"
   ]
  },
  {
   "cell_type": "markdown",
   "metadata": {},
   "source": [
    "### Adding more models to the pipeline"
   ]
  },
  {
   "cell_type": "code",
   "execution_count": 22,
   "metadata": {},
   "outputs": [
    {
     "data": {
      "text/plain": [
       "GridSearchCV(cv=10,\n",
       "             estimator=Pipeline(steps=[('preprocess',\n",
       "                                        ColumnTransformer(transformers=[('numeric',\n",
       "                                                                         Pipeline(steps=[('impute',\n",
       "                                                                                          SimpleImputer())]),\n",
       "                                                                         ['height',\n",
       "                                                                          'age']),\n",
       "                                                                        ('categorical',\n",
       "                                                                         Pipeline(steps=[('impute',\n",
       "                                                                                          SimpleImputer(strategy='most_frequent')),\n",
       "                                                                                         ('one-hot',\n",
       "                                                                                          OneHotEncoder(handle_unknown='ignore',\n",
       "                                                                                                        sparse=False))]),\n",
       "                                                                         ['gender'])])),\n",
       "                                       ('classifier', Logistic...\n",
       "                         {'classifier': [RandomForestClassifier(max_depth=10,\n",
       "                                                                max_features=0.5,\n",
       "                                                                min_samples_leaf=0.1,\n",
       "                                                                min_samples_split=0.1,\n",
       "                                                                n_estimators=180)],\n",
       "                          'classifier__max_depth': range(10, 50, 10),\n",
       "                          'classifier__max_features': array([0.1, 0.2, 0.3, 0.4, 0.5]),\n",
       "                          'classifier__min_samples_leaf': array([0.1, 0.2, 0.3, 0.4, 0.5]),\n",
       "                          'classifier__min_samples_split': array([0.1, 0.2, 0.3, 0.4, 0.5]),\n",
       "                          'classifier__n_estimators': range(100, 200, 20)}])"
      ]
     },
     "execution_count": 22,
     "metadata": {},
     "output_type": "execute_result"
    }
   ],
   "source": [
    "from sklearn.ensemble import RandomForestClassifier\n",
    "\n",
    "param_dict = [\n",
    "    {\n",
    "        'classifier': [LogisticRegression()],\n",
    "        'classifier__C': [0.1, 0.001, 0.0001, 1],\n",
    "        'classifier__penalty': ['l1', 'l2'],\n",
    "        'classifier__solver': ['liblinear']     \n",
    "    },\n",
    "    {\n",
    "        'classifier': [RandomForestClassifier()],\n",
    "        'classifier__n_estimators': range(100, 200, 20),\n",
    "        'classifier__max_depth': range(10,50,10),\n",
    "        'classifier__min_samples_split': np.arange(0.1,.6,.1),\n",
    "        'classifier__min_samples_leaf': np.arange(0.1,.6,.1),\n",
    "        'classifier__max_features': np.arange(0.1,.6,.1)\n",
    "    }\n",
    "]\n",
    "\n",
    "pipeline = Pipeline(steps=[\n",
    "    ('preprocess', num_cat_imputer),\n",
    "    ('classifier', LogisticRegression())\n",
    "])\n",
    "\n",
    "search = GridSearchCV(pipeline, param_dict, cv=10, verbose=0)\n",
    "search.fit(X_train, y_train)\n"
   ]
  },
  {
   "cell_type": "code",
   "execution_count": 23,
   "metadata": {},
   "outputs": [
    {
     "data": {
      "text/html": [
       "<div>\n",
       "<style scoped>\n",
       "    .dataframe tbody tr th:only-of-type {\n",
       "        vertical-align: middle;\n",
       "    }\n",
       "\n",
       "    .dataframe tbody tr th {\n",
       "        vertical-align: top;\n",
       "    }\n",
       "\n",
       "    .dataframe thead th {\n",
       "        text-align: right;\n",
       "    }\n",
       "</style>\n",
       "<table border=\"1\" class=\"dataframe\">\n",
       "  <thead>\n",
       "    <tr style=\"text-align: right;\">\n",
       "      <th></th>\n",
       "      <th>mean_fit_time</th>\n",
       "      <th>std_fit_time</th>\n",
       "      <th>mean_score_time</th>\n",
       "      <th>std_score_time</th>\n",
       "      <th>param_classifier</th>\n",
       "      <th>param_classifier__C</th>\n",
       "      <th>param_classifier__penalty</th>\n",
       "      <th>param_classifier__solver</th>\n",
       "      <th>param_classifier__max_depth</th>\n",
       "      <th>param_classifier__max_features</th>\n",
       "      <th>...</th>\n",
       "      <th>split3_test_score</th>\n",
       "      <th>split4_test_score</th>\n",
       "      <th>split5_test_score</th>\n",
       "      <th>split6_test_score</th>\n",
       "      <th>split7_test_score</th>\n",
       "      <th>split8_test_score</th>\n",
       "      <th>split9_test_score</th>\n",
       "      <th>mean_test_score</th>\n",
       "      <th>std_test_score</th>\n",
       "      <th>rank_test_score</th>\n",
       "    </tr>\n",
       "  </thead>\n",
       "  <tbody>\n",
       "    <tr>\n",
       "      <th>0</th>\n",
       "      <td>0.008288</td>\n",
       "      <td>0.000634</td>\n",
       "      <td>0.003993</td>\n",
       "      <td>0.000019</td>\n",
       "      <td>LogisticRegression()</td>\n",
       "      <td>0.1</td>\n",
       "      <td>l1</td>\n",
       "      <td>liblinear</td>\n",
       "      <td>NaN</td>\n",
       "      <td>NaN</td>\n",
       "      <td>...</td>\n",
       "      <td>0.625</td>\n",
       "      <td>0.625</td>\n",
       "      <td>0.625</td>\n",
       "      <td>0.750</td>\n",
       "      <td>0.625</td>\n",
       "      <td>0.500</td>\n",
       "      <td>0.625</td>\n",
       "      <td>0.6125</td>\n",
       "      <td>0.067315</td>\n",
       "      <td>273</td>\n",
       "    </tr>\n",
       "    <tr>\n",
       "      <th>1</th>\n",
       "      <td>0.007647</td>\n",
       "      <td>0.000449</td>\n",
       "      <td>0.003786</td>\n",
       "      <td>0.000389</td>\n",
       "      <td>LogisticRegression()</td>\n",
       "      <td>0.1</td>\n",
       "      <td>l2</td>\n",
       "      <td>liblinear</td>\n",
       "      <td>NaN</td>\n",
       "      <td>NaN</td>\n",
       "      <td>...</td>\n",
       "      <td>0.500</td>\n",
       "      <td>0.625</td>\n",
       "      <td>0.625</td>\n",
       "      <td>0.625</td>\n",
       "      <td>0.625</td>\n",
       "      <td>0.375</td>\n",
       "      <td>0.625</td>\n",
       "      <td>0.5750</td>\n",
       "      <td>0.082916</td>\n",
       "      <td>2499</td>\n",
       "    </tr>\n",
       "    <tr>\n",
       "      <th>2</th>\n",
       "      <td>0.007880</td>\n",
       "      <td>0.000544</td>\n",
       "      <td>0.003785</td>\n",
       "      <td>0.000405</td>\n",
       "      <td>LogisticRegression()</td>\n",
       "      <td>0.001</td>\n",
       "      <td>l1</td>\n",
       "      <td>liblinear</td>\n",
       "      <td>NaN</td>\n",
       "      <td>NaN</td>\n",
       "      <td>...</td>\n",
       "      <td>0.625</td>\n",
       "      <td>0.625</td>\n",
       "      <td>0.625</td>\n",
       "      <td>0.625</td>\n",
       "      <td>0.625</td>\n",
       "      <td>0.625</td>\n",
       "      <td>0.625</td>\n",
       "      <td>0.6125</td>\n",
       "      <td>0.037500</td>\n",
       "      <td>273</td>\n",
       "    </tr>\n",
       "    <tr>\n",
       "      <th>3</th>\n",
       "      <td>0.008053</td>\n",
       "      <td>0.000325</td>\n",
       "      <td>0.004083</td>\n",
       "      <td>0.000538</td>\n",
       "      <td>LogisticRegression()</td>\n",
       "      <td>0.001</td>\n",
       "      <td>l2</td>\n",
       "      <td>liblinear</td>\n",
       "      <td>NaN</td>\n",
       "      <td>NaN</td>\n",
       "      <td>...</td>\n",
       "      <td>0.625</td>\n",
       "      <td>0.750</td>\n",
       "      <td>0.625</td>\n",
       "      <td>0.750</td>\n",
       "      <td>0.625</td>\n",
       "      <td>0.625</td>\n",
       "      <td>0.625</td>\n",
       "      <td>0.6375</td>\n",
       "      <td>0.067315</td>\n",
       "      <td>26</td>\n",
       "    </tr>\n",
       "    <tr>\n",
       "      <th>4</th>\n",
       "      <td>0.008381</td>\n",
       "      <td>0.000661</td>\n",
       "      <td>0.004563</td>\n",
       "      <td>0.000611</td>\n",
       "      <td>LogisticRegression()</td>\n",
       "      <td>0.0001</td>\n",
       "      <td>l1</td>\n",
       "      <td>liblinear</td>\n",
       "      <td>NaN</td>\n",
       "      <td>NaN</td>\n",
       "      <td>...</td>\n",
       "      <td>0.625</td>\n",
       "      <td>0.625</td>\n",
       "      <td>0.625</td>\n",
       "      <td>0.625</td>\n",
       "      <td>0.625</td>\n",
       "      <td>0.625</td>\n",
       "      <td>0.625</td>\n",
       "      <td>0.6125</td>\n",
       "      <td>0.037500</td>\n",
       "      <td>273</td>\n",
       "    </tr>\n",
       "    <tr>\n",
       "      <th>...</th>\n",
       "      <td>...</td>\n",
       "      <td>...</td>\n",
       "      <td>...</td>\n",
       "      <td>...</td>\n",
       "      <td>...</td>\n",
       "      <td>...</td>\n",
       "      <td>...</td>\n",
       "      <td>...</td>\n",
       "      <td>...</td>\n",
       "      <td>...</td>\n",
       "      <td>...</td>\n",
       "      <td>...</td>\n",
       "      <td>...</td>\n",
       "      <td>...</td>\n",
       "      <td>...</td>\n",
       "      <td>...</td>\n",
       "      <td>...</td>\n",
       "      <td>...</td>\n",
       "      <td>...</td>\n",
       "      <td>...</td>\n",
       "      <td>...</td>\n",
       "    </tr>\n",
       "    <tr>\n",
       "      <th>2503</th>\n",
       "      <td>0.102632</td>\n",
       "      <td>0.002114</td>\n",
       "      <td>0.011363</td>\n",
       "      <td>0.000467</td>\n",
       "      <td>RandomForestClassifier(max_depth=10, max_featu...</td>\n",
       "      <td>NaN</td>\n",
       "      <td>NaN</td>\n",
       "      <td>NaN</td>\n",
       "      <td>40</td>\n",
       "      <td>0.5</td>\n",
       "      <td>...</td>\n",
       "      <td>0.625</td>\n",
       "      <td>0.625</td>\n",
       "      <td>0.625</td>\n",
       "      <td>0.625</td>\n",
       "      <td>0.625</td>\n",
       "      <td>0.625</td>\n",
       "      <td>0.625</td>\n",
       "      <td>0.6125</td>\n",
       "      <td>0.037500</td>\n",
       "      <td>273</td>\n",
       "    </tr>\n",
       "    <tr>\n",
       "      <th>2504</th>\n",
       "      <td>0.124009</td>\n",
       "      <td>0.005835</td>\n",
       "      <td>0.012615</td>\n",
       "      <td>0.000690</td>\n",
       "      <td>RandomForestClassifier(max_depth=10, max_featu...</td>\n",
       "      <td>NaN</td>\n",
       "      <td>NaN</td>\n",
       "      <td>NaN</td>\n",
       "      <td>40</td>\n",
       "      <td>0.5</td>\n",
       "      <td>...</td>\n",
       "      <td>0.625</td>\n",
       "      <td>0.625</td>\n",
       "      <td>0.625</td>\n",
       "      <td>0.625</td>\n",
       "      <td>0.625</td>\n",
       "      <td>0.625</td>\n",
       "      <td>0.625</td>\n",
       "      <td>0.6125</td>\n",
       "      <td>0.037500</td>\n",
       "      <td>273</td>\n",
       "    </tr>\n",
       "    <tr>\n",
       "      <th>2505</th>\n",
       "      <td>0.140427</td>\n",
       "      <td>0.001905</td>\n",
       "      <td>0.013849</td>\n",
       "      <td>0.000297</td>\n",
       "      <td>RandomForestClassifier(max_depth=10, max_featu...</td>\n",
       "      <td>NaN</td>\n",
       "      <td>NaN</td>\n",
       "      <td>NaN</td>\n",
       "      <td>40</td>\n",
       "      <td>0.5</td>\n",
       "      <td>...</td>\n",
       "      <td>0.625</td>\n",
       "      <td>0.625</td>\n",
       "      <td>0.625</td>\n",
       "      <td>0.625</td>\n",
       "      <td>0.625</td>\n",
       "      <td>0.625</td>\n",
       "      <td>0.625</td>\n",
       "      <td>0.6125</td>\n",
       "      <td>0.037500</td>\n",
       "      <td>273</td>\n",
       "    </tr>\n",
       "    <tr>\n",
       "      <th>2506</th>\n",
       "      <td>0.161734</td>\n",
       "      <td>0.005904</td>\n",
       "      <td>0.015579</td>\n",
       "      <td>0.000667</td>\n",
       "      <td>RandomForestClassifier(max_depth=10, max_featu...</td>\n",
       "      <td>NaN</td>\n",
       "      <td>NaN</td>\n",
       "      <td>NaN</td>\n",
       "      <td>40</td>\n",
       "      <td>0.5</td>\n",
       "      <td>...</td>\n",
       "      <td>0.625</td>\n",
       "      <td>0.625</td>\n",
       "      <td>0.625</td>\n",
       "      <td>0.625</td>\n",
       "      <td>0.625</td>\n",
       "      <td>0.625</td>\n",
       "      <td>0.625</td>\n",
       "      <td>0.6125</td>\n",
       "      <td>0.037500</td>\n",
       "      <td>273</td>\n",
       "    </tr>\n",
       "    <tr>\n",
       "      <th>2507</th>\n",
       "      <td>0.172758</td>\n",
       "      <td>0.001222</td>\n",
       "      <td>0.016047</td>\n",
       "      <td>0.000344</td>\n",
       "      <td>RandomForestClassifier(max_depth=10, max_featu...</td>\n",
       "      <td>NaN</td>\n",
       "      <td>NaN</td>\n",
       "      <td>NaN</td>\n",
       "      <td>40</td>\n",
       "      <td>0.5</td>\n",
       "      <td>...</td>\n",
       "      <td>0.625</td>\n",
       "      <td>0.625</td>\n",
       "      <td>0.625</td>\n",
       "      <td>0.625</td>\n",
       "      <td>0.625</td>\n",
       "      <td>0.625</td>\n",
       "      <td>0.625</td>\n",
       "      <td>0.6125</td>\n",
       "      <td>0.037500</td>\n",
       "      <td>273</td>\n",
       "    </tr>\n",
       "  </tbody>\n",
       "</table>\n",
       "<p>2508 rows × 27 columns</p>\n",
       "</div>"
      ],
      "text/plain": [
       "      mean_fit_time  std_fit_time  mean_score_time  std_score_time  \\\n",
       "0          0.008288      0.000634         0.003993        0.000019   \n",
       "1          0.007647      0.000449         0.003786        0.000389   \n",
       "2          0.007880      0.000544         0.003785        0.000405   \n",
       "3          0.008053      0.000325         0.004083        0.000538   \n",
       "4          0.008381      0.000661         0.004563        0.000611   \n",
       "...             ...           ...              ...             ...   \n",
       "2503       0.102632      0.002114         0.011363        0.000467   \n",
       "2504       0.124009      0.005835         0.012615        0.000690   \n",
       "2505       0.140427      0.001905         0.013849        0.000297   \n",
       "2506       0.161734      0.005904         0.015579        0.000667   \n",
       "2507       0.172758      0.001222         0.016047        0.000344   \n",
       "\n",
       "                                       param_classifier param_classifier__C  \\\n",
       "0                                  LogisticRegression()                 0.1   \n",
       "1                                  LogisticRegression()                 0.1   \n",
       "2                                  LogisticRegression()               0.001   \n",
       "3                                  LogisticRegression()               0.001   \n",
       "4                                  LogisticRegression()              0.0001   \n",
       "...                                                 ...                 ...   \n",
       "2503  RandomForestClassifier(max_depth=10, max_featu...                 NaN   \n",
       "2504  RandomForestClassifier(max_depth=10, max_featu...                 NaN   \n",
       "2505  RandomForestClassifier(max_depth=10, max_featu...                 NaN   \n",
       "2506  RandomForestClassifier(max_depth=10, max_featu...                 NaN   \n",
       "2507  RandomForestClassifier(max_depth=10, max_featu...                 NaN   \n",
       "\n",
       "     param_classifier__penalty param_classifier__solver  \\\n",
       "0                           l1                liblinear   \n",
       "1                           l2                liblinear   \n",
       "2                           l1                liblinear   \n",
       "3                           l2                liblinear   \n",
       "4                           l1                liblinear   \n",
       "...                        ...                      ...   \n",
       "2503                       NaN                      NaN   \n",
       "2504                       NaN                      NaN   \n",
       "2505                       NaN                      NaN   \n",
       "2506                       NaN                      NaN   \n",
       "2507                       NaN                      NaN   \n",
       "\n",
       "     param_classifier__max_depth param_classifier__max_features  ...  \\\n",
       "0                            NaN                            NaN  ...   \n",
       "1                            NaN                            NaN  ...   \n",
       "2                            NaN                            NaN  ...   \n",
       "3                            NaN                            NaN  ...   \n",
       "4                            NaN                            NaN  ...   \n",
       "...                          ...                            ...  ...   \n",
       "2503                          40                            0.5  ...   \n",
       "2504                          40                            0.5  ...   \n",
       "2505                          40                            0.5  ...   \n",
       "2506                          40                            0.5  ...   \n",
       "2507                          40                            0.5  ...   \n",
       "\n",
       "     split3_test_score split4_test_score split5_test_score split6_test_score  \\\n",
       "0                0.625             0.625             0.625             0.750   \n",
       "1                0.500             0.625             0.625             0.625   \n",
       "2                0.625             0.625             0.625             0.625   \n",
       "3                0.625             0.750             0.625             0.750   \n",
       "4                0.625             0.625             0.625             0.625   \n",
       "...                ...               ...               ...               ...   \n",
       "2503             0.625             0.625             0.625             0.625   \n",
       "2504             0.625             0.625             0.625             0.625   \n",
       "2505             0.625             0.625             0.625             0.625   \n",
       "2506             0.625             0.625             0.625             0.625   \n",
       "2507             0.625             0.625             0.625             0.625   \n",
       "\n",
       "      split7_test_score  split8_test_score  split9_test_score  \\\n",
       "0                 0.625              0.500              0.625   \n",
       "1                 0.625              0.375              0.625   \n",
       "2                 0.625              0.625              0.625   \n",
       "3                 0.625              0.625              0.625   \n",
       "4                 0.625              0.625              0.625   \n",
       "...                 ...                ...                ...   \n",
       "2503              0.625              0.625              0.625   \n",
       "2504              0.625              0.625              0.625   \n",
       "2505              0.625              0.625              0.625   \n",
       "2506              0.625              0.625              0.625   \n",
       "2507              0.625              0.625              0.625   \n",
       "\n",
       "      mean_test_score  std_test_score  rank_test_score  \n",
       "0              0.6125        0.067315              273  \n",
       "1              0.5750        0.082916             2499  \n",
       "2              0.6125        0.037500              273  \n",
       "3              0.6375        0.067315               26  \n",
       "4              0.6125        0.037500              273  \n",
       "...               ...             ...              ...  \n",
       "2503           0.6125        0.037500              273  \n",
       "2504           0.6125        0.037500              273  \n",
       "2505           0.6125        0.037500              273  \n",
       "2506           0.6125        0.037500              273  \n",
       "2507           0.6125        0.037500              273  \n",
       "\n",
       "[2508 rows x 27 columns]"
      ]
     },
     "execution_count": 23,
     "metadata": {},
     "output_type": "execute_result"
    }
   ],
   "source": [
    "result_df = pd.DataFrame.from_dict(search.cv_results_, orient='columns')\n",
    "result_df"
   ]
  },
  {
   "cell_type": "code",
   "execution_count": 36,
   "metadata": {},
   "outputs": [
    {
     "data": {
      "text/plain": [
       "RandomForestClassifier(max_depth=10, max_features=0.5, min_samples_leaf=0.1,\n",
       "                       min_samples_split=0.1, n_estimators=180)"
      ]
     },
     "execution_count": 36,
     "metadata": {},
     "output_type": "execute_result"
    }
   ],
   "source": [
    "result_df.param_classifier.unique()[1]"
   ]
  },
  {
   "cell_type": "code",
   "execution_count": 27,
   "metadata": {},
   "outputs": [
    {
     "data": {
      "text/plain": [
       "<AxesSubplot:xlabel='param_classifier', ylabel='mean_test_score'>"
      ]
     },
     "execution_count": 27,
     "metadata": {},
     "output_type": "execute_result"
    },
    {
     "data": {
      "image/png": "[encoded data removed]",
      "text/plain": [
       "<Figure size 1080x1440 with 1 Axes>"
      ]
     },
     "metadata": {},
     "output_type": "display_data"
    }
   ],
   "source": [
    "import matplotlib.pyplot as plt\n",
    "ax, fig = plt.subplots(figsize=(15,20))\n",
    "sns.boxplot(data=result_df, x=\"param_classifier\", y=\"mean_test_score\")"
   ]
  },
  {
   "cell_type": "code",
   "execution_count": 59,
   "metadata": {},
   "outputs": [
    {
     "data": {
      "image/png": "[encoded data removed]",
      "text/plain": [
       "<Figure size 720x360 with 2 Axes>"
      ]
     },
     "metadata": {},
     "output_type": "display_data"
    }
   ],
   "source": [
    "fig, axes = plt.subplots(figsize=(10,5), ncols=2)\n",
    "sns.lineplot(data=result_df[result_df.param_classifier == result_df.param_classifier.unique()[1]], \n",
    "            x=\"param_classifier__n_estimators\", y=\"mean_test_score\", ci=None, ax=axes[0])\n",
    "\n",
    "sns.lineplot(data=result_df[result_df.param_classifier == result_df.param_classifier.unique()[1]], \n",
    "            x=\"param_classifier__max_features\", y=\"mean_test_score\", ci=None, ax=axes[1])\n",
    "\n",
    "axes[0].set_ylim(0.6, 0.63)\n",
    "axes[1].set_ylim(0.6, 0.63)\n",
    "\n",
    "plt.tight_layout()"
   ]
  },
  {
   "cell_type": "code",
   "execution_count": 71,
   "metadata": {},
   "outputs": [
    {
     "data": {
      "text/plain": [
       "array([[152.        ,  49.        ,   1.        ,   0.        ],\n",
       "       [180.        ,  34.        ,   0.        ,   1.        ],\n",
       "       [183.        ,  36.        ,   1.        ,   0.        ],\n",
       "       [174.47540984,  39.        ,   1.        ,   0.        ],\n",
       "       [175.        ,  36.        ,   0.        ,   1.        ],\n",
       "       [177.        ,  36.        ,   1.        ,   0.        ],\n",
       "       [199.        ,  40.        ,   1.        ,   0.        ],\n",
       "       [196.        ,  46.        ,   0.        ,   1.        ],\n",
       "       [178.        ,  28.        ,   1.        ,   0.        ],\n",
       "       [150.        ,  29.        ,   1.        ,   0.        ],\n",
       "       [189.        ,  26.        ,   0.        ,   1.        ],\n",
       "       [156.        ,  36.        ,   1.        ,   0.        ],\n",
       "       [164.        ,  36.        ,   1.        ,   0.        ],\n",
       "       [181.        ,  36.        ,   1.        ,   0.        ],\n",
       "       [183.        ,  32.        ,   1.        ,   0.        ],\n",
       "       [178.        ,  46.        ,   1.        ,   0.        ],\n",
       "       [174.47540984,  35.        ,   0.        ,   1.        ],\n",
       "       [166.        ,  36.        ,   1.        ,   0.        ],\n",
       "       [174.47540984,  40.        ,   1.        ,   0.        ],\n",
       "       [178.        ,  36.        ,   0.        ,   1.        ],\n",
       "       [159.        ,  24.        ,   1.        ,   0.        ],\n",
       "       [174.47540984,  27.        ,   1.        ,   0.        ],\n",
       "       [174.47540984,  44.        ,   1.        ,   0.        ],\n",
       "       [164.        ,  27.        ,   1.        ,   0.        ],\n",
       "       [169.        ,  36.        ,   1.        ,   0.        ],\n",
       "       [156.        ,  49.        ,   0.        ,   1.        ],\n",
       "       [174.47540984,  36.        ,   1.        ,   0.        ],\n",
       "       [180.        ,  36.        ,   0.        ,   1.        ],\n",
       "       [172.        ,  21.        ,   1.        ,   0.        ],\n",
       "       [170.        ,  47.        ,   1.        ,   0.        ],\n",
       "       [174.47540984,  42.        ,   0.        ,   1.        ],\n",
       "       [184.        ,  36.        ,   1.        ,   0.        ],\n",
       "       [174.47540984,  30.        ,   0.        ,   1.        ],\n",
       "       [183.        ,  36.        ,   1.        ,   0.        ],\n",
       "       [171.        ,  31.        ,   1.        ,   0.        ],\n",
       "       [156.        ,  36.        ,   1.        ,   0.        ],\n",
       "       [172.        ,  37.        ,   1.        ,   0.        ],\n",
       "       [152.        ,  36.        ,   1.        ,   0.        ],\n",
       "       [179.        ,  45.        ,   0.        ,   1.        ],\n",
       "       [154.        ,  46.        ,   1.        ,   0.        ],\n",
       "       [197.        ,  36.        ,   1.        ,   0.        ],\n",
       "       [194.        ,  32.        ,   0.        ,   1.        ],\n",
       "       [192.        ,  34.        ,   1.        ,   0.        ],\n",
       "       [174.47540984,  28.        ,   1.        ,   0.        ],\n",
       "       [155.        ,  49.        ,   0.        ,   1.        ],\n",
       "       [174.47540984,  36.        ,   1.        ,   0.        ],\n",
       "       [187.        ,  27.        ,   0.        ,   1.        ],\n",
       "       [174.47540984,  36.        ,   1.        ,   0.        ],\n",
       "       [198.        ,  44.        ,   0.        ,   1.        ],\n",
       "       [176.        ,  30.        ,   1.        ,   0.        ],\n",
       "       [174.        ,  41.        ,   0.        ,   1.        ],\n",
       "       [174.47540984,  38.        ,   0.        ,   1.        ],\n",
       "       [174.47540984,  46.        ,   1.        ,   0.        ],\n",
       "       [173.        ,  43.        ,   1.        ,   0.        ],\n",
       "       [159.        ,  26.        ,   0.        ,   1.        ],\n",
       "       [174.47540984,  37.        ,   1.        ,   0.        ],\n",
       "       [179.        ,  38.        ,   0.        ,   1.        ],\n",
       "       [186.        ,  38.        ,   1.        ,   0.        ],\n",
       "       [196.        ,  20.        ,   1.        ,   0.        ],\n",
       "       [174.47540984,  41.        ,   1.        ,   0.        ],\n",
       "       [187.        ,  44.        ,   0.        ,   1.        ],\n",
       "       [179.        ,  30.        ,   0.        ,   1.        ],\n",
       "       [156.        ,  36.        ,   1.        ,   0.        ],\n",
       "       [174.47540984,  36.        ,   1.        ,   0.        ],\n",
       "       [166.        ,  42.        ,   1.        ,   0.        ],\n",
       "       [174.47540984,  31.        ,   1.        ,   0.        ],\n",
       "       [183.        ,  26.        ,   1.        ,   0.        ],\n",
       "       [167.        ,  36.        ,   1.        ,   0.        ],\n",
       "       [174.47540984,  20.        ,   1.        ,   0.        ],\n",
       "       [186.        ,  37.        ,   1.        ,   0.        ],\n",
       "       [156.        ,  47.        ,   1.        ,   0.        ],\n",
       "       [179.        ,  43.        ,   1.        ,   0.        ],\n",
       "       [177.        ,  32.        ,   1.        ,   0.        ],\n",
       "       [181.        ,  38.        ,   1.        ,   0.        ],\n",
       "       [157.        ,  28.        ,   1.        ,   0.        ],\n",
       "       [174.47540984,  36.        ,   1.        ,   0.        ],\n",
       "       [187.        ,  36.        ,   1.        ,   0.        ],\n",
       "       [155.        ,  31.        ,   1.        ,   0.        ],\n",
       "       [171.        ,  33.        ,   0.        ,   1.        ],\n",
       "       [184.        ,  44.        ,   0.        ,   1.        ]])"
      ]
     },
     "execution_count": 71,
     "metadata": {},
     "output_type": "execute_result"
    }
   ],
   "source": [
    "search.best_estimator_.steps[0][1].transform(X_train)"
   ]
  },
  {
   "cell_type": "code",
   "execution_count": 77,
   "metadata": {},
   "outputs": [
    {
     "data": {
      "image/png": "[encoded data removed]",
      "text/plain": [
       "<Figure size 576x223.2 with 2 Axes>"
      ]
     },
     "metadata": {},
     "output_type": "display_data"
    }
   ],
   "source": [
    "import shap\n",
    "explainer = shap.TreeExplainer(search.best_estimator_.steps[1][1], \n",
    "                               search.best_estimator_.steps[0][1].transform(X_train),\n",
    "                               feature_perturbation='interventional',\n",
    "                               model_output='probability')\n",
    "shap_values = explainer.shap_values(search.best_estimator_.steps[0][1].transform(X_test))\n",
    "shap.summary_plot(shap_values[0], search.best_estimator_.steps[0][1].transform(X_test))"
   ]
  },
  {
   "cell_type": "markdown",
   "metadata": {},
   "source": [
    "## Group Activity"
   ]
  },
  {
   "cell_type": "markdown",
   "metadata": {},
   "source": [
    "In your groups, build a pipeline using sklearn that cleans the titanic dataset and creates a model that classifies if a passenger survives or dies. \n",
    "\n",
    "Prior to building the pipeline drop the following columns:\n",
    "- PassengerId \n",
    "- Cabin (77% of data points are missing) \n",
    "- Name <br>\n",
    "\n",
    "For age impute the missing data by getting the average while for embarked get the most frequent value. "
   ]
  },
  {
   "cell_type": "code",
   "execution_count": 78,
   "metadata": {},
   "outputs": [
    {
     "data": {
      "text/html": [
       "<div>\n",
       "<style scoped>\n",
       "    .dataframe tbody tr th:only-of-type {\n",
       "        vertical-align: middle;\n",
       "    }\n",
       "\n",
       "    .dataframe tbody tr th {\n",
       "        vertical-align: top;\n",
       "    }\n",
       "\n",
       "    .dataframe thead th {\n",
       "        text-align: right;\n",
       "    }\n",
       "</style>\n",
       "<table border=\"1\" class=\"dataframe\">\n",
       "  <thead>\n",
       "    <tr style=\"text-align: right;\">\n",
       "      <th></th>\n",
       "      <th>PassengerId</th>\n",
       "      <th>Survived</th>\n",
       "      <th>Pclass</th>\n",
       "      <th>Name</th>\n",
       "      <th>Sex</th>\n",
       "      <th>Age</th>\n",
       "      <th>SibSp</th>\n",
       "      <th>Parch</th>\n",
       "      <th>Ticket</th>\n",
       "      <th>Fare</th>\n",
       "      <th>Cabin</th>\n",
       "      <th>Embarked</th>\n",
       "    </tr>\n",
       "  </thead>\n",
       "  <tbody>\n",
       "    <tr>\n",
       "      <th>0</th>\n",
       "      <td>1</td>\n",
       "      <td>0</td>\n",
       "      <td>3</td>\n",
       "      <td>Braund, Mr. Owen Harris</td>\n",
       "      <td>male</td>\n",
       "      <td>22.0</td>\n",
       "      <td>1</td>\n",
       "      <td>0</td>\n",
       "      <td>A/5 21171</td>\n",
       "      <td>7.2500</td>\n",
       "      <td>NaN</td>\n",
       "      <td>S</td>\n",
       "    </tr>\n",
       "    <tr>\n",
       "      <th>1</th>\n",
       "      <td>2</td>\n",
       "      <td>1</td>\n",
       "      <td>1</td>\n",
       "      <td>Cumings, Mrs. John Bradley (Florence Briggs Th...</td>\n",
       "      <td>female</td>\n",
       "      <td>38.0</td>\n",
       "      <td>1</td>\n",
       "      <td>0</td>\n",
       "      <td>PC 17599</td>\n",
       "      <td>71.2833</td>\n",
       "      <td>C85</td>\n",
       "      <td>C</td>\n",
       "    </tr>\n",
       "    <tr>\n",
       "      <th>2</th>\n",
       "      <td>3</td>\n",
       "      <td>1</td>\n",
       "      <td>3</td>\n",
       "      <td>Heikkinen, Miss. Laina</td>\n",
       "      <td>female</td>\n",
       "      <td>26.0</td>\n",
       "      <td>0</td>\n",
       "      <td>0</td>\n",
       "      <td>STON/O2. 3101282</td>\n",
       "      <td>7.9250</td>\n",
       "      <td>NaN</td>\n",
       "      <td>S</td>\n",
       "    </tr>\n",
       "    <tr>\n",
       "      <th>3</th>\n",
       "      <td>4</td>\n",
       "      <td>1</td>\n",
       "      <td>1</td>\n",
       "      <td>Futrelle, Mrs. Jacques Heath (Lily May Peel)</td>\n",
       "      <td>female</td>\n",
       "      <td>35.0</td>\n",
       "      <td>1</td>\n",
       "      <td>0</td>\n",
       "      <td>113803</td>\n",
       "      <td>53.1000</td>\n",
       "      <td>C123</td>\n",
       "      <td>S</td>\n",
       "    </tr>\n",
       "    <tr>\n",
       "      <th>4</th>\n",
       "      <td>5</td>\n",
       "      <td>0</td>\n",
       "      <td>3</td>\n",
       "      <td>Allen, Mr. William Henry</td>\n",
       "      <td>male</td>\n",
       "      <td>35.0</td>\n",
       "      <td>0</td>\n",
       "      <td>0</td>\n",
       "      <td>373450</td>\n",
       "      <td>8.0500</td>\n",
       "      <td>NaN</td>\n",
       "      <td>S</td>\n",
       "    </tr>\n",
       "  </tbody>\n",
       "</table>\n",
       "</div>"
      ],
      "text/plain": [
       "   PassengerId  Survived  Pclass  \\\n",
       "0            1         0       3   \n",
       "1            2         1       1   \n",
       "2            3         1       3   \n",
       "3            4         1       1   \n",
       "4            5         0       3   \n",
       "\n",
       "                                                Name     Sex   Age  SibSp  \\\n",
       "0                            Braund, Mr. Owen Harris    male  22.0      1   \n",
       "1  Cumings, Mrs. John Bradley (Florence Briggs Th...  female  38.0      1   \n",
       "2                             Heikkinen, Miss. Laina  female  26.0      0   \n",
       "3       Futrelle, Mrs. Jacques Heath (Lily May Peel)  female  35.0      1   \n",
       "4                           Allen, Mr. William Henry    male  35.0      0   \n",
       "\n",
       "   Parch            Ticket     Fare Cabin Embarked  \n",
       "0      0         A/5 21171   7.2500   NaN        S  \n",
       "1      0          PC 17599  71.2833   C85        C  \n",
       "2      0  STON/O2. 3101282   7.9250   NaN        S  \n",
       "3      0            113803  53.1000  C123        S  \n",
       "4      0            373450   8.0500   NaN        S  "
      ]
     },
     "execution_count": 78,
     "metadata": {},
     "output_type": "execute_result"
    }
   ],
   "source": [
    "titanic_df = pd.read_csv(\"../data/titanic.csv\")\n",
    "titanic_df.head()"
   ]
  },
  {
   "cell_type": "code",
   "execution_count": 80,
   "metadata": {},
   "outputs": [
    {
     "data": {
      "text/plain": [
       "PassengerId    0.000000\n",
       "Survived       0.000000\n",
       "Pclass         0.000000\n",
       "Name           0.000000\n",
       "Sex            0.000000\n",
       "Age            0.198653\n",
       "SibSp          0.000000\n",
       "Parch          0.000000\n",
       "Ticket         0.000000\n",
       "Fare           0.000000\n",
       "Cabin          0.771044\n",
       "Embarked       0.002245\n",
       "dtype: float64"
      ]
     },
     "execution_count": 80,
     "metadata": {},
     "output_type": "execute_result"
    }
   ],
   "source": [
    "titanic_df.isnull().sum()/titanic_df.shape[0]"
   ]
  },
  {
   "cell_type": "code",
   "execution_count": null,
   "metadata": {},
   "outputs": [],
   "source": []
  }
 ],
 "metadata": {
  "kernelspec": {
   "display_name": "Python 3",
   "language": "python",
   "name": "python3"
  },
  "language_info": {
   "codemirror_mode": {
    "name": "ipython",
    "version": 3
   },
   "file_extension": ".py",
   "mimetype": "text/x-python",
   "name": "python",
   "nbconvert_exporter": "python",
   "pygments_lexer": "ipython3",
   "version": "3.8.10"
  }
 },
 "nbformat": 4,
 "nbformat_minor": 4
}
