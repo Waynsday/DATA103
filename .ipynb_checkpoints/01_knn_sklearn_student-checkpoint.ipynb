{
 "cells": [
  {
   "cell_type": "code",
   "execution_count": 60,
   "id": "dd1d6c83",
   "metadata": {},
   "outputs": [],
   "source": [
    "import numpy as np\n",
    "import pandas as pd\n",
    "import matplotlib.pyplot as plt\n",
    "import numpy as np\n",
    "import seaborn as sns\n",
    "\n",
    "sns.set_style('whitegrid')\n",
    "sns.set_palette('Set2')\n",
    "sns.color_palette('Set2')\n",
    "dlsu_green = \"#117a65ff\"\n",
    "\n",
    "from sklearn import datasets\n",
    "from sklearn.model_selection import train_test_split\n",
    "from numpy.testing import assert_almost_equal\n",
    "from sklearn.metrics import r2_score\n",
    "from sklearn.neighbors import KNeighborsRegressor"
   ]
  },
  {
   "cell_type": "markdown",
   "id": "f9bfcded",
   "metadata": {},
   "source": [
    "## KNN Using Sklearn"
   ]
  },
  {
   "cell_type": "markdown",
   "id": "7f90e798",
   "metadata": {},
   "source": [
    "https://www.kaggle.com/uciml/red-wine-quality-cortez-et-al-2009"
   ]
  },
  {
   "cell_type": "markdown",
   "id": "4bee8bbd",
   "metadata": {},
   "source": [
    "## Load wine dataset"
   ]
  },
  {
   "cell_type": "code",
   "execution_count": null,
   "id": "7ae2db4a",
   "metadata": {},
   "outputs": [],
   "source": []
  },
  {
   "cell_type": "markdown",
   "id": "eba5a784",
   "metadata": {},
   "source": [
    "## Exploratory Analysis"
   ]
  },
  {
   "cell_type": "markdown",
   "id": "5d66b78b",
   "metadata": {},
   "source": [
    "## Distribution of Wine Quality"
   ]
  },
  {
   "cell_type": "code",
   "execution_count": null,
   "id": "1ec128a0",
   "metadata": {},
   "outputs": [],
   "source": []
  },
  {
   "cell_type": "markdown",
   "id": "834574fa",
   "metadata": {},
   "source": [
    "## Correlation of Features"
   ]
  },
  {
   "cell_type": "code",
   "execution_count": null,
   "id": "26089f10",
   "metadata": {},
   "outputs": [],
   "source": []
  },
  {
   "cell_type": "markdown",
   "id": "1d87a8ce",
   "metadata": {},
   "source": [
    "## Re-frame our problem, from regression to classification"
   ]
  },
  {
   "cell_type": "code",
   "execution_count": null,
   "id": "ab75e135",
   "metadata": {},
   "outputs": [],
   "source": []
  },
  {
   "cell_type": "markdown",
   "id": "81528ee4",
   "metadata": {},
   "source": [
    "# Build Model"
   ]
  },
  {
   "cell_type": "markdown",
   "id": "1d4bbae4",
   "metadata": {},
   "source": [
    "## Train-Val-Test Split Data"
   ]
  },
  {
   "cell_type": "code",
   "execution_count": null,
   "id": "e22ffa81",
   "metadata": {},
   "outputs": [],
   "source": []
  },
  {
   "cell_type": "markdown",
   "id": "eedcb440",
   "metadata": {},
   "source": [
    "## Create an Initial Model & Check for Accuracy"
   ]
  },
  {
   "cell_type": "code",
   "execution_count": null,
   "id": "8d7de43b",
   "metadata": {},
   "outputs": [],
   "source": []
  },
  {
   "cell_type": "code",
   "execution_count": null,
   "id": "b52918e0",
   "metadata": {},
   "outputs": [],
   "source": []
  },
  {
   "cell_type": "markdown",
   "id": "d1301766",
   "metadata": {},
   "source": [
    "## Optimize Model "
   ]
  },
  {
   "cell_type": "code",
   "execution_count": null,
   "id": "e2c8135c",
   "metadata": {},
   "outputs": [],
   "source": []
  },
  {
   "cell_type": "markdown",
   "id": "5c9a6d17",
   "metadata": {},
   "source": [
    "## Regression\n",
    "\n",
    "We'll be using another dataset for the regression task since we need continuous values as labels / outputs / targets. One readily-available dataset for this is the **Boston dataset**. It contains the house pricing data in Boston as well as the following features:\n",
    "\n",
    " - CRIM per capita crime rate by town\n",
    " - ZN proportion of residential land zoned for lots over 25,000 sq.ft.\n",
    " - INDUS proportion of non-retail business acres per town\n",
    " - CHAS Charles River dummy variable (= 1 if tract bounds river; 0 otherwise)\n",
    " - NOX nitric oxides concentration (parts per 10 million)\n",
    " - RM average number of rooms per dwelling\n",
    " - AGE proportion of owner-occupied units built prior to 1940\n",
    " - DIS weighted distances to five Boston employment centres\n",
    " - RAD index of accessibility to radial highways\n",
    " - TAX full-value property-tax rate per \\$10,000\n",
    " - PTRATIO pupil-teacher ratio by town\n",
    " - B 1000(Bk - 0.63)^2 where Bk is the proportion of blacks by town\n",
    " - LSTAT % lower status of the population\n",
    " - MEDV Median value of owner-occupied homes in $1000’s\n",
    "\n",
    "For more info, please see <a href=\"https://scikit-learn.org/stable/datasets/index.html#boston-dataset\">this link</a>.\n",
    "\n",
    "And, as usual, we will also be splitting the dataset into train and test sets."
   ]
  },
  {
   "cell_type": "code",
   "execution_count": 98,
   "id": "df387b87",
   "metadata": {},
   "outputs": [
    {
     "name": "stdout",
     "output_type": "stream",
     "text": [
      "Original Size | Input: (506, 13), Output: (506,)\n",
      "Train Set Size | Input: (404, 13), Output: (404,)\n",
      "Test Set Size | Input: (102, 13), Output: (102,)\n"
     ]
    }
   ],
   "source": [
    "X, y = datasets.load_boston(return_X_y=True)\n",
    "X_train, X_test, y_train, y_test = train_test_split(X, y, test_size=0.2, random_state=42)\n",
    "print(f\"Original Size | Input: {X.shape}, Output: {y.shape}\")\n",
    "print(f\"Train Set Size | Input: {X_train.shape}, Output: {y_train.shape}\")\n",
    "print(f\"Test Set Size | Input: {X_test.shape}, Output: {y_test.shape}\")"
   ]
  },
  {
   "cell_type": "code",
   "execution_count": 99,
   "id": "f4488caa",
   "metadata": {},
   "outputs": [
    {
     "data": {
      "text/html": [
       "<div>\n",
       "<style scoped>\n",
       "    .dataframe tbody tr th:only-of-type {\n",
       "        vertical-align: middle;\n",
       "    }\n",
       "\n",
       "    .dataframe tbody tr th {\n",
       "        vertical-align: top;\n",
       "    }\n",
       "\n",
       "    .dataframe thead th {\n",
       "        text-align: right;\n",
       "    }\n",
       "</style>\n",
       "<table border=\"1\" class=\"dataframe\">\n",
       "  <thead>\n",
       "    <tr style=\"text-align: right;\">\n",
       "      <th></th>\n",
       "      <th>CRIM</th>\n",
       "      <th>ZN</th>\n",
       "      <th>INDUS</th>\n",
       "      <th>CHAS</th>\n",
       "      <th>NOX</th>\n",
       "      <th>RM</th>\n",
       "      <th>AGE</th>\n",
       "      <th>DIS</th>\n",
       "      <th>RAD</th>\n",
       "      <th>TAX</th>\n",
       "      <th>PTRATIO</th>\n",
       "      <th>B</th>\n",
       "      <th>LSTAT</th>\n",
       "      <th>target</th>\n",
       "    </tr>\n",
       "  </thead>\n",
       "  <tbody>\n",
       "    <tr>\n",
       "      <th>0</th>\n",
       "      <td>15.02340</td>\n",
       "      <td>0.0</td>\n",
       "      <td>18.10</td>\n",
       "      <td>0.0</td>\n",
       "      <td>0.6140</td>\n",
       "      <td>5.304</td>\n",
       "      <td>97.3</td>\n",
       "      <td>2.1007</td>\n",
       "      <td>24.0</td>\n",
       "      <td>666.0</td>\n",
       "      <td>20.2</td>\n",
       "      <td>349.48</td>\n",
       "      <td>24.91</td>\n",
       "      <td>12</td>\n",
       "    </tr>\n",
       "    <tr>\n",
       "      <th>1</th>\n",
       "      <td>0.62739</td>\n",
       "      <td>0.0</td>\n",
       "      <td>8.14</td>\n",
       "      <td>0.0</td>\n",
       "      <td>0.5380</td>\n",
       "      <td>5.834</td>\n",
       "      <td>56.5</td>\n",
       "      <td>4.4986</td>\n",
       "      <td>4.0</td>\n",
       "      <td>307.0</td>\n",
       "      <td>21.0</td>\n",
       "      <td>395.62</td>\n",
       "      <td>8.47</td>\n",
       "      <td>19</td>\n",
       "    </tr>\n",
       "    <tr>\n",
       "      <th>2</th>\n",
       "      <td>0.03466</td>\n",
       "      <td>35.0</td>\n",
       "      <td>6.06</td>\n",
       "      <td>0.0</td>\n",
       "      <td>0.4379</td>\n",
       "      <td>6.031</td>\n",
       "      <td>23.3</td>\n",
       "      <td>6.6407</td>\n",
       "      <td>1.0</td>\n",
       "      <td>304.0</td>\n",
       "      <td>16.9</td>\n",
       "      <td>362.25</td>\n",
       "      <td>7.83</td>\n",
       "      <td>19</td>\n",
       "    </tr>\n",
       "    <tr>\n",
       "      <th>3</th>\n",
       "      <td>7.05042</td>\n",
       "      <td>0.0</td>\n",
       "      <td>18.10</td>\n",
       "      <td>0.0</td>\n",
       "      <td>0.6140</td>\n",
       "      <td>6.103</td>\n",
       "      <td>85.1</td>\n",
       "      <td>2.0218</td>\n",
       "      <td>24.0</td>\n",
       "      <td>666.0</td>\n",
       "      <td>20.2</td>\n",
       "      <td>2.52</td>\n",
       "      <td>23.29</td>\n",
       "      <td>13</td>\n",
       "    </tr>\n",
       "    <tr>\n",
       "      <th>4</th>\n",
       "      <td>0.72580</td>\n",
       "      <td>0.0</td>\n",
       "      <td>8.14</td>\n",
       "      <td>0.0</td>\n",
       "      <td>0.5380</td>\n",
       "      <td>5.727</td>\n",
       "      <td>69.5</td>\n",
       "      <td>3.7965</td>\n",
       "      <td>4.0</td>\n",
       "      <td>307.0</td>\n",
       "      <td>21.0</td>\n",
       "      <td>390.95</td>\n",
       "      <td>11.28</td>\n",
       "      <td>18</td>\n",
       "    </tr>\n",
       "  </tbody>\n",
       "</table>\n",
       "</div>"
      ],
      "text/plain": [
       "       CRIM    ZN  INDUS  CHAS     NOX     RM   AGE     DIS   RAD    TAX  \\\n",
       "0  15.02340   0.0  18.10   0.0  0.6140  5.304  97.3  2.1007  24.0  666.0   \n",
       "1   0.62739   0.0   8.14   0.0  0.5380  5.834  56.5  4.4986   4.0  307.0   \n",
       "2   0.03466  35.0   6.06   0.0  0.4379  6.031  23.3  6.6407   1.0  304.0   \n",
       "3   7.05042   0.0  18.10   0.0  0.6140  6.103  85.1  2.0218  24.0  666.0   \n",
       "4   0.72580   0.0   8.14   0.0  0.5380  5.727  69.5  3.7965   4.0  307.0   \n",
       "\n",
       "   PTRATIO       B  LSTAT  target  \n",
       "0     20.2  349.48  24.91      12  \n",
       "1     21.0  395.62   8.47      19  \n",
       "2     16.9  362.25   7.83      19  \n",
       "3     20.2    2.52  23.29      13  \n",
       "4     21.0  390.95  11.28      18  "
      ]
     },
     "execution_count": 99,
     "metadata": {},
     "output_type": "execute_result"
    }
   ],
   "source": [
    "train_set = np.concatenate((X_train, y_train.reshape(-1,1)), axis=1)\n",
    "columns = datasets.load_boston()['feature_names'].tolist() + ['target']\n",
    "df_train = pd.DataFrame(train_set, columns=columns)\n",
    "df_train['target'] = df_train['target'].astype(int)\n",
    "\n",
    "test_set = np.concatenate((X_test, y_test.reshape(-1,1)), axis=1)\n",
    "df_test = pd.DataFrame(test_set, columns=columns)\n",
    "df_test['target'] = df_test['target'].astype(int)\n",
    "\n",
    "df_train.head()"
   ]
  },
  {
   "cell_type": "markdown",
   "id": "f5b0b914",
   "metadata": {},
   "source": [
    "## Modeling"
   ]
  },
  {
   "cell_type": "markdown",
   "id": "352995b3",
   "metadata": {},
   "source": [
    "### Create the function to calculate the R-squared"
   ]
  },
  {
   "cell_type": "markdown",
   "id": "e359c872",
   "metadata": {},
   "source": [
    "For reference, here's the formula for R-squared:\n",
    "\n",
    "$$R^{2} (y,\\hat{y}) = 1- \\dfrac{\\Sigma_i (y_i - \\hat{y}_i)^2}{\\Sigma_i (y_i - \\bar{y})^2}$$"
   ]
  },
  {
   "cell_type": "code",
   "execution_count": 100,
   "id": "910c45d6",
   "metadata": {},
   "outputs": [],
   "source": [
    "def r_squared(y_true:np.array, y_pred:np.array) -> float:\n",
    "    '''\n",
    "    Returns the score using R-squared metric.\n",
    "    '''\n"
   ]
  },
  {
   "cell_type": "code",
   "execution_count": 101,
   "id": "9a2dc2a9",
   "metadata": {},
   "outputs": [],
   "source": [
    "assert_almost_equal(0.9458413926499033, r_squared(np.array([14,18,17,20,21,26,28]),  \n",
    "                                                  np.array([14,19,16,20,22,25,26])))"
   ]
  },
  {
   "cell_type": "code",
   "execution_count": 102,
   "id": "171aab4d",
   "metadata": {},
   "outputs": [
    {
     "name": "stdout",
     "output_type": "stream",
     "text": [
      "Test Set Score: 67.18%\n"
     ]
    }
   ],
   "source": []
  },
  {
   "cell_type": "markdown",
   "id": "51917a50",
   "metadata": {},
   "source": [
    "## Optimize Model by Testing out Different K Values"
   ]
  },
  {
   "cell_type": "code",
   "execution_count": null,
   "id": "b1453c31",
   "metadata": {},
   "outputs": [],
   "source": []
  }
 ],
 "metadata": {
  "kernelspec": {
   "display_name": "Python 3",
   "language": "python",
   "name": "python3"
  },
  "language_info": {
   "codemirror_mode": {
    "name": "ipython",
    "version": 3
   },
   "file_extension": ".py",
   "mimetype": "text/x-python",
   "name": "python",
   "nbconvert_exporter": "python",
   "pygments_lexer": "ipython3",
   "version": "3.7.7"
  }
 },
 "nbformat": 4,
 "nbformat_minor": 5
}
