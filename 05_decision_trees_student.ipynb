{
 "cells": [
  {
   "cell_type": "code",
   "execution_count": 1,
   "id": "38abcb62",
   "metadata": {},
   "outputs": [],
   "source": [
    "import pandas as pd \n",
    "import seaborn as sns \n",
    "import matplotlib.pyplot as plt\n",
    "import numpy as np\n",
    "from sklearn.model_selection import train_test_split\n",
    "\n",
    "sns.set_style('whitegrid')\n",
    "sns.set_palette('Set2')\n",
    "sns.color_palette('Set2')\n",
    "dlsu_green = \"#117a65ff\""
   ]
  },
  {
   "cell_type": "markdown",
   "id": "32474189",
   "metadata": {},
   "source": [
    "In this notebook we will be using the london bike sharing dataset. Our goal is to use decision trees to forecast the number of bikes that will be used. \n",
    "https://www.kaggle.com/hmavrodiev/london-bike-sharing-dataset\n",
    "\n",
    "- \"timestamp\" - timestamp field for grouping the data\n",
    "- \"cnt\" - the count of a new bike shares\n",
    "- \"t1\" - real temperature in C\n",
    "- \"t2\" - temperature in C \"feels like\"\n",
    "- \"hum\" - humidity in percentage\n",
    "- \"windspeed\" - wind speed in km/h\n",
    "- \"weathercode\" - category of the weather\n",
    "- \"isholiday\" - boolean field - 1 holiday / 0 non holiday\n",
    "- \"isweekend\" - boolean field - 1 if the day is weekend\n",
    "- \"season\" - category field meteorological seasons: 0-spring ; 1-summer; 2-fall; 3-winter.\n",
    "\n",
    "- \"weathe_code\" category description:\n",
    "1 = Clear ; mostly clear but have some values with haze/fog/patches of fog/ fog in vicinity 2 = scattered clouds / few clouds 3 = Broken clouds 4 = Cloudy 7 = Rain/ light Rain shower/ Light rain 10 = rain with thunderstorm 26 = snowfall 94 = Freezing Fog"
   ]
  },
  {
   "cell_type": "code",
   "execution_count": 3,
   "id": "738f27aa",
   "metadata": {},
   "outputs": [
    {
     "data": {
      "text/html": [
       "<div>\n",
       "<style scoped>\n",
       "    .dataframe tbody tr th:only-of-type {\n",
       "        vertical-align: middle;\n",
       "    }\n",
       "\n",
       "    .dataframe tbody tr th {\n",
       "        vertical-align: top;\n",
       "    }\n",
       "\n",
       "    .dataframe thead th {\n",
       "        text-align: right;\n",
       "    }\n",
       "</style>\n",
       "<table border=\"1\" class=\"dataframe\">\n",
       "  <thead>\n",
       "    <tr style=\"text-align: right;\">\n",
       "      <th></th>\n",
       "      <th>timestamp</th>\n",
       "      <th>cnt</th>\n",
       "      <th>t1</th>\n",
       "      <th>t2</th>\n",
       "      <th>hum</th>\n",
       "      <th>wind_speed</th>\n",
       "      <th>weather_code</th>\n",
       "      <th>is_holiday</th>\n",
       "      <th>is_weekend</th>\n",
       "      <th>season</th>\n",
       "    </tr>\n",
       "  </thead>\n",
       "  <tbody>\n",
       "    <tr>\n",
       "      <th>0</th>\n",
       "      <td>2015-01-04 00:00:00</td>\n",
       "      <td>182</td>\n",
       "      <td>3.0</td>\n",
       "      <td>2.0</td>\n",
       "      <td>93.0</td>\n",
       "      <td>6.0</td>\n",
       "      <td>3.0</td>\n",
       "      <td>0.0</td>\n",
       "      <td>1.0</td>\n",
       "      <td>3.0</td>\n",
       "    </tr>\n",
       "    <tr>\n",
       "      <th>1</th>\n",
       "      <td>2015-01-04 01:00:00</td>\n",
       "      <td>138</td>\n",
       "      <td>3.0</td>\n",
       "      <td>2.5</td>\n",
       "      <td>93.0</td>\n",
       "      <td>5.0</td>\n",
       "      <td>1.0</td>\n",
       "      <td>0.0</td>\n",
       "      <td>1.0</td>\n",
       "      <td>3.0</td>\n",
       "    </tr>\n",
       "    <tr>\n",
       "      <th>2</th>\n",
       "      <td>2015-01-04 02:00:00</td>\n",
       "      <td>134</td>\n",
       "      <td>2.5</td>\n",
       "      <td>2.5</td>\n",
       "      <td>96.5</td>\n",
       "      <td>0.0</td>\n",
       "      <td>1.0</td>\n",
       "      <td>0.0</td>\n",
       "      <td>1.0</td>\n",
       "      <td>3.0</td>\n",
       "    </tr>\n",
       "    <tr>\n",
       "      <th>3</th>\n",
       "      <td>2015-01-04 03:00:00</td>\n",
       "      <td>72</td>\n",
       "      <td>2.0</td>\n",
       "      <td>2.0</td>\n",
       "      <td>100.0</td>\n",
       "      <td>0.0</td>\n",
       "      <td>1.0</td>\n",
       "      <td>0.0</td>\n",
       "      <td>1.0</td>\n",
       "      <td>3.0</td>\n",
       "    </tr>\n",
       "    <tr>\n",
       "      <th>4</th>\n",
       "      <td>2015-01-04 04:00:00</td>\n",
       "      <td>47</td>\n",
       "      <td>2.0</td>\n",
       "      <td>0.0</td>\n",
       "      <td>93.0</td>\n",
       "      <td>6.5</td>\n",
       "      <td>1.0</td>\n",
       "      <td>0.0</td>\n",
       "      <td>1.0</td>\n",
       "      <td>3.0</td>\n",
       "    </tr>\n",
       "  </tbody>\n",
       "</table>\n",
       "</div>"
      ],
      "text/plain": [
       "            timestamp  cnt   t1   t2    hum  wind_speed  weather_code  \\\n",
       "0 2015-01-04 00:00:00  182  3.0  2.0   93.0         6.0           3.0   \n",
       "1 2015-01-04 01:00:00  138  3.0  2.5   93.0         5.0           1.0   \n",
       "2 2015-01-04 02:00:00  134  2.5  2.5   96.5         0.0           1.0   \n",
       "3 2015-01-04 03:00:00   72  2.0  2.0  100.0         0.0           1.0   \n",
       "4 2015-01-04 04:00:00   47  2.0  0.0   93.0         6.5           1.0   \n",
       "\n",
       "   is_holiday  is_weekend  season  \n",
       "0         0.0         1.0     3.0  \n",
       "1         0.0         1.0     3.0  \n",
       "2         0.0         1.0     3.0  \n",
       "3         0.0         1.0     3.0  \n",
       "4         0.0         1.0     3.0  "
      ]
     },
     "execution_count": 3,
     "metadata": {},
     "output_type": "execute_result"
    }
   ],
   "source": [
    "bike_share_df = pd.read_csv(\"london_bike_share.csv\")\n",
    "bike_share_df.timestamp = pd.to_datetime(bike_share_df.timestamp)\n",
    "bike_share_df.head()"
   ]
  },
  {
   "cell_type": "code",
   "execution_count": 4,
   "id": "ee626926",
   "metadata": {},
   "outputs": [
    {
     "data": {
      "text/plain": [
       "timestamp       0\n",
       "cnt             0\n",
       "t1              0\n",
       "t2              0\n",
       "hum             0\n",
       "wind_speed      0\n",
       "weather_code    0\n",
       "is_holiday      0\n",
       "is_weekend      0\n",
       "season          0\n",
       "dtype: int64"
      ]
     },
     "execution_count": 4,
     "metadata": {},
     "output_type": "execute_result"
    }
   ],
   "source": [
    "bike_share_df.isnull().sum()"
   ]
  },
  {
   "cell_type": "code",
   "execution_count": 5,
   "id": "d4f43c57",
   "metadata": {},
   "outputs": [
    {
     "name": "stdout",
     "output_type": "stream",
     "text": [
      "2015-01-04 00:00:00\n",
      "2017-01-03 23:00:00\n"
     ]
    }
   ],
   "source": [
    "print(bike_share_df['timestamp'].min())\n",
    "print(bike_share_df['timestamp'].max())"
   ]
  },
  {
   "cell_type": "code",
   "execution_count": 6,
   "id": "12728587",
   "metadata": {},
   "outputs": [
    {
     "data": {
      "text/plain": [
       "0       2015-01-04 00:00:00\n",
       "1       2015-01-04 01:00:00\n",
       "2       2015-01-04 02:00:00\n",
       "3       2015-01-04 03:00:00\n",
       "4       2015-01-04 04:00:00\n",
       "                ...        \n",
       "17409   2017-01-03 19:00:00\n",
       "17410   2017-01-03 20:00:00\n",
       "17411   2017-01-03 21:00:00\n",
       "17412   2017-01-03 22:00:00\n",
       "17413   2017-01-03 23:00:00\n",
       "Name: timestamp, Length: 17414, dtype: datetime64[ns]"
      ]
     },
     "execution_count": 6,
     "metadata": {},
     "output_type": "execute_result"
    }
   ],
   "source": [
    "bike_share_df.timestamp"
   ]
  },
  {
   "cell_type": "markdown",
   "id": "fd5dd953",
   "metadata": {},
   "source": [
    "## Feature Engineering"
   ]
  },
  {
   "cell_type": "code",
   "execution_count": 7,
   "id": "485cc7ba",
   "metadata": {},
   "outputs": [
    {
     "data": {
      "text/html": [
       "<div>\n",
       "<style scoped>\n",
       "    .dataframe tbody tr th:only-of-type {\n",
       "        vertical-align: middle;\n",
       "    }\n",
       "\n",
       "    .dataframe tbody tr th {\n",
       "        vertical-align: top;\n",
       "    }\n",
       "\n",
       "    .dataframe thead th {\n",
       "        text-align: right;\n",
       "    }\n",
       "</style>\n",
       "<table border=\"1\" class=\"dataframe\">\n",
       "  <thead>\n",
       "    <tr style=\"text-align: right;\">\n",
       "      <th></th>\n",
       "      <th>timestamp</th>\n",
       "      <th>cnt</th>\n",
       "      <th>t1</th>\n",
       "      <th>t2</th>\n",
       "      <th>hum</th>\n",
       "      <th>wind_speed</th>\n",
       "      <th>weather_code</th>\n",
       "      <th>is_holiday</th>\n",
       "      <th>is_weekend</th>\n",
       "      <th>season</th>\n",
       "      <th>year</th>\n",
       "      <th>year_month</th>\n",
       "      <th>month</th>\n",
       "      <th>day_of_month</th>\n",
       "      <th>day_of_week</th>\n",
       "      <th>hour</th>\n",
       "    </tr>\n",
       "  </thead>\n",
       "  <tbody>\n",
       "    <tr>\n",
       "      <th>0</th>\n",
       "      <td>2015-01-04 00:00:00</td>\n",
       "      <td>182</td>\n",
       "      <td>3.0</td>\n",
       "      <td>2.0</td>\n",
       "      <td>93.0</td>\n",
       "      <td>6.0</td>\n",
       "      <td>3.0</td>\n",
       "      <td>0.0</td>\n",
       "      <td>1.0</td>\n",
       "      <td>3.0</td>\n",
       "      <td>2015</td>\n",
       "      <td>2015-01</td>\n",
       "      <td>1</td>\n",
       "      <td>4</td>\n",
       "      <td>6</td>\n",
       "      <td>0</td>\n",
       "    </tr>\n",
       "    <tr>\n",
       "      <th>1</th>\n",
       "      <td>2015-01-04 01:00:00</td>\n",
       "      <td>138</td>\n",
       "      <td>3.0</td>\n",
       "      <td>2.5</td>\n",
       "      <td>93.0</td>\n",
       "      <td>5.0</td>\n",
       "      <td>1.0</td>\n",
       "      <td>0.0</td>\n",
       "      <td>1.0</td>\n",
       "      <td>3.0</td>\n",
       "      <td>2015</td>\n",
       "      <td>2015-01</td>\n",
       "      <td>1</td>\n",
       "      <td>4</td>\n",
       "      <td>6</td>\n",
       "      <td>1</td>\n",
       "    </tr>\n",
       "    <tr>\n",
       "      <th>2</th>\n",
       "      <td>2015-01-04 02:00:00</td>\n",
       "      <td>134</td>\n",
       "      <td>2.5</td>\n",
       "      <td>2.5</td>\n",
       "      <td>96.5</td>\n",
       "      <td>0.0</td>\n",
       "      <td>1.0</td>\n",
       "      <td>0.0</td>\n",
       "      <td>1.0</td>\n",
       "      <td>3.0</td>\n",
       "      <td>2015</td>\n",
       "      <td>2015-01</td>\n",
       "      <td>1</td>\n",
       "      <td>4</td>\n",
       "      <td>6</td>\n",
       "      <td>2</td>\n",
       "    </tr>\n",
       "    <tr>\n",
       "      <th>3</th>\n",
       "      <td>2015-01-04 03:00:00</td>\n",
       "      <td>72</td>\n",
       "      <td>2.0</td>\n",
       "      <td>2.0</td>\n",
       "      <td>100.0</td>\n",
       "      <td>0.0</td>\n",
       "      <td>1.0</td>\n",
       "      <td>0.0</td>\n",
       "      <td>1.0</td>\n",
       "      <td>3.0</td>\n",
       "      <td>2015</td>\n",
       "      <td>2015-01</td>\n",
       "      <td>1</td>\n",
       "      <td>4</td>\n",
       "      <td>6</td>\n",
       "      <td>3</td>\n",
       "    </tr>\n",
       "    <tr>\n",
       "      <th>4</th>\n",
       "      <td>2015-01-04 04:00:00</td>\n",
       "      <td>47</td>\n",
       "      <td>2.0</td>\n",
       "      <td>0.0</td>\n",
       "      <td>93.0</td>\n",
       "      <td>6.5</td>\n",
       "      <td>1.0</td>\n",
       "      <td>0.0</td>\n",
       "      <td>1.0</td>\n",
       "      <td>3.0</td>\n",
       "      <td>2015</td>\n",
       "      <td>2015-01</td>\n",
       "      <td>1</td>\n",
       "      <td>4</td>\n",
       "      <td>6</td>\n",
       "      <td>4</td>\n",
       "    </tr>\n",
       "  </tbody>\n",
       "</table>\n",
       "</div>"
      ],
      "text/plain": [
       "            timestamp  cnt   t1   t2    hum  wind_speed  weather_code  \\\n",
       "0 2015-01-04 00:00:00  182  3.0  2.0   93.0         6.0           3.0   \n",
       "1 2015-01-04 01:00:00  138  3.0  2.5   93.0         5.0           1.0   \n",
       "2 2015-01-04 02:00:00  134  2.5  2.5   96.5         0.0           1.0   \n",
       "3 2015-01-04 03:00:00   72  2.0  2.0  100.0         0.0           1.0   \n",
       "4 2015-01-04 04:00:00   47  2.0  0.0   93.0         6.5           1.0   \n",
       "\n",
       "   is_holiday  is_weekend  season  year year_month  month  day_of_month  \\\n",
       "0         0.0         1.0     3.0  2015    2015-01      1             4   \n",
       "1         0.0         1.0     3.0  2015    2015-01      1             4   \n",
       "2         0.0         1.0     3.0  2015    2015-01      1             4   \n",
       "3         0.0         1.0     3.0  2015    2015-01      1             4   \n",
       "4         0.0         1.0     3.0  2015    2015-01      1             4   \n",
       "\n",
       "   day_of_week  hour  \n",
       "0            6     0  \n",
       "1            6     1  \n",
       "2            6     2  \n",
       "3            6     3  \n",
       "4            6     4  "
      ]
     },
     "execution_count": 7,
     "metadata": {},
     "output_type": "execute_result"
    }
   ],
   "source": [
    "bike_share_df['year'] = bike_share_df.timestamp.dt.year\n",
    "bike_share_df[\"year_month\"] = bike_share_df.timestamp.dt.strftime('%Y-%m')\n",
    "bike_share_df[\"month\"] = bike_share_df.timestamp.dt.month\n",
    "bike_share_df[\"day_of_month\"] = bike_share_df.timestamp.dt.day\n",
    "bike_share_df[\"day_of_week\"] = bike_share_df.timestamp.dt.dayofweek\n",
    "bike_share_df[\"hour\"] = bike_share_df.timestamp.dt.hour\n",
    "bike_share_df.head()"
   ]
  },
  {
   "cell_type": "markdown",
   "id": "3b4d5be6",
   "metadata": {},
   "source": [
    "## Exploratory Analysis"
   ]
  },
  {
   "cell_type": "markdown",
   "id": "ad9ec30f",
   "metadata": {},
   "source": [
    "## Month on Month Bike Shares from 2015-2017"
   ]
  },
  {
   "cell_type": "code",
   "execution_count": 10,
   "id": "aba5b8a6",
   "metadata": {},
   "outputs": [
    {
     "data": {
      "text/plain": [
       "([0,\n",
       "  1,\n",
       "  2,\n",
       "  3,\n",
       "  4,\n",
       "  5,\n",
       "  6,\n",
       "  7,\n",
       "  8,\n",
       "  9,\n",
       "  10,\n",
       "  11,\n",
       "  12,\n",
       "  13,\n",
       "  14,\n",
       "  15,\n",
       "  16,\n",
       "  17,\n",
       "  18,\n",
       "  19,\n",
       "  20,\n",
       "  21,\n",
       "  22,\n",
       "  23,\n",
       "  24],\n",
       " [Text(0, 0, ''),\n",
       "  Text(0, 0, ''),\n",
       "  Text(0, 0, ''),\n",
       "  Text(0, 0, ''),\n",
       "  Text(0, 0, ''),\n",
       "  Text(0, 0, ''),\n",
       "  Text(0, 0, ''),\n",
       "  Text(0, 0, ''),\n",
       "  Text(0, 0, ''),\n",
       "  Text(0, 0, ''),\n",
       "  Text(0, 0, ''),\n",
       "  Text(0, 0, ''),\n",
       "  Text(0, 0, ''),\n",
       "  Text(0, 0, ''),\n",
       "  Text(0, 0, ''),\n",
       "  Text(0, 0, ''),\n",
       "  Text(0, 0, ''),\n",
       "  Text(0, 0, ''),\n",
       "  Text(0, 0, ''),\n",
       "  Text(0, 0, ''),\n",
       "  Text(0, 0, ''),\n",
       "  Text(0, 0, ''),\n",
       "  Text(0, 0, ''),\n",
       "  Text(0, 0, ''),\n",
       "  Text(0, 0, '')])"
      ]
     },
     "execution_count": 10,
     "metadata": {},
     "output_type": "execute_result"
    },
    {
     "data": {
      "image/png": "[encoded data removed]",
      "text/plain": [
       "<Figure size 1080x360 with 1 Axes>"
      ]
     },
     "metadata": {},
     "output_type": "display_data"
    }
   ],
   "source": [
    "fig, ax = plt.subplots(figsize=(15,5), ncols=1)\n",
    "sns.lineplot(x=bike_share_df['year_month'], y=bike_share_df['cnt'], ci=None)\n",
    "ax.grid(False, axis='x')\n",
    "plt.xticks(rotation=25)"
   ]
  },
  {
   "cell_type": "markdown",
   "id": "3e19f7df",
   "metadata": {},
   "source": [
    "## Bike Shares per Season"
   ]
  },
  {
   "cell_type": "code",
   "execution_count": 13,
   "id": "6fa7d307",
   "metadata": {},
   "outputs": [
    {
     "data": {
      "text/plain": [
       "(array([-5.,  0.,  5., 10., 15., 20., 25.]),\n",
       " [Text(0, 0, ''),\n",
       "  Text(0, 0, ''),\n",
       "  Text(0, 0, ''),\n",
       "  Text(0, 0, ''),\n",
       "  Text(0, 0, ''),\n",
       "  Text(0, 0, ''),\n",
       "  Text(0, 0, '')])"
      ]
     },
     "execution_count": 13,
     "metadata": {},
     "output_type": "execute_result"
    },
    {
     "data": {
      "image/png": "[encoded data removed]",
      "text/plain": [
       "<Figure size 1080x360 with 1 Axes>"
      ]
     },
     "metadata": {},
     "output_type": "display_data"
    }
   ],
   "source": [
    "fig, ax = plt.subplots(figsize=(15,5), ncols=1)\n",
    "sns.lineplot(x=bike_share_df['hour'], y=bike_share_df['cnt'], hue=bike_share_df['is_holiday'], ci=None)\n",
    "ax.grid(False, axis='x')\n",
    "ax.legend(labels=['Normal Day', 'Holiday'])\n",
    "plt.xticks(rotation=25)\n"
   ]
  },
  {
   "cell_type": "markdown",
   "id": "e5b939bf",
   "metadata": {},
   "source": [
    "## Bike Shares Holiday Vs Normal Day"
   ]
  },
  {
   "cell_type": "code",
   "execution_count": 72,
   "id": "a6ff379f",
   "metadata": {},
   "outputs": [
    {
     "data": {
      "image/png": "[encoded data removed]",
      "text/plain": [
       "<Figure size 1080x360 with 1 Axes>"
      ]
     },
     "metadata": {},
     "output_type": "display_data"
    }
   ],
   "source": [
    "fig, ax = plt.subplots(figsize=(15,5), ncols=1)\n",
    "sns.lineplot(x=bike_share_df['hour'], y=bike_share_df['cnt'], hue=bike_share_df['season'], ci=None)\n",
    "ax.grid(False, axis='x')\n",
    "ax.legend(labels=['spring', 'summer', 'fall', 'winter'])\n",
    "plt.xticks(rotation=25)"
   ]
  },
  {
   "cell_type": "markdown",
   "id": "3bfd4661",
   "metadata": {},
   "source": [
    "## Model Development"
   ]
  },
  {
   "cell_type": "markdown",
   "id": "af03ebc5",
   "metadata": {},
   "source": [
    "Given that this is time series data we cant use the train test split function. This is because with train test split it jumbles our data points ignoring the temporal nature of our data. As a work around we have to manually define which dates will be used for training and which ones for testing."
   ]
  },
  {
   "cell_type": "code",
   "execution_count": 14,
   "id": "64c8f577",
   "metadata": {},
   "outputs": [
    {
     "name": "stdout",
     "output_type": "stream",
     "text": [
      "(12267, 13)\n",
      "(12267, 13)\n"
     ]
    },
    {
     "data": {
      "text/html": [
       "<div>\n",
       "<style scoped>\n",
       "    .dataframe tbody tr th:only-of-type {\n",
       "        vertical-align: middle;\n",
       "    }\n",
       "\n",
       "    .dataframe tbody tr th {\n",
       "        vertical-align: top;\n",
       "    }\n",
       "\n",
       "    .dataframe thead th {\n",
       "        text-align: right;\n",
       "    }\n",
       "</style>\n",
       "<table border=\"1\" class=\"dataframe\">\n",
       "  <thead>\n",
       "    <tr style=\"text-align: right;\">\n",
       "      <th></th>\n",
       "      <th>t1</th>\n",
       "      <th>t2</th>\n",
       "      <th>hum</th>\n",
       "      <th>wind_speed</th>\n",
       "      <th>weather_code</th>\n",
       "      <th>is_holiday</th>\n",
       "      <th>is_weekend</th>\n",
       "      <th>season</th>\n",
       "      <th>year</th>\n",
       "      <th>month</th>\n",
       "      <th>day_of_month</th>\n",
       "      <th>day_of_week</th>\n",
       "      <th>hour</th>\n",
       "    </tr>\n",
       "  </thead>\n",
       "  <tbody>\n",
       "    <tr>\n",
       "      <th>0</th>\n",
       "      <td>3.0</td>\n",
       "      <td>2.0</td>\n",
       "      <td>93.0</td>\n",
       "      <td>6.0</td>\n",
       "      <td>3.0</td>\n",
       "      <td>0.0</td>\n",
       "      <td>1.0</td>\n",
       "      <td>3.0</td>\n",
       "      <td>2015</td>\n",
       "      <td>1</td>\n",
       "      <td>4</td>\n",
       "      <td>6</td>\n",
       "      <td>0</td>\n",
       "    </tr>\n",
       "    <tr>\n",
       "      <th>1</th>\n",
       "      <td>3.0</td>\n",
       "      <td>2.5</td>\n",
       "      <td>93.0</td>\n",
       "      <td>5.0</td>\n",
       "      <td>1.0</td>\n",
       "      <td>0.0</td>\n",
       "      <td>1.0</td>\n",
       "      <td>3.0</td>\n",
       "      <td>2015</td>\n",
       "      <td>1</td>\n",
       "      <td>4</td>\n",
       "      <td>6</td>\n",
       "      <td>1</td>\n",
       "    </tr>\n",
       "    <tr>\n",
       "      <th>2</th>\n",
       "      <td>2.5</td>\n",
       "      <td>2.5</td>\n",
       "      <td>96.5</td>\n",
       "      <td>0.0</td>\n",
       "      <td>1.0</td>\n",
       "      <td>0.0</td>\n",
       "      <td>1.0</td>\n",
       "      <td>3.0</td>\n",
       "      <td>2015</td>\n",
       "      <td>1</td>\n",
       "      <td>4</td>\n",
       "      <td>6</td>\n",
       "      <td>2</td>\n",
       "    </tr>\n",
       "    <tr>\n",
       "      <th>3</th>\n",
       "      <td>2.0</td>\n",
       "      <td>2.0</td>\n",
       "      <td>100.0</td>\n",
       "      <td>0.0</td>\n",
       "      <td>1.0</td>\n",
       "      <td>0.0</td>\n",
       "      <td>1.0</td>\n",
       "      <td>3.0</td>\n",
       "      <td>2015</td>\n",
       "      <td>1</td>\n",
       "      <td>4</td>\n",
       "      <td>6</td>\n",
       "      <td>3</td>\n",
       "    </tr>\n",
       "    <tr>\n",
       "      <th>4</th>\n",
       "      <td>2.0</td>\n",
       "      <td>0.0</td>\n",
       "      <td>93.0</td>\n",
       "      <td>6.5</td>\n",
       "      <td>1.0</td>\n",
       "      <td>0.0</td>\n",
       "      <td>1.0</td>\n",
       "      <td>3.0</td>\n",
       "      <td>2015</td>\n",
       "      <td>1</td>\n",
       "      <td>4</td>\n",
       "      <td>6</td>\n",
       "      <td>4</td>\n",
       "    </tr>\n",
       "  </tbody>\n",
       "</table>\n",
       "</div>"
      ],
      "text/plain": [
       "    t1   t2    hum  wind_speed  weather_code  is_holiday  is_weekend  season  \\\n",
       "0  3.0  2.0   93.0         6.0           3.0         0.0         1.0     3.0   \n",
       "1  3.0  2.5   93.0         5.0           1.0         0.0         1.0     3.0   \n",
       "2  2.5  2.5   96.5         0.0           1.0         0.0         1.0     3.0   \n",
       "3  2.0  2.0  100.0         0.0           1.0         0.0         1.0     3.0   \n",
       "4  2.0  0.0   93.0         6.5           1.0         0.0         1.0     3.0   \n",
       "\n",
       "   year  month  day_of_month  day_of_week  hour  \n",
       "0  2015      1             4            6     0  \n",
       "1  2015      1             4            6     1  \n",
       "2  2015      1             4            6     2  \n",
       "3  2015      1             4            6     3  \n",
       "4  2015      1             4            6     4  "
      ]
     },
     "execution_count": 14,
     "metadata": {},
     "output_type": "execute_result"
    }
   ],
   "source": [
    "model_data = bike_share_df.copy(deep=True)\n",
    "model_data.drop(labels=['timestamp'], axis=1, inplace=True)\n",
    "\n",
    "model_data_train = model_data[model_data.year_month < '2016-06']\n",
    "model_data_test = model_data[model_data.year_month < '2016-06']\n",
    "\n",
    "\n",
    "X_train = model_data_train.drop(labels=['cnt'], axis=1)\n",
    "X_test = model_data_test.drop(labels=['cnt'], axis=1)\n",
    "y_train = model_data_train['cnt']\n",
    "y_test = model_data_test['cnt']\n",
    "\n",
    "X_train_ts = X_train.copy(deep=True) \n",
    "X_test_ts = X_test.copy(deep=True)\n",
    "\n",
    "X_train.drop(labels=['year_month'], axis=1, inplace=True)\n",
    "X_test.drop(labels=['year_month'], axis=1, inplace=True)\n",
    "\n",
    "print(X_train.shape)\n",
    "print(X_test.shape)\n",
    "X_test.head()"
   ]
  },
  {
   "cell_type": "markdown",
   "id": "4da4b4ad",
   "metadata": {},
   "source": [
    "- max_depth: The maximum depth of the tree. If None, then nodes are expanded until all leaves are pure or until all leaves contain less than min_samples_split samples.\n",
    "- min_samples_split: default=2. The minimum number of samples required to split an internal node. If float, then `min_samples_split` is a fraction and `ceil(min_samples_split * n_samples)` are the minimum number of samples for each split.\n",
    "- min_samples_leaf: default=1. The minimum number of samples required to be at a leaf node. If float, then `min_samples_leaf` is a fraction and `ceil(min_samples_leaf * n_samples)` are the minimum number of samples for each split."
   ]
  },
  {
   "cell_type": "code",
   "execution_count": 16,
   "id": "14a0677e",
   "metadata": {},
   "outputs": [],
   "source": [
    "from sklearn.tree import DecisionTreeRegressor\n",
    "from sklearn import tree"
   ]
  },
  {
   "cell_type": "markdown",
   "id": "fa277a33",
   "metadata": {},
   "source": [
    "By default if we dont control the depth and split of the decision tree the algorithm will drill down up to a point wherein the leaf nodes will be only have 1 sample. This leads to overfitting since the algorithm has memorized the rules of the training data which may not necessarily be true for real world data. Let's visualize this by using only a portion of our training data."
   ]
  },
  {
   "cell_type": "code",
   "execution_count": null,
   "id": "189ceff3",
   "metadata": {},
   "outputs": [
    {
     "name": "stdout",
     "output_type": "stream",
     "text": [
      "R-squared 1.0\n"
     ]
    }
   ],
   "source": [
    "regressor = DecisionTreeRegressor(random_state=0)\n",
    "regressor.fit(X_train.head(50), y_train.head(50)) # doing this for visualization\n",
    "print(f\"R-squared {regressor.score(X_train.head(50), y_train.head(50))}\")\n",
    "fig, axes = plt.subplots(nrows = 1,ncols = 1,figsize = (15,15), dpi=500)\n",
    "tree.plot_tree(regressor, feature_names=X_train.columns, filled=True);\n",
    "fig.savefig(\"decistion_tree.png\")\n"
   ]
  },
  {
   "cell_type": "markdown",
   "id": "f3c3089b",
   "metadata": {},
   "source": [
    "Example if we use the max_depth hyperparameter this will prune our tree based on how deep we want our tree to grow. This leads to a more shallow tree and leaf nodes with more than 1 sample."
   ]
  },
  {
   "cell_type": "code",
   "execution_count": null,
   "id": "bc98f038",
   "metadata": {},
   "outputs": [],
   "source": []
  },
  {
   "cell_type": "markdown",
   "id": "24595cca",
   "metadata": {},
   "source": [
    "Let's use RandomizedSearchCV to help us find the optimal settings for our decision tree. Because of the temporal nature of our data we cant use the vanilla cross validation since this jumbles our data. To work through this we will use the `TimeSeriesSplit` function. This function will split our data in fixed time intervals additionally successive training sets are supersets of those that come before them."
   ]
  },
  {
   "cell_type": "code",
   "execution_count": 213,
   "id": "5d37c9b5",
   "metadata": {},
   "outputs": [],
   "source": [
    "from sklearn.model_selection import TimeSeriesSplit"
   ]
  },
  {
   "cell_type": "code",
   "execution_count": 222,
   "id": "06a40a22",
   "metadata": {},
   "outputs": [
    {
     "name": "stdout",
     "output_type": "stream",
     "text": [
      "(array([   0,    1,    2, ..., 2044, 2045, 2046]), array([2047, 2048, 2049, ..., 4088, 4089, 4090]))\n",
      "(array([   0,    1,    2, ..., 4088, 4089, 4090]), array([4091, 4092, 4093, ..., 6132, 6133, 6134]))\n",
      "(array([   0,    1,    2, ..., 6132, 6133, 6134]), array([6135, 6136, 6137, ..., 8176, 8177, 8178]))\n",
      "(array([   0,    1,    2, ..., 8176, 8177, 8178]), array([ 8179,  8180,  8181, ..., 10220, 10221, 10222]))\n",
      "(array([    0,     1,     2, ..., 10220, 10221, 10222]), array([10223, 10224, 10225, ..., 12264, 12265, 12266]))\n"
     ]
    }
   ],
   "source": [
    "tss = TimeSeriesSplit(gap=0, max_train_size=None, n_splits=5, test_size=None)\n",
    "for i in tss.split(model_data_train):\n",
    "    print(i)"
   ]
  },
  {
   "cell_type": "code",
   "execution_count": null,
   "id": "9b565f95",
   "metadata": {},
   "outputs": [],
   "source": []
  },
  {
   "cell_type": "markdown",
   "id": "78b74029",
   "metadata": {},
   "source": [
    "### Other Regression Metrics"
   ]
  },
  {
   "cell_type": "code",
   "execution_count": 226,
   "id": "91fa4b5e",
   "metadata": {},
   "outputs": [],
   "source": [
    "from sklearn.metrics import mean_squared_error\n",
    "from sklearn.metrics import mean_absolute_error"
   ]
  },
  {
   "cell_type": "markdown",
   "id": "a6b90d52",
   "metadata": {},
   "source": [
    "2 common regression metrics being used besides $R^2$ is the Root Mean Squared Error and Mean absolute error. Both metrics can have values from 0 to $\\infty$ and gives us the average model prediction error of the unit we are using for our target varaible. For example if our target variable is in inches the MAE and RMSE metrics gives us the average model prediction error in inches. \n",
    "\n",
    "The formula for RMSE is \n",
    "<center>$RMSE = \\sqrt{\\frac{1}{n}\\Sigma_{i=1}^{n}{\\Big(\\frac{predicted_i -actual_i}{N}\\Big)^2}}$</center>\n",
    "\n",
    "While the formula for MAE is \n",
    "<center>$MAE = {\\frac{1}{n}\\Sigma_{i=1}^{n}|predicted_i - actual_i|}$</center>\n",
    "\n",
    "The difference between the 2 is RMSE penalizes the model more for large errors due to the squaring of the residual. This makes it more sensitive to outliers compared to MAE which computes the residual only. "
   ]
  },
  {
   "cell_type": "code",
   "execution_count": null,
   "id": "f2e424ee",
   "metadata": {},
   "outputs": [],
   "source": []
  },
  {
   "cell_type": "markdown",
   "id": "db1a0b89",
   "metadata": {},
   "source": [
    "Plot actual and predicted bike share count from the test data"
   ]
  },
  {
   "cell_type": "code",
   "execution_count": null,
   "id": "8d52c792",
   "metadata": {},
   "outputs": [],
   "source": []
  },
  {
   "cell_type": "markdown",
   "id": "2a5295cb",
   "metadata": {},
   "source": [
    "Plot feature importance of the model"
   ]
  },
  {
   "cell_type": "code",
   "execution_count": null,
   "id": "cb9c9e2c",
   "metadata": {},
   "outputs": [],
   "source": []
  },
  {
   "cell_type": "markdown",
   "id": "1e582586",
   "metadata": {},
   "source": [
    "Now that you also have knowledge on other machine learning models, you are able to compare their performance "
   ]
  },
  {
   "cell_type": "code",
   "execution_count": 230,
   "id": "0186ee16",
   "metadata": {},
   "outputs": [
    {
     "data": {
      "text/plain": [
       "RandomizedSearchCV(cv=TimeSeriesSplit(gap=0, max_train_size=None, n_splits=5, test_size=None),\n",
       "                   estimator=SVR(),\n",
       "                   param_distributions={'C': [0.1, 1, 10, 100, 1000],\n",
       "                                        'gamma': [1, 0.1, 0.01, 0.001, 0.0001],\n",
       "                                        'kernel': ['rbf']})"
      ]
     },
     "execution_count": 230,
     "metadata": {},
     "output_type": "execute_result"
    }
   ],
   "source": [
    "from sklearn.svm import SVR\n",
    "param_grid = {'C': [0.1, 1, 10, 100, 1000],\n",
    "              'gamma': [1, 0.1, 0.01, 0.001, 0.0001],\n",
    "              'kernel': ['rbf']\n",
    "             }\n",
    "\n",
    "svr = SVR()\n",
    "svr_search = RandomizedSearchCV(svr, param_grid, cv=tss, n_iter=10)\n",
    "svr_search.fit(X_train, y_train)"
   ]
  },
  {
   "cell_type": "code",
   "execution_count": 231,
   "id": "d3b54204",
   "metadata": {},
   "outputs": [
    {
     "name": "stdout",
     "output_type": "stream",
     "text": [
      "RMSE = 668.7295814545247\n",
      "MAE = 309.76375116056283\n"
     ]
    }
   ],
   "source": [
    "y_pred = svr_search.best_estimator_.predict(X_test)\n",
    "\n",
    "print(f\"RMSE = {mean_squared_error(y_test, y_pred, squared=False)}\")\n",
    "print(f\"MAE = {mean_absolute_error(y_test, y_pred)}\")"
   ]
  },
  {
   "cell_type": "code",
   "execution_count": 232,
   "id": "77db08b5",
   "metadata": {},
   "outputs": [
    {
     "data": {
      "text/html": [
       "<div>\n",
       "<style scoped>\n",
       "    .dataframe tbody tr th:only-of-type {\n",
       "        vertical-align: middle;\n",
       "    }\n",
       "\n",
       "    .dataframe tbody tr th {\n",
       "        vertical-align: top;\n",
       "    }\n",
       "\n",
       "    .dataframe thead th {\n",
       "        text-align: right;\n",
       "    }\n",
       "</style>\n",
       "<table border=\"1\" class=\"dataframe\">\n",
       "  <thead>\n",
       "    <tr style=\"text-align: right;\">\n",
       "      <th></th>\n",
       "      <th>algo</th>\n",
       "      <th>R2</th>\n",
       "      <th>RMSE</th>\n",
       "      <th>MAE</th>\n",
       "    </tr>\n",
       "  </thead>\n",
       "  <tbody>\n",
       "    <tr>\n",
       "      <th>0</th>\n",
       "      <td>SVM</td>\n",
       "      <td>0.588422</td>\n",
       "      <td>668.729581</td>\n",
       "      <td>309.763751</td>\n",
       "    </tr>\n",
       "    <tr>\n",
       "      <th>1</th>\n",
       "      <td>Decision Tree</td>\n",
       "      <td>0.534630</td>\n",
       "      <td>711.087956</td>\n",
       "      <td>480.703212</td>\n",
       "    </tr>\n",
       "  </tbody>\n",
       "</table>\n",
       "</div>"
      ],
      "text/plain": [
       "            algo        R2        RMSE         MAE\n",
       "0            SVM  0.588422  668.729581  309.763751\n",
       "1  Decision Tree  0.534630  711.087956  480.703212"
      ]
     },
     "execution_count": 232,
     "metadata": {},
     "output_type": "execute_result"
    }
   ],
   "source": [
    "svr_y_pred = svr_search.best_estimator_.predict(X_test)\n",
    "dtree_y_pred = reg.best_estimator_.predict(X_test)\n",
    "\n",
    "res_df = pd.DataFrame()\n",
    "res_df['algo'] = ['SVM', 'Decision Tree']\n",
    "res_df['R2'] = [svr_search.best_estimator_.score(X_test, y_test),\n",
    "                reg.best_estimator_.score(X_test, y_test)]\n",
    "res_df['RMSE'] = [mean_squared_error(y_test, svr_y_pred, squared=False),\n",
    "                  mean_squared_error(y_test, dtree_y_pred, squared=False)]\n",
    "res_df['MAE'] = [mean_absolute_error(y_test, svr_y_pred),\n",
    "                  mean_absolute_error(y_test, dtree_y_pred)]\n",
    "res_df"
   ]
  },
  {
   "cell_type": "code",
   "execution_count": 208,
   "id": "674e075d",
   "metadata": {},
   "outputs": [
    {
     "data": {
      "text/html": [
       "<div>\n",
       "<style scoped>\n",
       "    .dataframe tbody tr th:only-of-type {\n",
       "        vertical-align: middle;\n",
       "    }\n",
       "\n",
       "    .dataframe tbody tr th {\n",
       "        vertical-align: top;\n",
       "    }\n",
       "\n",
       "    .dataframe thead th {\n",
       "        text-align: right;\n",
       "    }\n",
       "</style>\n",
       "<table border=\"1\" class=\"dataframe\">\n",
       "  <thead>\n",
       "    <tr style=\"text-align: right;\">\n",
       "      <th></th>\n",
       "      <th>algo</th>\n",
       "      <th>variable</th>\n",
       "      <th>value</th>\n",
       "    </tr>\n",
       "  </thead>\n",
       "  <tbody>\n",
       "    <tr>\n",
       "      <th>0</th>\n",
       "      <td>SVM</td>\n",
       "      <td>RMSE</td>\n",
       "      <td>808.793648</td>\n",
       "    </tr>\n",
       "    <tr>\n",
       "      <th>1</th>\n",
       "      <td>Decision Tree</td>\n",
       "      <td>RMSE</td>\n",
       "      <td>711.087956</td>\n",
       "    </tr>\n",
       "    <tr>\n",
       "      <th>2</th>\n",
       "      <td>SVM</td>\n",
       "      <td>MAE</td>\n",
       "      <td>441.980904</td>\n",
       "    </tr>\n",
       "    <tr>\n",
       "      <th>3</th>\n",
       "      <td>Decision Tree</td>\n",
       "      <td>MAE</td>\n",
       "      <td>480.703212</td>\n",
       "    </tr>\n",
       "  </tbody>\n",
       "</table>\n",
       "</div>"
      ],
      "text/plain": [
       "            algo variable       value\n",
       "0            SVM     RMSE  808.793648\n",
       "1  Decision Tree     RMSE  711.087956\n",
       "2            SVM      MAE  441.980904\n",
       "3  Decision Tree      MAE  480.703212"
      ]
     },
     "execution_count": 208,
     "metadata": {},
     "output_type": "execute_result"
    }
   ],
   "source": [
    "res_melted = pd.melt(res_df[['algo', 'RMSE', 'MAE']], id_vars=['algo'], value_vars=['RMSE', 'MAE'])\n",
    "res_melted"
   ]
  },
  {
   "cell_type": "code",
   "execution_count": 211,
   "id": "01bb77f7",
   "metadata": {},
   "outputs": [
    {
     "data": {
      "text/plain": [
       "<matplotlib.legend.Legend at 0x1e49c0ed508>"
      ]
     },
     "execution_count": 211,
     "metadata": {},
     "output_type": "execute_result"
    },
    {
     "data": {
      "image/png": "[encoded data removed]",
      "text/plain": [
       "<Figure size 720x576 with 1 Axes>"
      ]
     },
     "metadata": {},
     "output_type": "display_data"
    }
   ],
   "source": [
    "fig, ax = plt.subplots(figsize=(10,8), ncols=1)\n",
    "sns.barplot(x=\"algo\", y=\"value\", hue=\"variable\", data=res_melted)\n",
    "ax.set_title('Comparison of Model Performance')\n",
    "ax.set_xlabel('algorithm')\n",
    "ax.legend(title='metric')"
   ]
  }
 ],
 "metadata": {
  "kernelspec": {
   "display_name": "Python 3",
   "language": "python",
   "name": "python3"
  },
  "language_info": {
   "codemirror_mode": {
    "name": "ipython",
    "version": 3
   },
   "file_extension": ".py",
   "mimetype": "text/x-python",
   "name": "python",
   "nbconvert_exporter": "python",
   "pygments_lexer": "ipython3",
   "version": "3.8.10"
  }
 },
 "nbformat": 4,
 "nbformat_minor": 5
}
