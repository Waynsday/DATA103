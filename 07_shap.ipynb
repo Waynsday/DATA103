{
 "cells": [
  {
   "cell_type": "code",
   "execution_count": 1,
   "metadata": {},
   "outputs": [],
   "source": [
    "import pandas as pd \n",
    "import shap\n",
    "import numpy as np\n",
    "from sklearn.neighbors import KNeighborsClassifier\n",
    "from sklearn import datasets\n",
    "from sklearn.model_selection import train_test_split\n",
    "from sklearn.model_selection import GridSearchCV\n",
    "from sklearn.metrics import precision_score, recall_score, f1_score\n"
   ]
  },
  {
   "cell_type": "code",
   "execution_count": null,
   "metadata": {},
   "outputs": [],
   "source": [
    "!conda install -c conda-forge shap"
   ]
  },
  {
   "cell_type": "code",
   "execution_count": null,
   "metadata": {},
   "outputs": [],
   "source": [
    "wine_df = pd.read_csv(\"../data/winequality-red.csv\")\n",
    "wine_df['quality_classif'] = wine_df.quality.apply(lambda x: 1 if x >= 7 else 0)\n",
    "\n",
    "X = wine_df.loc[:, 'fixed acidity': 'alcohol']\n",
    "y = wine_df['quality_classif']\n",
    "\n",
    "X_train, X_test, y_train, y_test = train_test_split(X, y, test_size=0.2, random_state=42)"
   ]
  },
  {
   "cell_type": "code",
   "execution_count": null,
   "metadata": {},
   "outputs": [],
   "source": [
    "param_grid = {'n_neighbors': range(5,20)}\n",
    "knn_clf_grid = GridSearchCV(KNeighborsClassifier(), param_grid, refit = True, verbose = 3)\n",
    "knn_clf_grid.fit(X_train, y_train)"
   ]
  },
  {
   "cell_type": "code",
   "execution_count": null,
   "metadata": {},
   "outputs": [],
   "source": [
    "y_pred = knn_clf_grid.best_estimator_.predict(X_test)\n",
    "\n",
    "print(knn_clf_grid.best_params_)\n",
    "print(f\"accuracy {knn_clf_grid.best_estimator_.score(X_test, y_test)}\")\n",
    "print(f\"precision {precision_score(y_test, y_pred)}\")\n",
    "print(f\"recall {recall_score(y_test, y_pred)}\")\n",
    "print(f\"f1 {f1_score(y_test, y_pred)}\")"
   ]
  },
  {
   "cell_type": "code",
   "execution_count": null,
   "metadata": {},
   "outputs": [],
   "source": [
    "knn_clf_grid.best_estimator_"
   ]
  },
  {
   "cell_type": "markdown",
   "metadata": {},
   "source": [
    "## Look into Local Explainability for a few data points"
   ]
  },
  {
   "cell_type": "markdown",
   "metadata": {},
   "source": [
    "#### Understand why an instance was classified as low quality"
   ]
  },
  {
   "cell_type": "code",
   "execution_count": null,
   "metadata": {},
   "outputs": [],
   "source": [
    "shap.initjs() # we need to run this so that our plots will not cause an error\n",
    "\n",
    "explainer = shap.KernelExplainer(knn_clf_grid.best_estimator_.predict_proba, shap.sample(X_train)) \n",
    "\n",
    "index = 0\n",
    "# Get shap values for the test data observation whose index is 0, i.e. first observation in the test set\n",
    "shap_values = explainer.shap_values(X_test.iloc[index,:])\n",
    "\n",
    "target_class = 1 \n",
    "# Generate a force plot for this first observation using the derived shap values\n",
    "shap.force_plot(explainer.expected_value[target_class], shap_values[target_class], X_test.iloc[index])"
   ]
  },
  {
   "cell_type": "markdown",
   "metadata": {},
   "source": [
    "The `expected_value` attribute is the average of the probabilities for a given class target. For this particular case average probability values for a wine classified as low class is 88% while of high class it is at 11%."
   ]
  },
  {
   "cell_type": "code",
   "execution_count": null,
   "metadata": {},
   "outputs": [],
   "source": [
    "knn_clf_grid.best_estimator_.predict_proba(X_test).mean(axis=0)"
   ]
  },
  {
   "cell_type": "code",
   "execution_count": null,
   "metadata": {},
   "outputs": [],
   "source": [
    "explainer.expected_value"
   ]
  },
  {
   "cell_type": "markdown",
   "metadata": {},
   "source": [
    "### Understand why an instance was classified as high quality"
   ]
  },
  {
   "cell_type": "code",
   "execution_count": null,
   "metadata": {},
   "outputs": [],
   "source": [
    "# we look for an instance wherein the instance was correctly classified as good quality\n",
    "temp = y_test.reset_index()\n",
    "temp['pred'] = y_pred\n",
    "temp[temp.quality_classif > 0]"
   ]
  },
  {
   "cell_type": "code",
   "execution_count": null,
   "metadata": {},
   "outputs": [],
   "source": [
    "shap.initjs() # we need to run this so that our plots will not cause an error\n",
    "\n",
    "explainer = shap.KernelExplainer(knn_clf_grid.best_estimator_.predict_proba, shap.sample(X_train)) \n",
    "\n",
    "index = 188\n",
    "# Get shap values for the test data observation whose index is 0, i.e. first observation in the test set\n",
    "shap_values = explainer.shap_values(X_test.iloc[index,:])\n",
    "\n",
    "target_class = 1 \n",
    "# Generate a force plot for this first observation using the derived shap values\n",
    "shap.force_plot(explainer.expected_value[target_class], shap_values[target_class], X_test.iloc[index])"
   ]
  },
  {
   "cell_type": "markdown",
   "metadata": {},
   "source": [
    "## Look into Global Explainability for a few data points\n"
   ]
  },
  {
   "cell_type": "code",
   "execution_count": null,
   "metadata": {},
   "outputs": [],
   "source": [
    "explainer = shap.KernelExplainer(knn_clf_grid.best_estimator_.predict, shap.sample(X_train)) \n",
    "shap_values = explainer.shap_values(X_test.iloc[:100,:])"
   ]
  },
  {
   "cell_type": "code",
   "execution_count": null,
   "metadata": {},
   "outputs": [],
   "source": [
    "shap.summary_plot(shap_values, X_test.iloc[:100, :])"
   ]
  },
  {
   "cell_type": "markdown",
   "metadata": {},
   "source": [
    "## Attempt to use Tree Based Algo"
   ]
  },
  {
   "cell_type": "code",
   "execution_count": null,
   "metadata": {},
   "outputs": [],
   "source": [
    "import xgboost as xgb\n",
    "from sklearn.model_selection import GridSearchCV, RandomizedSearchCV"
   ]
  },
  {
   "cell_type": "code",
   "execution_count": null,
   "metadata": {},
   "outputs": [],
   "source": [
    "dtrain = xgb.DMatrix(X_train, label=y_train)\n",
    "dtest = xgb.DMatrix(X_test, label=y_test)"
   ]
  },
  {
   "cell_type": "code",
   "execution_count": null,
   "metadata": {},
   "outputs": [],
   "source": [
    "params = {\n",
    "    'n_estimators': range(100, 500, 50),\n",
    "    'max_depth': range(5,50,5),\n",
    "    'learning_rate': [0.0001, 0.001, 0.1, 1],\n",
    "    'gamma': np.arange(0.5, 2, .2),\n",
    "    'reg_alpha': [0, 0.5, 1],\n",
    "    'reg_lambda': [1, 1.5, 2, 3, 4.5],\n",
    "}\n",
    "\n",
    "clf = xgb.XGBClassifier(objective='binary:logistic', eval_metric=\"logloss\",  use_label_encoder=False)\n",
    "clf_grid = RandomizedSearchCV(clf, params, n_iter=250)\n",
    "clf_grid.fit(X_train, y_train)"
   ]
  },
  {
   "cell_type": "code",
   "execution_count": null,
   "metadata": {},
   "outputs": [],
   "source": [
    "y_pred = clf_grid.best_estimator_.predict(X_test)\n",
    "\n",
    "print(clf_grid.best_params_)\n",
    "print(f\"accuracy {clf_grid.best_estimator_.score(X_test, y_test)}\")\n",
    "print(f\"precision {precision_score(y_test, y_pred)}\")\n",
    "print(f\"recall {recall_score(y_test, y_pred)}\")\n",
    "print(f\"f1 {f1_score(y_test, y_pred)}\")"
   ]
  },
  {
   "cell_type": "code",
   "execution_count": null,
   "metadata": {},
   "outputs": [],
   "source": [
    "explainer = shap.TreeExplainer(clf_grid.best_estimator_, \n",
    "                               shap.sample(X_train),\n",
    "                               feature_perturbation='interventional',\n",
    "                               model_output='predict_proba')\n",
    "shap_values = explainer.shap_values(X_test)"
   ]
  },
  {
   "cell_type": "code",
   "execution_count": null,
   "metadata": {},
   "outputs": [],
   "source": [
    "clf_grid.best_estimator_.predict_proba(X_test).mean(axis=0)"
   ]
  },
  {
   "cell_type": "code",
   "execution_count": null,
   "metadata": {},
   "outputs": [],
   "source": [
    "explainer.expected_value"
   ]
  },
  {
   "cell_type": "code",
   "execution_count": null,
   "metadata": {},
   "outputs": [],
   "source": [
    "index = 0\n",
    "target_class = 0\n",
    "shap.force_plot(explainer.expected_value[0], shap_values[index][target_class], X_test.iloc[index,:])"
   ]
  },
  {
   "cell_type": "code",
   "execution_count": null,
   "metadata": {},
   "outputs": [],
   "source": [
    "# we look for an instance wherein the instance was correctly classified as good quality\n",
    "temp = y_test.reset_index()\n",
    "temp['pred'] = y_pred\n",
    "temp[temp.quality_classif > 0]"
   ]
  },
  {
   "cell_type": "code",
   "execution_count": null,
   "metadata": {},
   "outputs": [],
   "source": [
    "index = 10\n",
    "target_class = 1\n",
    "shap.force_plot(explainer.expected_value[0], shap_values[target_class][index], X_test.iloc[index,:])"
   ]
  },
  {
   "cell_type": "code",
   "execution_count": null,
   "metadata": {},
   "outputs": [],
   "source": [
    "shap_values[0]"
   ]
  },
  {
   "cell_type": "code",
   "execution_count": null,
   "metadata": {},
   "outputs": [],
   "source": [
    "explainer = shap.TreeExplainer(clf_grid.best_estimator_, \n",
    "                               shap.sample(X_train),\n",
    "                               feature_perturbation='interventional',\n",
    "                               model_output='probability')\n",
    "shap_values = explainer.shap_values(X_test)\n",
    "shap.summary_plot(shap_values, X_test)"
   ]
  },
  {
   "cell_type": "markdown",
   "metadata": {},
   "source": [
    "## References"
   ]
  },
  {
   "cell_type": "markdown",
   "metadata": {},
   "source": [
    "Examples of using other Explainers - https://shap-lrjball.readthedocs.io/en/docs_update/examples.html#tree-explainer-examples"
   ]
  },
  {
   "cell_type": "markdown",
   "metadata": {},
   "source": [
    "## Group Activity"
   ]
  },
  {
   "cell_type": "markdown",
   "metadata": {},
   "source": [
    "We will use this miro board link https://miro.com/app/board/uXjVOcXrpC8=/?invite_link_id=123408165247 \n",
    "\n",
    "Using the final project groupings, work with your team in developing a global and local explainability using the customer churn telco data. Output\n",
    "\n",
    "1. Use 1 machine learning algorithm and perform hyperparamter optimization\n",
    "2. Show the accuracy, precision, recall and f1-score for the test data\n",
    "3. Plot the global explainability of the model using SHAP\n",
    "4. Write down the teams analysis on the global explainability \n",
    "5. Show 2 local explainability one for churn and another for not curn and write down your insights \n",
    "\n",
    "Afterwhich I will ask the teams to present their findings on the different items "
   ]
  }
 ],
 "metadata": {
  "kernelspec": {
   "display_name": "Python 3",
   "language": "python",
   "name": "python3"
  },
  "language_info": {
   "codemirror_mode": {
    "name": "ipython",
    "version": 3
   },
   "file_extension": ".py",
   "mimetype": "text/x-python",
   "name": "python",
   "nbconvert_exporter": "python",
   "pygments_lexer": "ipython3",
   "version": "3.8.10"
  }
 },
 "nbformat": 4,
 "nbformat_minor": 4
}
