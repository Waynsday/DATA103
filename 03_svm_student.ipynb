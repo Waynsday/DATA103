{
 "cells": [
  {
   "cell_type": "code",
   "execution_count": 1,
   "id": "1a85f4f4",
   "metadata": {},
   "outputs": [],
   "source": [
    "import numpy as np\n",
    "import pandas as pd\n",
    "import matplotlib.pyplot as plt\n",
    "import numpy as np\n",
    "import seaborn as sns\n",
    "\n",
    "sns.set_style('whitegrid')\n",
    "sns.set_palette('Set2')\n",
    "sns.color_palette('Set2')\n",
    "dlsu_green = \"#117a65ff\"\n",
    "\n",
    "from sklearn import datasets\n",
    "from sklearn.model_selection import train_test_split\n",
    "from numpy.testing import assert_almost_equal\n",
    "from sklearn.metrics import precision_score, recall_score, f1_score, r2_score, accuracy_score"
   ]
  },
  {
   "cell_type": "code",
   "execution_count": 2,
   "id": "35a76c6b",
   "metadata": {},
   "outputs": [],
   "source": [
    "from sklearn.svm import SVC"
   ]
  },
  {
   "cell_type": "code",
   "execution_count": 4,
   "id": "eeeb16e7",
   "metadata": {},
   "outputs": [],
   "source": [
    "SVC?"
   ]
  },
  {
   "cell_type": "markdown",
   "id": "49b8ed98",
   "metadata": {},
   "source": [
    "## SVM Hyperparameters\n",
    "\n",
    "C - The C parameter adds a penalty for each misclassified data point. By having lower C values we are adding a small penalty while a larger penalty is added for large C values. This hyperparameter affectst the models ability to generalize, if we would use a large C value this could potentially lead to overfitting while a small C could lead to underfitting. Hence, we experiment with different C values to find the right one.\n",
    "\n",
    "<img src=\"https://miro.medium.com/max/506/1*jYOR8IDbxMRgOvLELJjbwQ.png\">\n",
    "\n",
    "Gamma - The gamma parameter is used when the radial basis function (this is the default kernel used in SVM) is used as our kernel. Small gamma values would result to casting a wider radius in effect more points are grouped together. Large gamma values would only group together points if they are very close to each other.\n",
    "\n",
    "<img src=\"https://miro.medium.com/max/522/1*5HfMQaH2m3xFy_6aJdTyHw.png\">\n",
    "<img src=\"https://miro.medium.com/max/542/1*HJULljMrR2a5cjnlaVz5RA.png\">\n",
    "\n",
    "Images from <a href=\"https://towardsdatascience.com/hyperparameter-tuning-for-support-vector-machines-c-and-gamma-parameters-6a5097416167\">Yildirim S.</a>"
   ]
  },
  {
   "cell_type": "code",
   "execution_count": 9,
   "id": "1ed2dbc9",
   "metadata": {},
   "outputs": [
    {
     "name": "stdout",
     "output_type": "stream",
     "text": [
      "Train  (1279, 11)\n",
      "Test  (320, 11)\n"
     ]
    }
   ],
   "source": [
    "wine_df = pd.read_csv(\"winequality-red.csv\")\n",
    "wine_df['quality_classif'] = wine_df.quality.apply(lambda x: 1 if x >= 7 else 0)\n",
    "\n",
    "X = wine_df.loc[:, 'fixed acidity': 'alcohol']\n",
    "y = wine_df['quality_classif']\n",
    "\n",
    "X_train, X_test, y_train, y_test = train_test_split(X, y, test_size=0.2, random_state=42)\n",
    "print(\"Train \",X_train.shape)\n",
    "print(\"Test \",X_test.shape)"
   ]
  },
  {
   "cell_type": "markdown",
   "id": "670ebbca",
   "metadata": {},
   "source": [
    "## Create an initial classifier and calculate accuracy"
   ]
  },
  {
   "cell_type": "code",
   "execution_count": null,
   "id": "a8d0d456",
   "metadata": {},
   "outputs": [],
   "source": [
    "clf = SVC(probability=True)"
   ]
  },
  {
   "cell_type": "markdown",
   "id": "0106a7b4",
   "metadata": {},
   "source": [
    "## Using Gridsearch to look for a more optimal model"
   ]
  },
  {
   "cell_type": "code",
   "execution_count": 10,
   "id": "4acff3e1",
   "metadata": {},
   "outputs": [],
   "source": [
    "from sklearn.model_selection import GridSearchCV\n",
    "from sklearn.metrics import  make_scorer"
   ]
  },
  {
   "cell_type": "markdown",
   "id": "765ded8a",
   "metadata": {},
   "source": [
    "The grid search functionality generates candidates from a grid of parameter values specified with the param_grid parameter. Gridsearch accepts a dictionary composed of parameters. Gridsearch will generate different combinations of the parameters set in the param_grid and build different models from these."
   ]
  },
  {
   "cell_type": "code",
   "execution_count": null,
   "id": "36186062",
   "metadata": {},
   "outputs": [],
   "source": [
    "\n"
   ]
  },
  {
   "cell_type": "markdown",
   "id": "260168ae",
   "metadata": {},
   "source": [
    "To get the best estimator you can call the best_estimator_ attribute"
   ]
  },
  {
   "cell_type": "code",
   "execution_count": null,
   "id": "7859bf5b",
   "metadata": {},
   "outputs": [],
   "source": []
  },
  {
   "cell_type": "markdown",
   "id": "5373372d",
   "metadata": {},
   "source": [
    "If you want to explore the various results from the experiments you can look into cv_results_"
   ]
  },
  {
   "cell_type": "code",
   "execution_count": null,
   "id": "967fec13",
   "metadata": {},
   "outputs": [],
   "source": []
  },
  {
   "cell_type": "markdown",
   "id": "cb6be301",
   "metadata": {},
   "source": [
    "## Using RandomSearch"
   ]
  },
  {
   "cell_type": "markdown",
   "id": "6db38fbb",
   "metadata": {},
   "source": [
    "For large datasets Gridsearch might be too intensive, an alternative would be to use Randomized Search. This approach will randomly choose different settings to experiment with. This functionality also gives you the ability to choose the number of iterations to run so that your models wont run too long."
   ]
  },
  {
   "cell_type": "code",
   "execution_count": 26,
   "id": "1f2293bd",
   "metadata": {},
   "outputs": [],
   "source": [
    "from sklearn.model_selection import RandomizedSearchCV"
   ]
  },
  {
   "cell_type": "code",
   "execution_count": null,
   "id": "bcf7f5ce",
   "metadata": {},
   "outputs": [],
   "source": []
  },
  {
   "cell_type": "markdown",
   "id": "92bccb48",
   "metadata": {},
   "source": [
    "Get best estimator and calculate score"
   ]
  },
  {
   "cell_type": "code",
   "execution_count": null,
   "id": "2ab13111",
   "metadata": {},
   "outputs": [],
   "source": []
  },
  {
   "cell_type": "markdown",
   "id": "991ddb11",
   "metadata": {},
   "source": [
    "## Exercise Use Gridsearch on Logistic Regression"
   ]
  },
  {
   "cell_type": "code",
   "execution_count": 25,
   "id": "9a69386a",
   "metadata": {},
   "outputs": [],
   "source": [
    "from sklearn.linear_model import LogisticRegression\n",
    "model = LogisticRegression(solver='liblinear')"
   ]
  },
  {
   "cell_type": "markdown",
   "id": "f2b14333",
   "metadata": {},
   "source": [
    "## create a param grid with different settings for C (0.1, 0.001, 0.0001, 1, 10, 100) and penalty (l1, l2)"
   ]
  },
  {
   "cell_type": "code",
   "execution_count": 26,
   "id": "87344cf7",
   "metadata": {},
   "outputs": [],
   "source": [
    "param_grid = {\n",
    "    'C': [0.1, 0.001, 0.0001, 1, 10, 100],\n",
    "    'penalty': ['l1','l2']\n",
    "}\n",
    "\n",
    "scorers = {\n",
    "    'precision_score': make_scorer(precision_score),\n",
    "    'recall_score': make_scorer(recall_score),\n",
    "    'accuracy_score': make_scorer(accuracy_score)\n",
    "}"
   ]
  },
  {
   "cell_type": "markdown",
   "id": "3bc56d30",
   "metadata": {},
   "source": [
    "## run gridsearch using the logistic regression class for scikit learn"
   ]
  },
  {
   "cell_type": "code",
   "execution_count": 29,
   "id": "cbdbe53f",
   "metadata": {},
   "outputs": [],
   "source": [
    "search = GridSearchCV(model, param_grid, scoring=scorers, refit='precision_score', verbose=3, cv =10)"
   ]
  },
  {
   "cell_type": "markdown",
   "id": "0deeb343",
   "metadata": {},
   "source": [
    "## get best performing model and calculate score"
   ]
  },
  {
   "cell_type": "code",
   "execution_count": 30,
   "id": "8b61e332",
   "metadata": {},
   "outputs": [
    {
     "name": "stdout",
     "output_type": "stream",
     "text": [
      "Fitting 10 folds for each of 12 candidates, totalling 120 fits\n",
      "[CV 1/10] END C=0.1, penalty=l1; accuracy_score: (test=0.867) precision_score: (test=0.500) recall_score: (test=0.059) total time=   0.0s\n",
      "[CV 2/10] END C=0.1, penalty=l1; accuracy_score: (test=0.867) precision_score: (test=0.500) recall_score: (test=0.059) total time=   0.0s\n",
      "[CV 3/10] END C=0.1, penalty=l1; accuracy_score: (test=0.867) precision_score: (test=0.500) recall_score: (test=0.059) total time=   0.0s\n",
      "[CV 4/10] END C=0.1, penalty=l1; accuracy_score: (test=0.867) precision_score: (test=0.500) recall_score: (test=0.059) total time=   0.0s\n",
      "[CV 5/10] END C=0.1, penalty=l1; accuracy_score: (test=0.867) precision_score: (test=0.000) recall_score: (test=0.000) total time=   0.0s"
     ]
    },
    {
     "name": "stderr",
     "output_type": "stream",
     "text": [
      "C:\\ProgramData\\Anaconda3\\envs\\DATA102\\lib\\site-packages\\sklearn\\metrics\\_classification.py:1308: UndefinedMetricWarning: Precision is ill-defined and being set to 0.0 due to no predicted samples. Use `zero_division` parameter to control this behavior.\n",
      "  _warn_prf(average, modifier, msg_start, len(result))\n"
     ]
    },
    {
     "name": "stdout",
     "output_type": "stream",
     "text": [
      "\n",
      "[CV 6/10] END C=0.1, penalty=l1; accuracy_score: (test=0.859) precision_score: (test=0.333) recall_score: (test=0.059) total time=   0.0s\n",
      "[CV 7/10] END C=0.1, penalty=l1; accuracy_score: (test=0.891) precision_score: (test=1.000) recall_score: (test=0.176) total time=   0.0s\n",
      "[CV 8/10] END C=0.1, penalty=l1; accuracy_score: (test=0.883) precision_score: (test=1.000) recall_score: (test=0.118) total time=   0.0s\n",
      "[CV 9/10] END C=0.1, penalty=l1; accuracy_score: (test=0.852) precision_score: (test=0.250) recall_score: (test=0.059) total time=   0.0s\n",
      "[CV 10/10] END C=0.1, penalty=l1; accuracy_score: (test=0.874) precision_score: (test=0.600) recall_score: (test=0.176) total time=   0.0s\n",
      "[CV 1/10] END C=0.1, penalty=l2; accuracy_score: (test=0.875) precision_score: (test=1.000) recall_score: (test=0.059) total time=   0.0s\n",
      "[CV 2/10] END C=0.1, penalty=l2; accuracy_score: (test=0.859) precision_score: (test=0.000) recall_score: (test=0.000) total time=   0.0s\n",
      "[CV 3/10] END C=0.1, penalty=l2; accuracy_score: (test=0.867) precision_score: (test=0.500) recall_score: (test=0.059) total time=   0.0s\n",
      "[CV 4/10] END C=0.1, penalty=l2; accuracy_score: (test=0.867) precision_score: (test=0.000) recall_score: (test=0.000) total time=   0.0s\n",
      "[CV 5/10] END C=0.1, penalty=l2; accuracy_score: (test=0.867) precision_score: (test=0.000) recall_score: (test=0.000) total time=   0.0s\n",
      "[CV 6/10] END C=0.1, penalty=l2; accuracy_score: (test=0.867) precision_score: (test=0.500) recall_score: (test=0.059) total time=   0.0s\n",
      "[CV 7/10] END C=0.1, penalty=l2; accuracy_score: (test=0.883) precision_score: (test=1.000) recall_score: (test=0.118) total time=   0.0s\n",
      "[CV 8/10] END C=0.1, penalty=l2; accuracy_score: (test=0.883) precision_score: (test=1.000) recall_score: (test=0.118) total time=   0.0s\n",
      "[CV 9/10] END C=0.1, penalty=l2; accuracy_score: (test=0.859) precision_score: (test=0.000) recall_score: (test=0.000) total time=   0.0s\n",
      "[CV 10/10] END C=0.1, penalty=l2; accuracy_score: (test=0.874) precision_score: (test=0.600) recall_score: (test=0.176) total time=   0.0s\n",
      "[CV 1/10] END C=0.001, penalty=l1; accuracy_score: (test=0.867) precision_score: (test=0.000) recall_score: (test=0.000) total time=   0.0s\n"
     ]
    },
    {
     "name": "stderr",
     "output_type": "stream",
     "text": [
      "C:\\ProgramData\\Anaconda3\\envs\\DATA102\\lib\\site-packages\\sklearn\\metrics\\_classification.py:1308: UndefinedMetricWarning: Precision is ill-defined and being set to 0.0 due to no predicted samples. Use `zero_division` parameter to control this behavior.\n",
      "  _warn_prf(average, modifier, msg_start, len(result))\n",
      "C:\\ProgramData\\Anaconda3\\envs\\DATA102\\lib\\site-packages\\sklearn\\metrics\\_classification.py:1308: UndefinedMetricWarning: Precision is ill-defined and being set to 0.0 due to no predicted samples. Use `zero_division` parameter to control this behavior.\n",
      "  _warn_prf(average, modifier, msg_start, len(result))\n",
      "C:\\ProgramData\\Anaconda3\\envs\\DATA102\\lib\\site-packages\\sklearn\\metrics\\_classification.py:1308: UndefinedMetricWarning: Precision is ill-defined and being set to 0.0 due to no predicted samples. Use `zero_division` parameter to control this behavior.\n",
      "  _warn_prf(average, modifier, msg_start, len(result))\n",
      "C:\\ProgramData\\Anaconda3\\envs\\DATA102\\lib\\site-packages\\sklearn\\metrics\\_classification.py:1308: UndefinedMetricWarning: Precision is ill-defined and being set to 0.0 due to no predicted samples. Use `zero_division` parameter to control this behavior.\n",
      "  _warn_prf(average, modifier, msg_start, len(result))\n",
      "C:\\ProgramData\\Anaconda3\\envs\\DATA102\\lib\\site-packages\\sklearn\\metrics\\_classification.py:1308: UndefinedMetricWarning: Precision is ill-defined and being set to 0.0 due to no predicted samples. Use `zero_division` parameter to control this behavior.\n",
      "  _warn_prf(average, modifier, msg_start, len(result))\n",
      "C:\\ProgramData\\Anaconda3\\envs\\DATA102\\lib\\site-packages\\sklearn\\metrics\\_classification.py:1308: UndefinedMetricWarning: Precision is ill-defined and being set to 0.0 due to no predicted samples. Use `zero_division` parameter to control this behavior.\n",
      "  _warn_prf(average, modifier, msg_start, len(result))\n",
      "C:\\ProgramData\\Anaconda3\\envs\\DATA102\\lib\\site-packages\\sklearn\\metrics\\_classification.py:1308: UndefinedMetricWarning: Precision is ill-defined and being set to 0.0 due to no predicted samples. Use `zero_division` parameter to control this behavior.\n",
      "  _warn_prf(average, modifier, msg_start, len(result))\n",
      "C:\\ProgramData\\Anaconda3\\envs\\DATA102\\lib\\site-packages\\sklearn\\metrics\\_classification.py:1308: UndefinedMetricWarning: Precision is ill-defined and being set to 0.0 due to no predicted samples. Use `zero_division` parameter to control this behavior.\n",
      "  _warn_prf(average, modifier, msg_start, len(result))\n"
     ]
    },
    {
     "name": "stdout",
     "output_type": "stream",
     "text": [
      "[CV 2/10] END C=0.001, penalty=l1; accuracy_score: (test=0.867) precision_score: (test=0.000) recall_score: (test=0.000) total time=   0.0s\n",
      "[CV 3/10] END C=0.001, penalty=l1; accuracy_score: (test=0.867) precision_score: (test=0.000) recall_score: (test=0.000) total time=   0.0s\n",
      "[CV 4/10] END C=0.001, penalty=l1; accuracy_score: (test=0.867) precision_score: (test=0.000) recall_score: (test=0.000) total time=   0.0s\n",
      "[CV 5/10] END C=0.001, penalty=l1; accuracy_score: (test=0.867) precision_score: (test=0.000) recall_score: (test=0.000) total time=   0.0s\n",
      "[CV 6/10] END C=0.001, penalty=l1; accuracy_score: (test=0.867) precision_score: (test=0.000) recall_score: (test=0.000) total time=   0.0s\n",
      "[CV 7/10] END C=0.001, penalty=l1; accuracy_score: (test=0.867) precision_score: (test=0.000) recall_score: (test=0.000) total time=   0.0s\n",
      "[CV 8/10] END C=0.001, penalty=l1; accuracy_score: (test=0.867) precision_score: (test=0.000) recall_score: (test=0.000) total time=   0.0s\n",
      "[CV 9/10] END C=0.001, penalty=l1; accuracy_score: (test=0.867) precision_score: (test=0.000) recall_score: (test=0.000) total time=   0.0s\n",
      "[CV 10/10] END C=0.001, penalty=l1; accuracy_score: (test=0.866) precision_score: (test=0.000) recall_score: (test=0.000) total time=   0.0s\n",
      "[CV 1/10] END C=0.001, penalty=l2; accuracy_score: (test=0.867) precision_score: (test=0.000) recall_score: (test=0.000) total time=   0.0s\n",
      "[CV 2/10] END C=0.001, penalty=l2; accuracy_score: (test=0.867) precision_score: (test=0.000) recall_score: (test=0.000) total time=   0.0s\n",
      "[CV 3/10] END C=0.001, penalty=l2; accuracy_score: (test=0.867) precision_score: (test=0.000) recall_score: (test=0.000) total time=   0.0s\n"
     ]
    },
    {
     "name": "stderr",
     "output_type": "stream",
     "text": [
      "C:\\ProgramData\\Anaconda3\\envs\\DATA102\\lib\\site-packages\\sklearn\\metrics\\_classification.py:1308: UndefinedMetricWarning: Precision is ill-defined and being set to 0.0 due to no predicted samples. Use `zero_division` parameter to control this behavior.\n",
      "  _warn_prf(average, modifier, msg_start, len(result))\n",
      "C:\\ProgramData\\Anaconda3\\envs\\DATA102\\lib\\site-packages\\sklearn\\metrics\\_classification.py:1308: UndefinedMetricWarning: Precision is ill-defined and being set to 0.0 due to no predicted samples. Use `zero_division` parameter to control this behavior.\n",
      "  _warn_prf(average, modifier, msg_start, len(result))\n",
      "C:\\ProgramData\\Anaconda3\\envs\\DATA102\\lib\\site-packages\\sklearn\\metrics\\_classification.py:1308: UndefinedMetricWarning: Precision is ill-defined and being set to 0.0 due to no predicted samples. Use `zero_division` parameter to control this behavior.\n",
      "  _warn_prf(average, modifier, msg_start, len(result))\n",
      "C:\\ProgramData\\Anaconda3\\envs\\DATA102\\lib\\site-packages\\sklearn\\metrics\\_classification.py:1308: UndefinedMetricWarning: Precision is ill-defined and being set to 0.0 due to no predicted samples. Use `zero_division` parameter to control this behavior.\n",
      "  _warn_prf(average, modifier, msg_start, len(result))\n",
      "C:\\ProgramData\\Anaconda3\\envs\\DATA102\\lib\\site-packages\\sklearn\\metrics\\_classification.py:1308: UndefinedMetricWarning: Precision is ill-defined and being set to 0.0 due to no predicted samples. Use `zero_division` parameter to control this behavior.\n",
      "  _warn_prf(average, modifier, msg_start, len(result))\n",
      "C:\\ProgramData\\Anaconda3\\envs\\DATA102\\lib\\site-packages\\sklearn\\metrics\\_classification.py:1308: UndefinedMetricWarning: Precision is ill-defined and being set to 0.0 due to no predicted samples. Use `zero_division` parameter to control this behavior.\n",
      "  _warn_prf(average, modifier, msg_start, len(result))\n",
      "C:\\ProgramData\\Anaconda3\\envs\\DATA102\\lib\\site-packages\\sklearn\\metrics\\_classification.py:1308: UndefinedMetricWarning: Precision is ill-defined and being set to 0.0 due to no predicted samples. Use `zero_division` parameter to control this behavior.\n",
      "  _warn_prf(average, modifier, msg_start, len(result))\n",
      "C:\\ProgramData\\Anaconda3\\envs\\DATA102\\lib\\site-packages\\sklearn\\metrics\\_classification.py:1308: UndefinedMetricWarning: Precision is ill-defined and being set to 0.0 due to no predicted samples. Use `zero_division` parameter to control this behavior.\n",
      "  _warn_prf(average, modifier, msg_start, len(result))\n",
      "C:\\ProgramData\\Anaconda3\\envs\\DATA102\\lib\\site-packages\\sklearn\\metrics\\_classification.py:1308: UndefinedMetricWarning: Precision is ill-defined and being set to 0.0 due to no predicted samples. Use `zero_division` parameter to control this behavior.\n",
      "  _warn_prf(average, modifier, msg_start, len(result))\n",
      "C:\\ProgramData\\Anaconda3\\envs\\DATA102\\lib\\site-packages\\sklearn\\metrics\\_classification.py:1308: UndefinedMetricWarning: Precision is ill-defined and being set to 0.0 due to no predicted samples. Use `zero_division` parameter to control this behavior.\n",
      "  _warn_prf(average, modifier, msg_start, len(result))\n",
      "C:\\ProgramData\\Anaconda3\\envs\\DATA102\\lib\\site-packages\\sklearn\\metrics\\_classification.py:1308: UndefinedMetricWarning: Precision is ill-defined and being set to 0.0 due to no predicted samples. Use `zero_division` parameter to control this behavior.\n",
      "  _warn_prf(average, modifier, msg_start, len(result))\n",
      "C:\\ProgramData\\Anaconda3\\envs\\DATA102\\lib\\site-packages\\sklearn\\metrics\\_classification.py:1308: UndefinedMetricWarning: Precision is ill-defined and being set to 0.0 due to no predicted samples. Use `zero_division` parameter to control this behavior.\n",
      "  _warn_prf(average, modifier, msg_start, len(result))\n",
      "C:\\ProgramData\\Anaconda3\\envs\\DATA102\\lib\\site-packages\\sklearn\\metrics\\_classification.py:1308: UndefinedMetricWarning: Precision is ill-defined and being set to 0.0 due to no predicted samples. Use `zero_division` parameter to control this behavior.\n",
      "  _warn_prf(average, modifier, msg_start, len(result))\n"
     ]
    },
    {
     "name": "stdout",
     "output_type": "stream",
     "text": [
      "[CV 4/10] END C=0.001, penalty=l2; accuracy_score: (test=0.867) precision_score: (test=0.000) recall_score: (test=0.000) total time=   0.0s\n",
      "[CV 5/10] END C=0.001, penalty=l2; accuracy_score: (test=0.867) precision_score: (test=0.000) recall_score: (test=0.000) total time=   0.0s\n",
      "[CV 6/10] END C=0.001, penalty=l2; accuracy_score: (test=0.867) precision_score: (test=0.000) recall_score: (test=0.000) total time=   0.0s\n",
      "[CV 7/10] END C=0.001, penalty=l2; accuracy_score: (test=0.867) precision_score: (test=0.000) recall_score: (test=0.000) total time=   0.0s\n",
      "[CV 8/10] END C=0.001, penalty=l2; accuracy_score: (test=0.867) precision_score: (test=0.000) recall_score: (test=0.000) total time=   0.0s\n",
      "[CV 9/10] END C=0.001, penalty=l2; accuracy_score: (test=0.867) precision_score: (test=0.000) recall_score: (test=0.000) total time=   0.0s\n",
      "[CV 10/10] END C=0.001, penalty=l2; accuracy_score: (test=0.866) precision_score: (test=0.000) recall_score: (test=0.000) total time=   0.0s\n",
      "[CV 1/10] END C=0.0001, penalty=l1; accuracy_score: (test=0.867) precision_score: (test=0.000) recall_score: (test=0.000) total time=   0.0s\n",
      "[CV 2/10] END C=0.0001, penalty=l1; accuracy_score: (test=0.867) precision_score: (test=0.000) recall_score: (test=0.000) total time=   0.0s\n",
      "[CV 3/10] END C=0.0001, penalty=l1; accuracy_score: (test=0.867) precision_score: (test=0.000) recall_score: (test=0.000) total time=   0.0s\n",
      "[CV 4/10] END C=0.0001, penalty=l1; accuracy_score: (test=0.867) precision_score: (test=0.000) recall_score: (test=0.000) total time=   0.0s\n",
      "[CV 5/10] END C=0.0001, penalty=l1; accuracy_score: (test=0.867) precision_score: (test=0.000) recall_score: (test=0.000) total time=   0.0s\n",
      "[CV 6/10] END C=0.0001, penalty=l1; accuracy_score: (test=0.867) precision_score: (test=0.000) recall_score: (test=0.000) total time=   0.0s\n"
     ]
    },
    {
     "name": "stderr",
     "output_type": "stream",
     "text": [
      "C:\\ProgramData\\Anaconda3\\envs\\DATA102\\lib\\site-packages\\sklearn\\metrics\\_classification.py:1308: UndefinedMetricWarning: Precision is ill-defined and being set to 0.0 due to no predicted samples. Use `zero_division` parameter to control this behavior.\n",
      "  _warn_prf(average, modifier, msg_start, len(result))\n",
      "C:\\ProgramData\\Anaconda3\\envs\\DATA102\\lib\\site-packages\\sklearn\\metrics\\_classification.py:1308: UndefinedMetricWarning: Precision is ill-defined and being set to 0.0 due to no predicted samples. Use `zero_division` parameter to control this behavior.\n",
      "  _warn_prf(average, modifier, msg_start, len(result))\n",
      "C:\\ProgramData\\Anaconda3\\envs\\DATA102\\lib\\site-packages\\sklearn\\metrics\\_classification.py:1308: UndefinedMetricWarning: Precision is ill-defined and being set to 0.0 due to no predicted samples. Use `zero_division` parameter to control this behavior.\n",
      "  _warn_prf(average, modifier, msg_start, len(result))\n",
      "C:\\ProgramData\\Anaconda3\\envs\\DATA102\\lib\\site-packages\\sklearn\\metrics\\_classification.py:1308: UndefinedMetricWarning: Precision is ill-defined and being set to 0.0 due to no predicted samples. Use `zero_division` parameter to control this behavior.\n",
      "  _warn_prf(average, modifier, msg_start, len(result))\n",
      "C:\\ProgramData\\Anaconda3\\envs\\DATA102\\lib\\site-packages\\sklearn\\metrics\\_classification.py:1308: UndefinedMetricWarning: Precision is ill-defined and being set to 0.0 due to no predicted samples. Use `zero_division` parameter to control this behavior.\n",
      "  _warn_prf(average, modifier, msg_start, len(result))\n",
      "C:\\ProgramData\\Anaconda3\\envs\\DATA102\\lib\\site-packages\\sklearn\\metrics\\_classification.py:1308: UndefinedMetricWarning: Precision is ill-defined and being set to 0.0 due to no predicted samples. Use `zero_division` parameter to control this behavior.\n",
      "  _warn_prf(average, modifier, msg_start, len(result))\n",
      "C:\\ProgramData\\Anaconda3\\envs\\DATA102\\lib\\site-packages\\sklearn\\metrics\\_classification.py:1308: UndefinedMetricWarning: Precision is ill-defined and being set to 0.0 due to no predicted samples. Use `zero_division` parameter to control this behavior.\n",
      "  _warn_prf(average, modifier, msg_start, len(result))\n",
      "C:\\ProgramData\\Anaconda3\\envs\\DATA102\\lib\\site-packages\\sklearn\\metrics\\_classification.py:1308: UndefinedMetricWarning: Precision is ill-defined and being set to 0.0 due to no predicted samples. Use `zero_division` parameter to control this behavior.\n",
      "  _warn_prf(average, modifier, msg_start, len(result))\n",
      "C:\\ProgramData\\Anaconda3\\envs\\DATA102\\lib\\site-packages\\sklearn\\metrics\\_classification.py:1308: UndefinedMetricWarning: Precision is ill-defined and being set to 0.0 due to no predicted samples. Use `zero_division` parameter to control this behavior.\n",
      "  _warn_prf(average, modifier, msg_start, len(result))\n",
      "C:\\ProgramData\\Anaconda3\\envs\\DATA102\\lib\\site-packages\\sklearn\\metrics\\_classification.py:1308: UndefinedMetricWarning: Precision is ill-defined and being set to 0.0 due to no predicted samples. Use `zero_division` parameter to control this behavior.\n",
      "  _warn_prf(average, modifier, msg_start, len(result))\n",
      "C:\\ProgramData\\Anaconda3\\envs\\DATA102\\lib\\site-packages\\sklearn\\metrics\\_classification.py:1308: UndefinedMetricWarning: Precision is ill-defined and being set to 0.0 due to no predicted samples. Use `zero_division` parameter to control this behavior.\n",
      "  _warn_prf(average, modifier, msg_start, len(result))\n",
      "C:\\ProgramData\\Anaconda3\\envs\\DATA102\\lib\\site-packages\\sklearn\\metrics\\_classification.py:1308: UndefinedMetricWarning: Precision is ill-defined and being set to 0.0 due to no predicted samples. Use `zero_division` parameter to control this behavior.\n",
      "  _warn_prf(average, modifier, msg_start, len(result))\n",
      "C:\\ProgramData\\Anaconda3\\envs\\DATA102\\lib\\site-packages\\sklearn\\metrics\\_classification.py:1308: UndefinedMetricWarning: Precision is ill-defined and being set to 0.0 due to no predicted samples. Use `zero_division` parameter to control this behavior.\n",
      "  _warn_prf(average, modifier, msg_start, len(result))\n",
      "C:\\ProgramData\\Anaconda3\\envs\\DATA102\\lib\\site-packages\\sklearn\\metrics\\_classification.py:1308: UndefinedMetricWarning: Precision is ill-defined and being set to 0.0 due to no predicted samples. Use `zero_division` parameter to control this behavior.\n",
      "  _warn_prf(average, modifier, msg_start, len(result))\n"
     ]
    },
    {
     "name": "stdout",
     "output_type": "stream",
     "text": [
      "[CV 7/10] END C=0.0001, penalty=l1; accuracy_score: (test=0.867) precision_score: (test=0.000) recall_score: (test=0.000) total time=   0.0s\n",
      "[CV 8/10] END C=0.0001, penalty=l1; accuracy_score: (test=0.867) precision_score: (test=0.000) recall_score: (test=0.000) total time=   0.0s\n",
      "[CV 9/10] END C=0.0001, penalty=l1; accuracy_score: (test=0.867) precision_score: (test=0.000) recall_score: (test=0.000) total time=   0.0s\n",
      "[CV 10/10] END C=0.0001, penalty=l1; accuracy_score: (test=0.866) precision_score: (test=0.000) recall_score: (test=0.000) total time=   0.0s\n",
      "[CV 1/10] END C=0.0001, penalty=l2; accuracy_score: (test=0.867) precision_score: (test=0.000) recall_score: (test=0.000) total time=   0.0s\n",
      "[CV 2/10] END C=0.0001, penalty=l2; accuracy_score: (test=0.867) precision_score: (test=0.000) recall_score: (test=0.000) total time=   0.0s\n",
      "[CV 3/10] END C=0.0001, penalty=l2; accuracy_score: (test=0.867) precision_score: (test=0.000) recall_score: (test=0.000) total time=   0.0s\n",
      "[CV 4/10] END C=0.0001, penalty=l2; accuracy_score: (test=0.867) precision_score: (test=0.000) recall_score: (test=0.000) total time=   0.0s\n",
      "[CV 5/10] END C=0.0001, penalty=l2; accuracy_score: (test=0.867) precision_score: (test=0.000) recall_score: (test=0.000) total time=   0.0s\n",
      "[CV 6/10] END C=0.0001, penalty=l2; accuracy_score: (test=0.867) precision_score: (test=0.000) recall_score: (test=0.000) total time=   0.0s\n",
      "[CV 7/10] END C=0.0001, penalty=l2; accuracy_score: (test=0.867) precision_score: (test=0.000) recall_score: (test=0.000) total time=   0.0s\n",
      "[CV 8/10] END C=0.0001, penalty=l2; accuracy_score: (test=0.867) precision_score: (test=0.000) recall_score: (test=0.000) total time=   0.0s\n",
      "[CV 9/10] END C=0.0001, penalty=l2; accuracy_score: (test=0.867) precision_score: (test=0.000) recall_score: (test=0.000) total time=   0.0s\n",
      "[CV 10/10] END C=0.0001, penalty=l2; accuracy_score: (test=0.866) precision_score: (test=0.000) recall_score: (test=0.000) total time=   0.0s\n"
     ]
    },
    {
     "name": "stderr",
     "output_type": "stream",
     "text": [
      "C:\\ProgramData\\Anaconda3\\envs\\DATA102\\lib\\site-packages\\sklearn\\metrics\\_classification.py:1308: UndefinedMetricWarning: Precision is ill-defined and being set to 0.0 due to no predicted samples. Use `zero_division` parameter to control this behavior.\n",
      "  _warn_prf(average, modifier, msg_start, len(result))\n",
      "C:\\ProgramData\\Anaconda3\\envs\\DATA102\\lib\\site-packages\\sklearn\\metrics\\_classification.py:1308: UndefinedMetricWarning: Precision is ill-defined and being set to 0.0 due to no predicted samples. Use `zero_division` parameter to control this behavior.\n",
      "  _warn_prf(average, modifier, msg_start, len(result))\n",
      "C:\\ProgramData\\Anaconda3\\envs\\DATA102\\lib\\site-packages\\sklearn\\metrics\\_classification.py:1308: UndefinedMetricWarning: Precision is ill-defined and being set to 0.0 due to no predicted samples. Use `zero_division` parameter to control this behavior.\n",
      "  _warn_prf(average, modifier, msg_start, len(result))\n",
      "C:\\ProgramData\\Anaconda3\\envs\\DATA102\\lib\\site-packages\\sklearn\\metrics\\_classification.py:1308: UndefinedMetricWarning: Precision is ill-defined and being set to 0.0 due to no predicted samples. Use `zero_division` parameter to control this behavior.\n",
      "  _warn_prf(average, modifier, msg_start, len(result))\n",
      "C:\\ProgramData\\Anaconda3\\envs\\DATA102\\lib\\site-packages\\sklearn\\metrics\\_classification.py:1308: UndefinedMetricWarning: Precision is ill-defined and being set to 0.0 due to no predicted samples. Use `zero_division` parameter to control this behavior.\n",
      "  _warn_prf(average, modifier, msg_start, len(result))\n",
      "C:\\ProgramData\\Anaconda3\\envs\\DATA102\\lib\\site-packages\\sklearn\\metrics\\_classification.py:1308: UndefinedMetricWarning: Precision is ill-defined and being set to 0.0 due to no predicted samples. Use `zero_division` parameter to control this behavior.\n",
      "  _warn_prf(average, modifier, msg_start, len(result))\n",
      "C:\\ProgramData\\Anaconda3\\envs\\DATA102\\lib\\site-packages\\sklearn\\metrics\\_classification.py:1308: UndefinedMetricWarning: Precision is ill-defined and being set to 0.0 due to no predicted samples. Use `zero_division` parameter to control this behavior.\n",
      "  _warn_prf(average, modifier, msg_start, len(result))\n"
     ]
    },
    {
     "name": "stdout",
     "output_type": "stream",
     "text": [
      "[CV 1/10] END C=1, penalty=l1; accuracy_score: (test=0.883) precision_score: (test=0.667) recall_score: (test=0.235) total time=   0.1s\n",
      "[CV 2/10] END C=1, penalty=l1; accuracy_score: (test=0.867) precision_score: (test=0.500) recall_score: (test=0.176) total time=   0.0s\n",
      "[CV 3/10] END C=1, penalty=l1; accuracy_score: (test=0.898) precision_score: (test=0.833) recall_score: (test=0.294) total time=   0.0s\n",
      "[CV 4/10] END C=1, penalty=l1; accuracy_score: (test=0.906) precision_score: (test=0.727) recall_score: (test=0.471) total time=   0.0s\n",
      "[CV 5/10] END C=1, penalty=l1; accuracy_score: (test=0.867) precision_score: (test=0.500) recall_score: (test=0.176) total time=   0.0s\n",
      "[CV 6/10] END C=1, penalty=l1; accuracy_score: (test=0.828) precision_score: (test=0.222) recall_score: (test=0.118) total time=   0.0s\n",
      "[CV 7/10] END C=1, penalty=l1; accuracy_score: (test=0.906) precision_score: (test=0.857) recall_score: (test=0.353) total time=   0.0s\n",
      "[CV 8/10] END C=1, penalty=l1; accuracy_score: (test=0.906) precision_score: (test=0.778) recall_score: (test=0.412) total time=   0.1s\n",
      "[CV 9/10] END C=1, penalty=l1; accuracy_score: (test=0.867) precision_score: (test=0.500) recall_score: (test=0.235) total time=   0.0s\n",
      "[CV 10/10] END C=1, penalty=l1; accuracy_score: (test=0.898) precision_score: (test=0.700) recall_score: (test=0.412) total time=   0.0s\n",
      "[CV 1/10] END C=1, penalty=l2; accuracy_score: (test=0.883) precision_score: (test=0.667) recall_score: (test=0.235) total time=   0.0s\n",
      "[CV 2/10] END C=1, penalty=l2; accuracy_score: (test=0.875) precision_score: (test=0.600) recall_score: (test=0.176) total time=   0.0s\n",
      "[CV 3/10] END C=1, penalty=l2; accuracy_score: (test=0.883) precision_score: (test=0.750) recall_score: (test=0.176) total time=   0.0s\n",
      "[CV 4/10] END C=1, penalty=l2; accuracy_score: (test=0.883) precision_score: (test=0.625) recall_score: (test=0.294) total time=   0.0s\n",
      "[CV 5/10] END C=1, penalty=l2; accuracy_score: (test=0.859) precision_score: (test=0.400) recall_score: (test=0.118) total time=   0.0s\n",
      "[CV 6/10] END C=1, penalty=l2; accuracy_score: (test=0.820) precision_score: (test=0.125) recall_score: (test=0.059) total time=   0.0s\n",
      "[CV 7/10] END C=1, penalty=l2; accuracy_score: (test=0.914) precision_score: (test=1.000) recall_score: (test=0.353) total time=   0.0s\n",
      "[CV 8/10] END C=1, penalty=l2; accuracy_score: (test=0.906) precision_score: (test=0.778) recall_score: (test=0.412) total time=   0.0s\n",
      "[CV 9/10] END C=1, penalty=l2; accuracy_score: (test=0.875) precision_score: (test=0.571) recall_score: (test=0.235) total time=   0.0s\n",
      "[CV 10/10] END C=1, penalty=l2; accuracy_score: (test=0.906) precision_score: (test=0.778) recall_score: (test=0.412) total time=   0.0s\n",
      "[CV 1/10] END C=10, penalty=l1; accuracy_score: (test=0.891) precision_score: (test=0.636) recall_score: (test=0.412) total time=   0.0s\n",
      "[CV 2/10] END C=10, penalty=l1; accuracy_score: (test=0.883) precision_score: (test=0.625) recall_score: (test=0.294) total time=   0.0s\n",
      "[CV 3/10] END C=10, penalty=l1; accuracy_score: (test=0.898) precision_score: (test=0.833) recall_score: (test=0.294) total time=   0.0s\n",
      "[CV 4/10] END C=10, penalty=l1; accuracy_score: (test=0.906) precision_score: (test=0.727) recall_score: (test=0.471) total time=   0.0s\n",
      "[CV 5/10] END C=10, penalty=l1; accuracy_score: (test=0.883) precision_score: (test=0.667) recall_score: (test=0.235) total time=   0.0s\n",
      "[CV 6/10] END C=10, penalty=l1; accuracy_score: (test=0.828) precision_score: (test=0.273) recall_score: (test=0.176) total time=   0.0s\n",
      "[CV 7/10] END C=10, penalty=l1; accuracy_score: (test=0.891) precision_score: (test=0.800) recall_score: (test=0.235) total time=   0.0s\n",
      "[CV 8/10] END C=10, penalty=l1; accuracy_score: (test=0.906) precision_score: (test=0.778) recall_score: (test=0.412) total time=   0.0s\n",
      "[CV 9/10] END C=10, penalty=l1; accuracy_score: (test=0.883) precision_score: (test=0.625) recall_score: (test=0.294) total time=   0.0s\n",
      "[CV 10/10] END C=10, penalty=l1; accuracy_score: (test=0.906) precision_score: (test=0.727) recall_score: (test=0.471) total time=   0.0s\n",
      "[CV 1/10] END C=10, penalty=l2; accuracy_score: (test=0.875) precision_score: (test=0.556) recall_score: (test=0.294) total time=   0.0s\n",
      "[CV 2/10] END C=10, penalty=l2; accuracy_score: (test=0.883) precision_score: (test=0.625) recall_score: (test=0.294) total time=   0.0s\n",
      "[CV 3/10] END C=10, penalty=l2; accuracy_score: (test=0.898) precision_score: (test=0.833) recall_score: (test=0.294) total time=   0.0s\n",
      "[CV 4/10] END C=10, penalty=l2; accuracy_score: (test=0.906) precision_score: (test=0.727) recall_score: (test=0.471) total time=   0.0s\n",
      "[CV 5/10] END C=10, penalty=l2; accuracy_score: (test=0.883) precision_score: (test=0.667) recall_score: (test=0.235) total time=   0.0s\n",
      "[CV 6/10] END C=10, penalty=l2; accuracy_score: (test=0.836) precision_score: (test=0.300) recall_score: (test=0.176) total time=   0.0s\n",
      "[CV 7/10] END C=10, penalty=l2; accuracy_score: (test=0.906) precision_score: (test=0.857) recall_score: (test=0.353) total time=   0.0s\n",
      "[CV 8/10] END C=10, penalty=l2; accuracy_score: (test=0.906) precision_score: (test=0.778) recall_score: (test=0.412) total time=   0.0s\n",
      "[CV 9/10] END C=10, penalty=l2; accuracy_score: (test=0.875) precision_score: (test=0.556) recall_score: (test=0.294) total time=   0.0s\n",
      "[CV 10/10] END C=10, penalty=l2; accuracy_score: (test=0.906) precision_score: (test=0.727) recall_score: (test=0.471) total time=   0.0s\n",
      "[CV 1/10] END C=100, penalty=l1; accuracy_score: (test=0.891) precision_score: (test=0.636) recall_score: (test=0.412) total time=   0.0s\n",
      "[CV 2/10] END C=100, penalty=l1; accuracy_score: (test=0.883) precision_score: (test=0.625) recall_score: (test=0.294) total time=   0.0s\n",
      "[CV 3/10] END C=100, penalty=l1; accuracy_score: (test=0.898) precision_score: (test=0.833) recall_score: (test=0.294) total time=   0.0s\n",
      "[CV 4/10] END C=100, penalty=l1; accuracy_score: (test=0.906) precision_score: (test=0.727) recall_score: (test=0.471) total time=   0.0s\n",
      "[CV 5/10] END C=100, penalty=l1; accuracy_score: (test=0.883) precision_score: (test=0.667) recall_score: (test=0.235) total time=   0.0s\n",
      "[CV 6/10] END C=100, penalty=l1; accuracy_score: (test=0.828) precision_score: (test=0.273) recall_score: (test=0.176) total time=   0.0s\n",
      "[CV 7/10] END C=100, penalty=l1; accuracy_score: (test=0.891) precision_score: (test=0.800) recall_score: (test=0.235) total time=   0.0s\n",
      "[CV 8/10] END C=100, penalty=l1; accuracy_score: (test=0.906) precision_score: (test=0.778) recall_score: (test=0.412) total time=   0.1s\n",
      "[CV 9/10] END C=100, penalty=l1; accuracy_score: (test=0.883) precision_score: (test=0.625) recall_score: (test=0.294) total time=   0.0s\n",
      "[CV 10/10] END C=100, penalty=l1; accuracy_score: (test=0.898) precision_score: (test=0.667) recall_score: (test=0.471) total time=   0.0s\n",
      "[CV 1/10] END C=100, penalty=l2; accuracy_score: (test=0.883) precision_score: (test=0.583) recall_score: (test=0.412) total time=   0.0s\n",
      "[CV 2/10] END C=100, penalty=l2; accuracy_score: (test=0.883) precision_score: (test=0.625) recall_score: (test=0.294) total time=   0.0s\n",
      "[CV 3/10] END C=100, penalty=l2; accuracy_score: (test=0.898) precision_score: (test=0.833) recall_score: (test=0.294) total time=   0.0s\n",
      "[CV 4/10] END C=100, penalty=l2; accuracy_score: (test=0.906) precision_score: (test=0.727) recall_score: (test=0.471) total time=   0.0s\n",
      "[CV 5/10] END C=100, penalty=l2; accuracy_score: (test=0.883) precision_score: (test=0.667) recall_score: (test=0.235) total time=   0.0s\n",
      "[CV 6/10] END C=100, penalty=l2; accuracy_score: (test=0.828) precision_score: (test=0.273) recall_score: (test=0.176) total time=   0.0s\n",
      "[CV 7/10] END C=100, penalty=l2; accuracy_score: (test=0.883) precision_score: (test=0.667) recall_score: (test=0.235) total time=   0.0s\n",
      "[CV 8/10] END C=100, penalty=l2; accuracy_score: (test=0.906) precision_score: (test=0.778) recall_score: (test=0.412) total time=   0.0s\n",
      "[CV 9/10] END C=100, penalty=l2; accuracy_score: (test=0.883) precision_score: (test=0.625) recall_score: (test=0.294) total time=   0.0s\n",
      "[CV 10/10] END C=100, penalty=l2; accuracy_score: (test=0.898) precision_score: (test=0.667) recall_score: (test=0.471) total time=   0.0s\n"
     ]
    }
   ],
   "source": [
    "best_model = search.fit(X_train, y_train)"
   ]
  },
  {
   "cell_type": "code",
   "execution_count": 31,
   "id": "c60f7f53-40e6-483e-a8b1-1019ee35ac14",
   "metadata": {},
   "outputs": [
    {
     "data": {
      "text/plain": [
       "0.871875"
      ]
     },
     "execution_count": 31,
     "metadata": {},
     "output_type": "execute_result"
    }
   ],
   "source": [
    "clf = best_model.best_estimator_ \n",
    "clf.score(X_test, y_test)\n"
   ]
  },
  {
   "cell_type": "markdown",
   "id": "d2e1330c",
   "metadata": {},
   "source": [
    "## show the feature importance plot"
   ]
  },
  {
   "cell_type": "code",
   "execution_count": 32,
   "id": "f631f028",
   "metadata": {},
   "outputs": [
    {
     "data": {
      "image/png": "[encoded data removed]",
      "text/plain": [
       "<Figure size 1080x720 with 1 Axes>"
      ]
     },
     "metadata": {},
     "output_type": "display_data"
    }
   ],
   "source": [
    "def plot_coefficients(model, cols):\n",
    "    _, ax = plt.subplots(figsize=(15,10))\n",
    "    sns.barplot(x=model.coef_[0], y=cols)\n",
    "\n",
    "    for p in ax.patches:\n",
    "        width = p.get_width()    # get bar length\n",
    "        ax.text(width - .5,       # set the text at 1 unit right of the bar\n",
    "                p.get_y() + p.get_height() / 2, # get Y coordinate + X coordinate / 2\n",
    "                '{:1.2f}'.format(width), # set variable to display, 2 decimals\n",
    "                ha = 'left',   # horizontal alignment\n",
    "                va = 'center',\n",
    "                fontsize=13)  # vertical alignment\n",
    "    \n",
    "    ax.set_xlabel('Weights', fontsize=14)\n",
    "    ax.set_ylabel('Features', fontsize=14)\n",
    "    ax.set_title('Feature Importance', fontweight='bold', fontsize=20)\n",
    "        \n",
    "plot_coefficients(clf, X_train.columns.to_list())\n"
   ]
  }
 ],
 "metadata": {
  "kernelspec": {
   "display_name": "Python 3",
   "language": "python",
   "name": "python3"
  },
  "language_info": {
   "codemirror_mode": {
    "name": "ipython",
    "version": 3
   },
   "file_extension": ".py",
   "mimetype": "text/x-python",
   "name": "python",
   "nbconvert_exporter": "python",
   "pygments_lexer": "ipython3",
   "version": "3.8.10"
  }
 },
 "nbformat": 4,
 "nbformat_minor": 5
}
