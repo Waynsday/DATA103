{
 "cells": [
  {
   "cell_type": "markdown",
   "id": "68db2ff8",
   "metadata": {},
   "source": [
    "# Akeboshi, Wayne"
   ]
  },
  {
   "cell_type": "code",
   "execution_count": 1,
   "id": "83d27100",
   "metadata": {},
   "outputs": [],
   "source": [
    "import pandas as pd \n",
    "import seaborn as sns \n",
    "import matplotlib.pyplot as plt\n",
    "\n",
    "sns.set_style('whitegrid')\n",
    "sns.set_palette('Set2')\n",
    "sns.color_palette('Set2')\n",
    "dlsu_green = \"#117a65ff\"\n",
    "\n",
    "from sklearn.model_selection import train_test_split\n",
    "from sklearn.metrics import r2_score\n",
    "from sklearn.neighbors import KNeighborsClassifier\n",
    "from sklearn.linear_model import LinearRegression\n",
    "from sklearn.preprocessing import OneHotEncoder"
   ]
  },
  {
   "cell_type": "markdown",
   "id": "d73351e3",
   "metadata": {},
   "source": [
    "For this assignment you will be creating 2 models. One using KNN and another using Linear Regression. The dataset to be used for this will be the Campus Placement dataset (https://www.kaggle.com/benroshan/factors-affecting-campus-placement). The dataset contains 15 features these are:\n",
    "\n",
    "- sl_no - serial # of unique identifier for student \n",
    "- gender - gender of student \n",
    "- ssc_p - Secondary Education percentage- 10th Grade\n",
    "- ssc_b - Board of Education- Central/ Others\n",
    "- hsc_p - Higher Secondary Education percentage- 12th Grade\n",
    "- hsc_b - Board of Education- Central/ Others\n",
    "- hsc_s - Specialization in Higher Secondary Education\n",
    "- degree_p - Degree Percentage\n",
    "- degree_t - Under Graduation(Degree type)- Field of degree education\n",
    "- workex - Work Experience yes/no\n",
    "- etest_p - Employability test percentage ( conducted by college)\n",
    "- specialisation - Post Graduation(MBA)- Specialization\n",
    "- mba_p - MBA percentage\n",
    "- status - Status of placement- Placed/Not placed\n",
    "- salary - Salary offered by corporate to candidates\n",
    "\n",
    "For the classification assignment we will be using the status feature as our target while for our regression problem it will be the salary feature."
   ]
  },
  {
   "cell_type": "markdown",
   "id": "59ee65e9",
   "metadata": {},
   "source": [
    "We load the data and try to see the different features that we have. We can observe that there are categorical features. This means we have to do some data preprocessing first before we load our data to the model."
   ]
  },
  {
   "cell_type": "code",
   "execution_count": 3,
   "id": "076fde08",
   "metadata": {},
   "outputs": [
    {
     "data": {
      "text/html": [
       "<div>\n",
       "<style scoped>\n",
       "    .dataframe tbody tr th:only-of-type {\n",
       "        vertical-align: middle;\n",
       "    }\n",
       "\n",
       "    .dataframe tbody tr th {\n",
       "        vertical-align: top;\n",
       "    }\n",
       "\n",
       "    .dataframe thead th {\n",
       "        text-align: right;\n",
       "    }\n",
       "</style>\n",
       "<table border=\"1\" class=\"dataframe\">\n",
       "  <thead>\n",
       "    <tr style=\"text-align: right;\">\n",
       "      <th></th>\n",
       "      <th>sl_no</th>\n",
       "      <th>gender</th>\n",
       "      <th>ssc_p</th>\n",
       "      <th>ssc_b</th>\n",
       "      <th>hsc_p</th>\n",
       "      <th>hsc_b</th>\n",
       "      <th>hsc_s</th>\n",
       "      <th>degree_p</th>\n",
       "      <th>degree_t</th>\n",
       "      <th>workex</th>\n",
       "      <th>etest_p</th>\n",
       "      <th>specialisation</th>\n",
       "      <th>mba_p</th>\n",
       "      <th>status</th>\n",
       "      <th>salary</th>\n",
       "    </tr>\n",
       "  </thead>\n",
       "  <tbody>\n",
       "    <tr>\n",
       "      <th>0</th>\n",
       "      <td>1</td>\n",
       "      <td>M</td>\n",
       "      <td>67.00</td>\n",
       "      <td>Others</td>\n",
       "      <td>91.00</td>\n",
       "      <td>Others</td>\n",
       "      <td>Commerce</td>\n",
       "      <td>58.00</td>\n",
       "      <td>Sci&amp;Tech</td>\n",
       "      <td>No</td>\n",
       "      <td>55.0</td>\n",
       "      <td>Mkt&amp;HR</td>\n",
       "      <td>58.80</td>\n",
       "      <td>Placed</td>\n",
       "      <td>270000.0</td>\n",
       "    </tr>\n",
       "    <tr>\n",
       "      <th>1</th>\n",
       "      <td>2</td>\n",
       "      <td>M</td>\n",
       "      <td>79.33</td>\n",
       "      <td>Central</td>\n",
       "      <td>78.33</td>\n",
       "      <td>Others</td>\n",
       "      <td>Science</td>\n",
       "      <td>77.48</td>\n",
       "      <td>Sci&amp;Tech</td>\n",
       "      <td>Yes</td>\n",
       "      <td>86.5</td>\n",
       "      <td>Mkt&amp;Fin</td>\n",
       "      <td>66.28</td>\n",
       "      <td>Placed</td>\n",
       "      <td>200000.0</td>\n",
       "    </tr>\n",
       "    <tr>\n",
       "      <th>2</th>\n",
       "      <td>3</td>\n",
       "      <td>M</td>\n",
       "      <td>65.00</td>\n",
       "      <td>Central</td>\n",
       "      <td>68.00</td>\n",
       "      <td>Central</td>\n",
       "      <td>Arts</td>\n",
       "      <td>64.00</td>\n",
       "      <td>Comm&amp;Mgmt</td>\n",
       "      <td>No</td>\n",
       "      <td>75.0</td>\n",
       "      <td>Mkt&amp;Fin</td>\n",
       "      <td>57.80</td>\n",
       "      <td>Placed</td>\n",
       "      <td>250000.0</td>\n",
       "    </tr>\n",
       "    <tr>\n",
       "      <th>3</th>\n",
       "      <td>4</td>\n",
       "      <td>M</td>\n",
       "      <td>56.00</td>\n",
       "      <td>Central</td>\n",
       "      <td>52.00</td>\n",
       "      <td>Central</td>\n",
       "      <td>Science</td>\n",
       "      <td>52.00</td>\n",
       "      <td>Sci&amp;Tech</td>\n",
       "      <td>No</td>\n",
       "      <td>66.0</td>\n",
       "      <td>Mkt&amp;HR</td>\n",
       "      <td>59.43</td>\n",
       "      <td>Not Placed</td>\n",
       "      <td>NaN</td>\n",
       "    </tr>\n",
       "    <tr>\n",
       "      <th>4</th>\n",
       "      <td>5</td>\n",
       "      <td>M</td>\n",
       "      <td>85.80</td>\n",
       "      <td>Central</td>\n",
       "      <td>73.60</td>\n",
       "      <td>Central</td>\n",
       "      <td>Commerce</td>\n",
       "      <td>73.30</td>\n",
       "      <td>Comm&amp;Mgmt</td>\n",
       "      <td>No</td>\n",
       "      <td>96.8</td>\n",
       "      <td>Mkt&amp;Fin</td>\n",
       "      <td>55.50</td>\n",
       "      <td>Placed</td>\n",
       "      <td>425000.0</td>\n",
       "    </tr>\n",
       "  </tbody>\n",
       "</table>\n",
       "</div>"
      ],
      "text/plain": [
       "   sl_no gender  ssc_p    ssc_b  hsc_p    hsc_b     hsc_s  degree_p  \\\n",
       "0      1      M  67.00   Others  91.00   Others  Commerce     58.00   \n",
       "1      2      M  79.33  Central  78.33   Others   Science     77.48   \n",
       "2      3      M  65.00  Central  68.00  Central      Arts     64.00   \n",
       "3      4      M  56.00  Central  52.00  Central   Science     52.00   \n",
       "4      5      M  85.80  Central  73.60  Central  Commerce     73.30   \n",
       "\n",
       "    degree_t workex  etest_p specialisation  mba_p      status    salary  \n",
       "0   Sci&Tech     No     55.0         Mkt&HR  58.80      Placed  270000.0  \n",
       "1   Sci&Tech    Yes     86.5        Mkt&Fin  66.28      Placed  200000.0  \n",
       "2  Comm&Mgmt     No     75.0        Mkt&Fin  57.80      Placed  250000.0  \n",
       "3   Sci&Tech     No     66.0         Mkt&HR  59.43  Not Placed       NaN  \n",
       "4  Comm&Mgmt     No     96.8        Mkt&Fin  55.50      Placed  425000.0  "
      ]
     },
     "execution_count": 3,
     "metadata": {},
     "output_type": "execute_result"
    }
   ],
   "source": [
    "placement_df = pd.read_csv(\"Placement_Data_Full_Class.csv\")\n",
    "placement_df.head()"
   ]
  },
  {
   "cell_type": "code",
   "execution_count": 4,
   "id": "6bd5f3e2",
   "metadata": {},
   "outputs": [
    {
     "data": {
      "text/html": [
       "<div>\n",
       "<style scoped>\n",
       "    .dataframe tbody tr th:only-of-type {\n",
       "        vertical-align: middle;\n",
       "    }\n",
       "\n",
       "    .dataframe tbody tr th {\n",
       "        vertical-align: top;\n",
       "    }\n",
       "\n",
       "    .dataframe thead th {\n",
       "        text-align: right;\n",
       "    }\n",
       "</style>\n",
       "<table border=\"1\" class=\"dataframe\">\n",
       "  <thead>\n",
       "    <tr style=\"text-align: right;\">\n",
       "      <th></th>\n",
       "      <th>sl_no</th>\n",
       "      <th>ssc_p</th>\n",
       "      <th>hsc_p</th>\n",
       "      <th>degree_p</th>\n",
       "      <th>etest_p</th>\n",
       "      <th>mba_p</th>\n",
       "      <th>salary</th>\n",
       "    </tr>\n",
       "  </thead>\n",
       "  <tbody>\n",
       "    <tr>\n",
       "      <th>count</th>\n",
       "      <td>215.000000</td>\n",
       "      <td>215.000000</td>\n",
       "      <td>215.000000</td>\n",
       "      <td>215.000000</td>\n",
       "      <td>215.000000</td>\n",
       "      <td>215.000000</td>\n",
       "      <td>148.000000</td>\n",
       "    </tr>\n",
       "    <tr>\n",
       "      <th>mean</th>\n",
       "      <td>108.000000</td>\n",
       "      <td>67.303395</td>\n",
       "      <td>66.333163</td>\n",
       "      <td>66.370186</td>\n",
       "      <td>72.100558</td>\n",
       "      <td>62.278186</td>\n",
       "      <td>288655.405405</td>\n",
       "    </tr>\n",
       "    <tr>\n",
       "      <th>std</th>\n",
       "      <td>62.209324</td>\n",
       "      <td>10.827205</td>\n",
       "      <td>10.897509</td>\n",
       "      <td>7.358743</td>\n",
       "      <td>13.275956</td>\n",
       "      <td>5.833385</td>\n",
       "      <td>93457.452420</td>\n",
       "    </tr>\n",
       "    <tr>\n",
       "      <th>min</th>\n",
       "      <td>1.000000</td>\n",
       "      <td>40.890000</td>\n",
       "      <td>37.000000</td>\n",
       "      <td>50.000000</td>\n",
       "      <td>50.000000</td>\n",
       "      <td>51.210000</td>\n",
       "      <td>200000.000000</td>\n",
       "    </tr>\n",
       "    <tr>\n",
       "      <th>25%</th>\n",
       "      <td>54.500000</td>\n",
       "      <td>60.600000</td>\n",
       "      <td>60.900000</td>\n",
       "      <td>61.000000</td>\n",
       "      <td>60.000000</td>\n",
       "      <td>57.945000</td>\n",
       "      <td>240000.000000</td>\n",
       "    </tr>\n",
       "    <tr>\n",
       "      <th>50%</th>\n",
       "      <td>108.000000</td>\n",
       "      <td>67.000000</td>\n",
       "      <td>65.000000</td>\n",
       "      <td>66.000000</td>\n",
       "      <td>71.000000</td>\n",
       "      <td>62.000000</td>\n",
       "      <td>265000.000000</td>\n",
       "    </tr>\n",
       "    <tr>\n",
       "      <th>75%</th>\n",
       "      <td>161.500000</td>\n",
       "      <td>75.700000</td>\n",
       "      <td>73.000000</td>\n",
       "      <td>72.000000</td>\n",
       "      <td>83.500000</td>\n",
       "      <td>66.255000</td>\n",
       "      <td>300000.000000</td>\n",
       "    </tr>\n",
       "    <tr>\n",
       "      <th>max</th>\n",
       "      <td>215.000000</td>\n",
       "      <td>89.400000</td>\n",
       "      <td>97.700000</td>\n",
       "      <td>91.000000</td>\n",
       "      <td>98.000000</td>\n",
       "      <td>77.890000</td>\n",
       "      <td>940000.000000</td>\n",
       "    </tr>\n",
       "  </tbody>\n",
       "</table>\n",
       "</div>"
      ],
      "text/plain": [
       "            sl_no       ssc_p       hsc_p    degree_p     etest_p       mba_p  \\\n",
       "count  215.000000  215.000000  215.000000  215.000000  215.000000  215.000000   \n",
       "mean   108.000000   67.303395   66.333163   66.370186   72.100558   62.278186   \n",
       "std     62.209324   10.827205   10.897509    7.358743   13.275956    5.833385   \n",
       "min      1.000000   40.890000   37.000000   50.000000   50.000000   51.210000   \n",
       "25%     54.500000   60.600000   60.900000   61.000000   60.000000   57.945000   \n",
       "50%    108.000000   67.000000   65.000000   66.000000   71.000000   62.000000   \n",
       "75%    161.500000   75.700000   73.000000   72.000000   83.500000   66.255000   \n",
       "max    215.000000   89.400000   97.700000   91.000000   98.000000   77.890000   \n",
       "\n",
       "              salary  \n",
       "count     148.000000  \n",
       "mean   288655.405405  \n",
       "std     93457.452420  \n",
       "min    200000.000000  \n",
       "25%    240000.000000  \n",
       "50%    265000.000000  \n",
       "75%    300000.000000  \n",
       "max    940000.000000  "
      ]
     },
     "execution_count": 4,
     "metadata": {},
     "output_type": "execute_result"
    }
   ],
   "source": [
    "placement_df.describe()"
   ]
  },
  {
   "cell_type": "markdown",
   "id": "30e75891",
   "metadata": {},
   "source": [
    "The dataset is pretty clean except for our salary feature. This means that when we build our regression model we have to remove the missing values"
   ]
  },
  {
   "cell_type": "code",
   "execution_count": 5,
   "id": "da7b7db6",
   "metadata": {},
   "outputs": [
    {
     "data": {
      "text/plain": [
       "sl_no              0\n",
       "gender             0\n",
       "ssc_p              0\n",
       "ssc_b              0\n",
       "hsc_p              0\n",
       "hsc_b              0\n",
       "hsc_s              0\n",
       "degree_p           0\n",
       "degree_t           0\n",
       "workex             0\n",
       "etest_p            0\n",
       "specialisation     0\n",
       "mba_p              0\n",
       "status             0\n",
       "salary            67\n",
       "dtype: int64"
      ]
     },
     "execution_count": 5,
     "metadata": {},
     "output_type": "execute_result"
    }
   ],
   "source": [
    "placement_df.isnull().sum()"
   ]
  },
  {
   "cell_type": "code",
   "execution_count": 6,
   "id": "eb08b00a",
   "metadata": {},
   "outputs": [
    {
     "data": {
      "text/plain": [
       "array(['Others', 'Central'], dtype=object)"
      ]
     },
     "execution_count": 6,
     "metadata": {},
     "output_type": "execute_result"
    }
   ],
   "source": [
    "placement_df.hsc_b.unique()"
   ]
  },
  {
   "cell_type": "markdown",
   "id": "fdd429e2",
   "metadata": {},
   "source": [
    "# Data Preprocessing"
   ]
  },
  {
   "cell_type": "markdown",
   "id": "fb70a3dc",
   "metadata": {},
   "source": [
    "For us to load the data to the model we have to convert our categorical features into numeric. For features with only 2 categories we converted them to 1's and 0's while for those with more than 2. One hot encoding was done. "
   ]
  },
  {
   "cell_type": "code",
   "execution_count": 7,
   "id": "fa0446f5",
   "metadata": {},
   "outputs": [
    {
     "name": "stderr",
     "output_type": "stream",
     "text": [
      "C:\\ProgramData\\Anaconda3\\envs\\DATA102\\lib\\site-packages\\sklearn\\utils\\deprecation.py:87: FutureWarning: Function get_feature_names is deprecated; get_feature_names is deprecated in 1.0 and will be removed in 1.2. Please use get_feature_names_out instead.\n",
      "  warnings.warn(msg, category=FutureWarning)\n"
     ]
    },
    {
     "data": {
      "text/html": [
       "<div>\n",
       "<style scoped>\n",
       "    .dataframe tbody tr th:only-of-type {\n",
       "        vertical-align: middle;\n",
       "    }\n",
       "\n",
       "    .dataframe tbody tr th {\n",
       "        vertical-align: top;\n",
       "    }\n",
       "\n",
       "    .dataframe thead th {\n",
       "        text-align: right;\n",
       "    }\n",
       "</style>\n",
       "<table border=\"1\" class=\"dataframe\">\n",
       "  <thead>\n",
       "    <tr style=\"text-align: right;\">\n",
       "      <th></th>\n",
       "      <th>gender</th>\n",
       "      <th>ssc_p</th>\n",
       "      <th>ssc_b</th>\n",
       "      <th>hsc_p</th>\n",
       "      <th>hsc_b</th>\n",
       "      <th>degree_p</th>\n",
       "      <th>workex</th>\n",
       "      <th>etest_p</th>\n",
       "      <th>mba_p</th>\n",
       "      <th>status</th>\n",
       "      <th>salary</th>\n",
       "      <th>x0_Arts</th>\n",
       "      <th>x0_Commerce</th>\n",
       "      <th>x0_Science</th>\n",
       "      <th>x1_Comm&amp;Mgmt</th>\n",
       "      <th>x1_Others</th>\n",
       "      <th>x1_Sci&amp;Tech</th>\n",
       "      <th>x2_Mkt&amp;Fin</th>\n",
       "      <th>x2_Mkt&amp;HR</th>\n",
       "    </tr>\n",
       "  </thead>\n",
       "  <tbody>\n",
       "    <tr>\n",
       "      <th>0</th>\n",
       "      <td>0</td>\n",
       "      <td>67.00</td>\n",
       "      <td>0</td>\n",
       "      <td>91.00</td>\n",
       "      <td>0</td>\n",
       "      <td>58.00</td>\n",
       "      <td>0</td>\n",
       "      <td>55.0</td>\n",
       "      <td>58.80</td>\n",
       "      <td>1</td>\n",
       "      <td>270000.0</td>\n",
       "      <td>0.0</td>\n",
       "      <td>1.0</td>\n",
       "      <td>0.0</td>\n",
       "      <td>0.0</td>\n",
       "      <td>0.0</td>\n",
       "      <td>1.0</td>\n",
       "      <td>0.0</td>\n",
       "      <td>1.0</td>\n",
       "    </tr>\n",
       "    <tr>\n",
       "      <th>1</th>\n",
       "      <td>0</td>\n",
       "      <td>79.33</td>\n",
       "      <td>1</td>\n",
       "      <td>78.33</td>\n",
       "      <td>0</td>\n",
       "      <td>77.48</td>\n",
       "      <td>0</td>\n",
       "      <td>86.5</td>\n",
       "      <td>66.28</td>\n",
       "      <td>1</td>\n",
       "      <td>200000.0</td>\n",
       "      <td>0.0</td>\n",
       "      <td>0.0</td>\n",
       "      <td>1.0</td>\n",
       "      <td>0.0</td>\n",
       "      <td>0.0</td>\n",
       "      <td>1.0</td>\n",
       "      <td>1.0</td>\n",
       "      <td>0.0</td>\n",
       "    </tr>\n",
       "    <tr>\n",
       "      <th>2</th>\n",
       "      <td>0</td>\n",
       "      <td>65.00</td>\n",
       "      <td>1</td>\n",
       "      <td>68.00</td>\n",
       "      <td>0</td>\n",
       "      <td>64.00</td>\n",
       "      <td>0</td>\n",
       "      <td>75.0</td>\n",
       "      <td>57.80</td>\n",
       "      <td>1</td>\n",
       "      <td>250000.0</td>\n",
       "      <td>1.0</td>\n",
       "      <td>0.0</td>\n",
       "      <td>0.0</td>\n",
       "      <td>1.0</td>\n",
       "      <td>0.0</td>\n",
       "      <td>0.0</td>\n",
       "      <td>1.0</td>\n",
       "      <td>0.0</td>\n",
       "    </tr>\n",
       "    <tr>\n",
       "      <th>3</th>\n",
       "      <td>0</td>\n",
       "      <td>56.00</td>\n",
       "      <td>1</td>\n",
       "      <td>52.00</td>\n",
       "      <td>0</td>\n",
       "      <td>52.00</td>\n",
       "      <td>0</td>\n",
       "      <td>66.0</td>\n",
       "      <td>59.43</td>\n",
       "      <td>0</td>\n",
       "      <td>NaN</td>\n",
       "      <td>0.0</td>\n",
       "      <td>0.0</td>\n",
       "      <td>1.0</td>\n",
       "      <td>0.0</td>\n",
       "      <td>0.0</td>\n",
       "      <td>1.0</td>\n",
       "      <td>0.0</td>\n",
       "      <td>1.0</td>\n",
       "    </tr>\n",
       "    <tr>\n",
       "      <th>4</th>\n",
       "      <td>0</td>\n",
       "      <td>85.80</td>\n",
       "      <td>1</td>\n",
       "      <td>73.60</td>\n",
       "      <td>0</td>\n",
       "      <td>73.30</td>\n",
       "      <td>0</td>\n",
       "      <td>96.8</td>\n",
       "      <td>55.50</td>\n",
       "      <td>1</td>\n",
       "      <td>425000.0</td>\n",
       "      <td>0.0</td>\n",
       "      <td>1.0</td>\n",
       "      <td>0.0</td>\n",
       "      <td>1.0</td>\n",
       "      <td>0.0</td>\n",
       "      <td>0.0</td>\n",
       "      <td>1.0</td>\n",
       "      <td>0.0</td>\n",
       "    </tr>\n",
       "  </tbody>\n",
       "</table>\n",
       "</div>"
      ],
      "text/plain": [
       "   gender  ssc_p  ssc_b  hsc_p  hsc_b  degree_p  workex  etest_p  mba_p  \\\n",
       "0       0  67.00      0  91.00      0     58.00       0     55.0  58.80   \n",
       "1       0  79.33      1  78.33      0     77.48       0     86.5  66.28   \n",
       "2       0  65.00      1  68.00      0     64.00       0     75.0  57.80   \n",
       "3       0  56.00      1  52.00      0     52.00       0     66.0  59.43   \n",
       "4       0  85.80      1  73.60      0     73.30       0     96.8  55.50   \n",
       "\n",
       "   status    salary  x0_Arts  x0_Commerce  x0_Science  x1_Comm&Mgmt  \\\n",
       "0       1  270000.0      0.0          1.0         0.0           0.0   \n",
       "1       1  200000.0      0.0          0.0         1.0           0.0   \n",
       "2       1  250000.0      1.0          0.0         0.0           1.0   \n",
       "3       0       NaN      0.0          0.0         1.0           0.0   \n",
       "4       1  425000.0      0.0          1.0         0.0           1.0   \n",
       "\n",
       "   x1_Others  x1_Sci&Tech  x2_Mkt&Fin  x2_Mkt&HR  \n",
       "0        0.0          1.0         0.0        1.0  \n",
       "1        0.0          1.0         1.0        0.0  \n",
       "2        0.0          0.0         1.0        0.0  \n",
       "3        0.0          1.0         0.0        1.0  \n",
       "4        0.0          0.0         1.0        0.0  "
      ]
     },
     "execution_count": 7,
     "metadata": {},
     "output_type": "execute_result"
    }
   ],
   "source": [
    "model_data = placement_df.copy(deep=True)\n",
    "\n",
    "#remove sl_no column from the model data\n",
    "model_data.drop(\"sl_no\", inplace=True, axis=1)\n",
    "#convert gender to numeric \n",
    "model_data.gender = model_data.gender.apply(lambda x: 1 if x == 'F' else 0)\n",
    "#convert ssc_b, hsc_b to numeric\n",
    "model_data.ssc_b = model_data.ssc_b.apply(lambda x: 1 if x == 'Central' else 0)\n",
    "model_data.hsc_b = model_data.ssc_b.apply(lambda x: 1 if x == 'Central' else 0)\n",
    "#convert workex to numeric\n",
    "model_data.workex = model_data.ssc_b.apply(lambda x: 1 if x == 'Yes' else 0)\n",
    "#convert status to numeric\n",
    "model_data.status = model_data.status.apply(lambda x: 1 if x == 'Placed' else 0)\n",
    "\n",
    "#one hot encode features with multiple categories \n",
    "multi_categorical_features = ['hsc_s', 'degree_t', 'specialisation']\n",
    "enc = OneHotEncoder(handle_unknown='ignore')\n",
    "res = enc.fit_transform(model_data[multi_categorical_features])\n",
    "res_df = pd.DataFrame(res.todense(), columns=enc.get_feature_names())\n",
    "\n",
    "model_data.drop(multi_categorical_features, axis=1, inplace=True)\n",
    "model_data = pd.concat([model_data, res_df], axis=1)\n",
    "\n",
    "model_data.head()"
   ]
  },
  {
   "cell_type": "markdown",
   "id": "14854aae",
   "metadata": {},
   "source": [
    "**Read through the data preprocessing script, why did we drop the sl_no as part of the features for our modeling? (1pt)**"
   ]
  },
  {
   "cell_type": "markdown",
   "id": "b6c8ec33",
   "metadata": {},
   "source": [
    "We drop the serial number as it is an identifier but not a feature that carries relevance to the output."
   ]
  },
  {
   "cell_type": "markdown",
   "id": "bf68a3ea",
   "metadata": {},
   "source": [
    "# Creating a Classification Model using KMeans"
   ]
  },
  {
   "cell_type": "markdown",
   "id": "ddcc3df9",
   "metadata": {},
   "source": [
    "In this section you will create a KMeans classifier wherein the target is the status feature. This means we are trying to forecast if a student is going to be placed (1) or not (0). "
   ]
  },
  {
   "cell_type": "markdown",
   "id": "120b11d5",
   "metadata": {},
   "source": [
    "**Plot the distribution of our target variable (2pts)**"
   ]
  },
  {
   "cell_type": "code",
   "execution_count": 8,
   "id": "0d939031",
   "metadata": {},
   "outputs": [
    {
     "name": "stderr",
     "output_type": "stream",
     "text": [
      "C:\\ProgramData\\Anaconda3\\envs\\DATA102\\lib\\site-packages\\seaborn\\_decorators.py:36: FutureWarning: Pass the following variable as a keyword arg: x. From version 0.12, the only valid positional argument will be `data`, and passing other arguments without an explicit keyword will result in an error or misinterpretation.\n",
      "  warnings.warn(\n"
     ]
    },
    {
     "data": {
      "text/plain": [
       "Text(0, 0.5, 'Count in dataset')"
      ]
     },
     "execution_count": 8,
     "metadata": {},
     "output_type": "execute_result"
    },
    {
     "data": {
      "image/png": "[encoded data removed]",
      "text/plain": [
       "<Figure size 432x288 with 1 Axes>"
      ]
     },
     "metadata": {},
     "output_type": "display_data"
    }
   ],
   "source": [
    "ax = sns.countplot(model_data['status'], color=dlsu_green)\n",
    "ax.set_title('Status distribution in Dataset')\n",
    "ax.set_xlabel('Status')\n",
    "ax.set_ylabel('Count in dataset')"
   ]
  },
  {
   "cell_type": "code",
   "execution_count": 9,
   "id": "78b5cdf8-6239-4275-884c-e54682e19223",
   "metadata": {},
   "outputs": [
    {
     "data": {
      "image/png": "[encoded data removed]",
      "text/plain": [
       "<Figure size 432x288 with 1 Axes>"
      ]
     },
     "metadata": {},
     "output_type": "display_data"
    }
   ],
   "source": [
    "ax = plt.pie(model_data['status'].value_counts(), labels = model_data['status'].unique(), autopct='%.0f%%')"
   ]
  },
  {
   "cell_type": "markdown",
   "id": "71decccb",
   "metadata": {},
   "source": [
    "**what insights can you get from the target distribution? how will this affect our model? (2pts)**"
   ]
  },
  {
   "cell_type": "markdown",
   "id": "11ca2b7a-6752-42ab-b362-575488e3b9f6",
   "metadata": {},
   "source": [
    "The dataset is imbalanced and is biased towards status placements. As shown in the chart, 69% of the data indicates placement while 31% indicates non-placement. Thus, the evaluation metrics must be adjusted accordingly to accomodate this imbalance."
   ]
  },
  {
   "cell_type": "markdown",
   "id": "f90c63d9",
   "metadata": {},
   "source": [
    "## Model Development"
   ]
  },
  {
   "cell_type": "markdown",
   "id": "3629d96a",
   "metadata": {},
   "source": [
    "**drop the salary feature as part of the model for the classification problem and store the independent variables to X and the dependent variable to y (3pts)**"
   ]
  },
  {
   "cell_type": "code",
   "execution_count": 10,
   "id": "f532a677",
   "metadata": {},
   "outputs": [],
   "source": [
    "classif_model_data = model_data.drop(['salary'], axis=1)\n",
    "X =  classif_model_data.drop(['status'], axis=1)\n",
    "y = classif_model_data['status']"
   ]
  },
  {
   "cell_type": "code",
   "execution_count": 11,
   "id": "e1422572-5334-4728-b242-ab611681ee0d",
   "metadata": {},
   "outputs": [
    {
     "name": "stdout",
     "output_type": "stream",
     "text": [
      "(215, 17) (215,)\n"
     ]
    }
   ],
   "source": [
    "print(X.shape, y.shape)"
   ]
  },
  {
   "cell_type": "markdown",
   "id": "09e0892d",
   "metadata": {},
   "source": [
    "**why were you asked to drop the salaray variable as part of the features used for modeling? (2pts)**"
   ]
  },
  {
   "cell_type": "markdown",
   "id": "4ae8e00e-2f51-48ad-a8d3-115569dcd085",
   "metadata": {},
   "source": [
    "In the code above, we derive a classification dataset from the original dataset. We derive this dataset by dropping the other output feature which is the salary offer. Then, we specify the output to be the status with the remaining 17 features as inputs. Salary was droppped in this problem as it is another output data which is unneeded in this classification problem."
   ]
  },
  {
   "cell_type": "markdown",
   "id": "82879313",
   "metadata": {},
   "source": [
    "**import the necessary packages to run the KMeans Classifier (1pt)** "
   ]
  },
  {
   "cell_type": "code",
   "execution_count": 12,
   "id": "9465b1ee",
   "metadata": {},
   "outputs": [],
   "source": [
    "from sklearn.neighbors import KNeighborsClassifier\n",
    "from sklearn.model_selection import train_test_split\n",
    "from sklearn.metrics import r2_score\n",
    "from sklearn.metrics import precision_score, recall_score, f1_score, accuracy_score"
   ]
  },
  {
   "cell_type": "markdown",
   "id": "2f6fb030",
   "metadata": {},
   "source": [
    "**do a train-test split wherein 70% of the data is used for training and 30% is used for testing (2pts)**"
   ]
  },
  {
   "cell_type": "code",
   "execution_count": 13,
   "id": "7ed492ee",
   "metadata": {},
   "outputs": [],
   "source": [
    "X_train, X_test, y_train, y_test = train_test_split(X, y, test_size=.3, random_state=42)"
   ]
  },
  {
   "cell_type": "code",
   "execution_count": 14,
   "id": "89a48ca7",
   "metadata": {},
   "outputs": [
    {
     "data": {
      "text/plain": [
       "(150, 17)"
      ]
     },
     "metadata": {},
     "output_type": "display_data"
    },
    {
     "data": {
      "text/plain": [
       "(65, 17)"
      ]
     },
     "metadata": {},
     "output_type": "display_data"
    }
   ],
   "source": [
    "display(X_train.shape)\n",
    "display(X_test.shape)"
   ]
  },
  {
   "cell_type": "markdown",
   "id": "564dd6c5",
   "metadata": {},
   "source": [
    "**build an initial K-Means model and set the K to 3 and show the train & test accuracy (2 pts)**"
   ]
  },
  {
   "cell_type": "code",
   "execution_count": 17,
   "id": "b523a54c",
   "metadata": {},
   "outputs": [
    {
     "data": {
      "text/plain": [
       "KNeighborsClassifier(n_neighbors=3)"
      ]
     },
     "execution_count": 17,
     "metadata": {},
     "output_type": "execute_result"
    }
   ],
   "source": [
    "clf = KNeighborsClassifier(n_neighbors = 3, p=2)\n",
    "clf.fit(X_train, y_train)"
   ]
  },
  {
   "cell_type": "code",
   "execution_count": 19,
   "id": "263264df-9126-479e-9096-c859aad9f119",
   "metadata": {},
   "outputs": [
    {
     "name": "stdout",
     "output_type": "stream",
     "text": [
      "Train Accuracy: 0.95\n",
      "Test Accuracy: 0.75\n"
     ]
    }
   ],
   "source": [
    "print('Train Accuracy: {:.2f}'.format(clf.score(X_train,y_train)))\n",
    "print('Test Accuracy: {:.2f}'.format(clf.score(X_test, y_test)))"
   ]
  },
  {
   "cell_type": "markdown",
   "id": "f440f771",
   "metadata": {},
   "source": [
    "**what do you observe in the accuracy of the train and test data, was there an increase/decrease in accuracy? what could be the reason as to why there was an increase/decrease? (3pts)**"
   ]
  },
  {
   "cell_type": "markdown",
   "id": "eeb54de2-9396-41e2-a5cd-8a29be5a1a0a",
   "metadata": {},
   "source": [
    "There is a signfiicant decrease in accuracy from the training to testing data. The high accuracy of the training dataset can be attributed to the fact that the model itself has seen the data previously, unlike the testing data which the model has never seen."
   ]
  },
  {
   "cell_type": "markdown",
   "id": "229c9ad1",
   "metadata": {},
   "source": [
    "**run k-means using different k settings from 1 to 20 store the train and test accuracy for each iteration and do a line plot for the train & test accuracy (3pts)** "
   ]
  },
  {
   "cell_type": "code",
   "execution_count": 22,
   "id": "dd2f744d",
   "metadata": {},
   "outputs": [
    {
     "data": {
      "text/html": [
       "<div>\n",
       "<style scoped>\n",
       "    .dataframe tbody tr th:only-of-type {\n",
       "        vertical-align: middle;\n",
       "    }\n",
       "\n",
       "    .dataframe tbody tr th {\n",
       "        vertical-align: top;\n",
       "    }\n",
       "\n",
       "    .dataframe thead th {\n",
       "        text-align: right;\n",
       "    }\n",
       "</style>\n",
       "<table border=\"1\" class=\"dataframe\">\n",
       "  <thead>\n",
       "    <tr style=\"text-align: right;\">\n",
       "      <th></th>\n",
       "      <th>k</th>\n",
       "      <th>Train Accuracy</th>\n",
       "      <th>Test Accuracy</th>\n",
       "    </tr>\n",
       "  </thead>\n",
       "  <tbody>\n",
       "    <tr>\n",
       "      <th>0</th>\n",
       "      <td>1</td>\n",
       "      <td>1.000000</td>\n",
       "      <td>0.738462</td>\n",
       "    </tr>\n",
       "    <tr>\n",
       "      <th>1</th>\n",
       "      <td>2</td>\n",
       "      <td>0.893333</td>\n",
       "      <td>0.723077</td>\n",
       "    </tr>\n",
       "    <tr>\n",
       "      <th>2</th>\n",
       "      <td>3</td>\n",
       "      <td>0.946667</td>\n",
       "      <td>0.753846</td>\n",
       "    </tr>\n",
       "    <tr>\n",
       "      <th>3</th>\n",
       "      <td>4</td>\n",
       "      <td>0.900000</td>\n",
       "      <td>0.753846</td>\n",
       "    </tr>\n",
       "    <tr>\n",
       "      <th>4</th>\n",
       "      <td>5</td>\n",
       "      <td>0.920000</td>\n",
       "      <td>0.784615</td>\n",
       "    </tr>\n",
       "    <tr>\n",
       "      <th>5</th>\n",
       "      <td>6</td>\n",
       "      <td>0.900000</td>\n",
       "      <td>0.753846</td>\n",
       "    </tr>\n",
       "    <tr>\n",
       "      <th>6</th>\n",
       "      <td>7</td>\n",
       "      <td>0.893333</td>\n",
       "      <td>0.800000</td>\n",
       "    </tr>\n",
       "    <tr>\n",
       "      <th>7</th>\n",
       "      <td>8</td>\n",
       "      <td>0.893333</td>\n",
       "      <td>0.738462</td>\n",
       "    </tr>\n",
       "    <tr>\n",
       "      <th>8</th>\n",
       "      <td>9</td>\n",
       "      <td>0.893333</td>\n",
       "      <td>0.800000</td>\n",
       "    </tr>\n",
       "    <tr>\n",
       "      <th>9</th>\n",
       "      <td>10</td>\n",
       "      <td>0.900000</td>\n",
       "      <td>0.753846</td>\n",
       "    </tr>\n",
       "    <tr>\n",
       "      <th>10</th>\n",
       "      <td>11</td>\n",
       "      <td>0.880000</td>\n",
       "      <td>0.800000</td>\n",
       "    </tr>\n",
       "    <tr>\n",
       "      <th>11</th>\n",
       "      <td>12</td>\n",
       "      <td>0.900000</td>\n",
       "      <td>0.784615</td>\n",
       "    </tr>\n",
       "    <tr>\n",
       "      <th>12</th>\n",
       "      <td>13</td>\n",
       "      <td>0.873333</td>\n",
       "      <td>0.784615</td>\n",
       "    </tr>\n",
       "    <tr>\n",
       "      <th>13</th>\n",
       "      <td>14</td>\n",
       "      <td>0.886667</td>\n",
       "      <td>0.784615</td>\n",
       "    </tr>\n",
       "    <tr>\n",
       "      <th>14</th>\n",
       "      <td>15</td>\n",
       "      <td>0.866667</td>\n",
       "      <td>0.784615</td>\n",
       "    </tr>\n",
       "    <tr>\n",
       "      <th>15</th>\n",
       "      <td>16</td>\n",
       "      <td>0.880000</td>\n",
       "      <td>0.784615</td>\n",
       "    </tr>\n",
       "    <tr>\n",
       "      <th>16</th>\n",
       "      <td>17</td>\n",
       "      <td>0.860000</td>\n",
       "      <td>0.784615</td>\n",
       "    </tr>\n",
       "    <tr>\n",
       "      <th>17</th>\n",
       "      <td>18</td>\n",
       "      <td>0.880000</td>\n",
       "      <td>0.784615</td>\n",
       "    </tr>\n",
       "    <tr>\n",
       "      <th>18</th>\n",
       "      <td>19</td>\n",
       "      <td>0.866667</td>\n",
       "      <td>0.784615</td>\n",
       "    </tr>\n",
       "    <tr>\n",
       "      <th>19</th>\n",
       "      <td>20</td>\n",
       "      <td>0.866667</td>\n",
       "      <td>0.784615</td>\n",
       "    </tr>\n",
       "  </tbody>\n",
       "</table>\n",
       "</div>"
      ],
      "text/plain": [
       "     k  Train Accuracy  Test Accuracy\n",
       "0    1        1.000000       0.738462\n",
       "1    2        0.893333       0.723077\n",
       "2    3        0.946667       0.753846\n",
       "3    4        0.900000       0.753846\n",
       "4    5        0.920000       0.784615\n",
       "5    6        0.900000       0.753846\n",
       "6    7        0.893333       0.800000\n",
       "7    8        0.893333       0.738462\n",
       "8    9        0.893333       0.800000\n",
       "9   10        0.900000       0.753846\n",
       "10  11        0.880000       0.800000\n",
       "11  12        0.900000       0.784615\n",
       "12  13        0.873333       0.784615\n",
       "13  14        0.886667       0.784615\n",
       "14  15        0.866667       0.784615\n",
       "15  16        0.880000       0.784615\n",
       "16  17        0.860000       0.784615\n",
       "17  18        0.880000       0.784615\n",
       "18  19        0.866667       0.784615\n",
       "19  20        0.866667       0.784615"
      ]
     },
     "execution_count": 22,
     "metadata": {},
     "output_type": "execute_result"
    }
   ],
   "source": [
    "res =[]\n",
    "for k in range(1,21):\n",
    "    clf = KNeighborsClassifier(n_neighbors=k, p =2)\n",
    "    clf.fit(X_train, y_train)\n",
    "    y_pred = clf.predict(X_train)\n",
    "    y_pred2 = clf.predict(X_test)\n",
    "    res.append([k, accuracy_score(y_train,y_pred), accuracy_score(y_test, y_pred2)])\n",
    "    \n",
    "res_df = pd.DataFrame(res, columns=['k', 'Train Accuracy', 'Test Accuracy'])\n",
    "res_df"
   ]
  },
  {
   "cell_type": "code",
   "execution_count": 24,
   "id": "ee35829d-302f-430f-86dd-f37972d4cfe8",
   "metadata": {},
   "outputs": [
    {
     "data": {
      "text/plain": [
       "[<matplotlib.axis.XTick at 0x1a4d7e8cac0>,\n",
       " <matplotlib.axis.XTick at 0x1a4d7e8ca90>,\n",
       " <matplotlib.axis.XTick at 0x1a4d7e64f70>,\n",
       " <matplotlib.axis.XTick at 0x1a4d7c3ce80>,\n",
       " <matplotlib.axis.XTick at 0x1a4d7c34220>,\n",
       " <matplotlib.axis.XTick at 0x1a4d7c348b0>,\n",
       " <matplotlib.axis.XTick at 0x1a4d7c5b100>,\n",
       " <matplotlib.axis.XTick at 0x1a4d7c5b790>,\n",
       " <matplotlib.axis.XTick at 0x1a4d7c5bee0>,\n",
       " <matplotlib.axis.XTick at 0x1a4d7c24670>,\n",
       " <matplotlib.axis.XTick at 0x1a4d79f00d0>,\n",
       " <matplotlib.axis.XTick at 0x1a4d7e996a0>,\n",
       " <matplotlib.axis.XTick at 0x1a4d7d56d00>,\n",
       " <matplotlib.axis.XTick at 0x1a4d7d45490>,\n",
       " <matplotlib.axis.XTick at 0x1a4d7d45be0>,\n",
       " <matplotlib.axis.XTick at 0x1a4d7d453d0>,\n",
       " <matplotlib.axis.XTick at 0x1a4d7d56cd0>,\n",
       " <matplotlib.axis.XTick at 0x1a4d7d27490>,\n",
       " <matplotlib.axis.XTick at 0x1a4d7d27c10>,\n",
       " <matplotlib.axis.XTick at 0x1a4d7d363a0>]"
      ]
     },
     "execution_count": 24,
     "metadata": {},
     "output_type": "execute_result"
    },
    {
     "data": {
      "image/png": "[encoded data removed]",
      "text/plain": [
       "<Figure size 864x360 with 1 Axes>"
      ]
     },
     "metadata": {},
     "output_type": "display_data"
    }
   ],
   "source": [
    "fig, ax = plt.subplots(figsize=(12,5))\n",
    "sns.lineplot(data=pd.melt(res_df, ['k']), x='k', y='value', hue='variable', ax=ax)\n",
    "ax.xaxis.set_ticks(range(1,21,1))"
   ]
  },
  {
   "cell_type": "code",
   "execution_count": 25,
   "id": "d4d4852d-1a22-46a4-9958-9f61d251fe1f",
   "metadata": {},
   "outputs": [
    {
     "data": {
      "text/html": [
       "<div>\n",
       "<style scoped>\n",
       "    .dataframe tbody tr th:only-of-type {\n",
       "        vertical-align: middle;\n",
       "    }\n",
       "\n",
       "    .dataframe tbody tr th {\n",
       "        vertical-align: top;\n",
       "    }\n",
       "\n",
       "    .dataframe thead th {\n",
       "        text-align: right;\n",
       "    }\n",
       "</style>\n",
       "<table border=\"1\" class=\"dataframe\">\n",
       "  <thead>\n",
       "    <tr style=\"text-align: right;\">\n",
       "      <th></th>\n",
       "      <th>k</th>\n",
       "      <th>Train Accuracy</th>\n",
       "      <th>Test Accuracy</th>\n",
       "    </tr>\n",
       "  </thead>\n",
       "  <tbody>\n",
       "    <tr>\n",
       "      <th>6</th>\n",
       "      <td>7</td>\n",
       "      <td>0.893333</td>\n",
       "      <td>0.8</td>\n",
       "    </tr>\n",
       "  </tbody>\n",
       "</table>\n",
       "</div>"
      ],
      "text/plain": [
       "   k  Train Accuracy  Test Accuracy\n",
       "6  7        0.893333            0.8"
      ]
     },
     "execution_count": 25,
     "metadata": {},
     "output_type": "execute_result"
    }
   ],
   "source": [
    "res_df.iloc[[res_df['Test Accuracy'].idxmax()]]"
   ]
  },
  {
   "cell_type": "markdown",
   "id": "cf7c7a2b",
   "metadata": {},
   "source": [
    "**from the plot what would you recommend as the optimal k-setting to use & why? (3pts)**"
   ]
  },
  {
   "cell_type": "markdown",
   "id": "7bf94a38-30e5-4bbe-a85b-fa81cde3ebe2",
   "metadata": {},
   "source": [
    "From the plot, the maximum test accuracy is **0.8 at k = 7**. The training accuracy is ignored as it is an invalid evaluation metric as the model has seen the same data."
   ]
  },
  {
   "cell_type": "markdown",
   "id": "6fe4ad9a",
   "metadata": {},
   "source": [
    "# Creating a Regression Model using Linear Regression"
   ]
  },
  {
   "cell_type": "markdown",
   "id": "19598e3c",
   "metadata": {},
   "source": [
    "In this section you will create a Linear Regression model wherein the target is the salary feature. This means we are trying to forecast potential salary of a student when they are employed."
   ]
  },
  {
   "cell_type": "markdown",
   "id": "d28d9538",
   "metadata": {},
   "source": [
    "**From our initial anylsis we saw that our target feature has missing values, drop the missing values, we also don't need the status feature for the model so we drop this column also(2pts)**"
   ]
  },
  {
   "cell_type": "code",
   "execution_count": 29,
   "id": "f8af47a8",
   "metadata": {},
   "outputs": [
    {
     "data": {
      "text/plain": [
       "gender          0\n",
       "ssc_p           0\n",
       "ssc_b           0\n",
       "hsc_p           0\n",
       "hsc_b           0\n",
       "degree_p        0\n",
       "workex          0\n",
       "etest_p         0\n",
       "mba_p           0\n",
       "salary          0\n",
       "x0_Arts         0\n",
       "x0_Commerce     0\n",
       "x0_Science      0\n",
       "x1_Comm&Mgmt    0\n",
       "x1_Others       0\n",
       "x1_Sci&Tech     0\n",
       "x2_Mkt&Fin      0\n",
       "x2_Mkt&HR       0\n",
       "dtype: int64"
      ]
     },
     "execution_count": 29,
     "metadata": {},
     "output_type": "execute_result"
    }
   ],
   "source": [
    "reg_model_data = model_data.drop(['status'], axis=1)\n",
    "reg_model_data = reg_model_data.dropna()\n",
    "reg_model_data.isnull().sum()"
   ]
  },
  {
   "cell_type": "markdown",
   "id": "c3a2fc70",
   "metadata": {},
   "source": [
    "**Plot the distribution of our target variable (2pts)**"
   ]
  },
  {
   "cell_type": "code",
   "execution_count": 38,
   "id": "44afc2c7",
   "metadata": {},
   "outputs": [
    {
     "data": {
      "text/plain": [
       "<seaborn.axisgrid.FacetGrid at 0x1a481db30a0>"
      ]
     },
     "execution_count": 38,
     "metadata": {},
     "output_type": "execute_result"
    },
    {
     "data": {
      "image/png": "[encoded data removed]",
      "text/plain": [
       "<Figure size 360x360 with 1 Axes>"
      ]
     },
     "metadata": {},
     "output_type": "display_data"
    }
   ],
   "source": [
    "sns.displot(reg_model_data, x='salary', bins=10)"
   ]
  },
  {
   "cell_type": "markdown",
   "id": "61d6c783",
   "metadata": {},
   "source": [
    "**what insights can you get from the target distribution? how will this affect our model? (2pts)**"
   ]
  },
  {
   "cell_type": "markdown",
   "id": "9ff91d44-c78d-4f8c-8bac-bfaa6453cb50",
   "metadata": {},
   "source": [
    "From the distribution, it can be seen that the most common salary range is in between 20k to 30k. There a number of outliers exceeding 50k and this may potentially skew the regression line to predict salaries a little bit higher than the actual."
   ]
  },
  {
   "cell_type": "markdown",
   "id": "1cfc876a",
   "metadata": {},
   "source": [
    "## Model Development"
   ]
  },
  {
   "cell_type": "markdown",
   "id": "d02b8e97",
   "metadata": {},
   "source": [
    "**import the necessary packages to run Linear Regression (1pt)**"
   ]
  },
  {
   "cell_type": "code",
   "execution_count": 39,
   "id": "846e9ff5",
   "metadata": {},
   "outputs": [],
   "source": [
    "from sklearn.linear_model import LinearRegression"
   ]
  },
  {
   "cell_type": "markdown",
   "id": "b72a408b",
   "metadata": {},
   "source": [
    "**do a train-test split wherein 70% of the data is used for training and 30% is used for testing (2pts)**"
   ]
  },
  {
   "cell_type": "code",
   "execution_count": 40,
   "id": "81e2fd5f",
   "metadata": {},
   "outputs": [],
   "source": [
    "X_train, X_test, y_train, y_test = train_test_split(X, y, test_size=.3, random_state=42)"
   ]
  },
  {
   "cell_type": "markdown",
   "id": "a30d728b",
   "metadata": {},
   "source": [
    "**build linear regression model and show the train & test r2 score (2 pts)**"
   ]
  },
  {
   "cell_type": "code",
   "execution_count": 44,
   "id": "6d94eb12",
   "metadata": {},
   "outputs": [
    {
     "name": "stdout",
     "output_type": "stream",
     "text": [
      "Train Accuracy: 0.57\n",
      "Test Accuracy: 0.41\n"
     ]
    }
   ],
   "source": [
    "reg = LinearRegression().fit(X_train, y_train)\n",
    "print('Train Accuracy: {:.2f}'.format(reg.score(X_train,y_train)))\n",
    "print('Test Accuracy: {:.2f}'.format(reg.score(X_test, y_test)))"
   ]
  },
  {
   "cell_type": "markdown",
   "id": "1fa9436f",
   "metadata": {},
   "source": [
    "**What can be interpreted from the R-squared score? (2pts)**"
   ]
  },
  {
   "cell_type": "markdown",
   "id": "559fc948-60fe-4eb7-af60-7c561b4c031d",
   "metadata": {},
   "source": [
    "The data fits 41% of the model thus may not be a good model for predicting salary."
   ]
  },
  {
   "cell_type": "markdown",
   "id": "fd0ff796",
   "metadata": {},
   "source": [
    "**Plot the coeffiecients of the linear regression model (2pts)**"
   ]
  },
  {
   "cell_type": "code",
   "execution_count": 49,
   "id": "fb7826c5",
   "metadata": {},
   "outputs": [
    {
     "data": {
      "image/png": "[encoded data removed]",
      "text/plain": [
       "<Figure size 1080x720 with 1 Axes>"
      ]
     },
     "metadata": {},
     "output_type": "display_data"
    }
   ],
   "source": [
    "cols = reg_model_data.columns.drop('salary')\n",
    "fig, ax = plt.subplots(figsize=(15,10))\n",
    "sns.barplot(x=reg.coef_, y=cols)\n",
    "\n",
    "for p in ax.patches:\n",
    "    width = p.get_width()    # get bar length\n",
    "    ax.text(width - .01,       # set the text at 1 unit right of the bar\n",
    "            p.get_y() + p.get_height() / 2, # get Y coordinate + X coordinate / 2\n",
    "            '{:1.2f}'.format(width), # set variable to display, 2 decimals\n",
    "            ha = 'left',   # horizontal alignment\n",
    "            va = 'center',\n",
    "            fontsize=13)  # vertical alignment"
   ]
  },
  {
   "cell_type": "markdown",
   "id": "00fd169a",
   "metadata": {},
   "source": [
    "**From the plot, what kind of insights are you able to derive? Can these insights be trusted based on the R2 score? Why or why not? (4pts)**"
   ]
  },
  {
   "cell_type": "markdown",
   "id": "ce910d7e-c087-404d-9c04-cd998e03f487",
   "metadata": {},
   "source": [
    "From the chart above, it can be said that work experience, employability test, and the board of education features have no significant impact in the regression model. But, given the low R2 score, it can be best assumed that the model itself is not an accurate predictor, thus need to be optimized prior to the removal of features. This may be done by removing outlier data or normalizing the salary data based on the previous distribution. Then, after testing the model with a modified dataset, if the feature importance scores are similar to the scores above, it can be concluded that the three previously mentioned features should be removed as it has no significant impact in the model."
   ]
  }
 ],
 "metadata": {
  "kernelspec": {
   "display_name": "Python 3",
   "language": "python",
   "name": "python3"
  },
  "language_info": {
   "codemirror_mode": {
    "name": "ipython",
    "version": 3
   },
   "file_extension": ".py",
   "mimetype": "text/x-python",
   "name": "python",
   "nbconvert_exporter": "python",
   "pygments_lexer": "ipython3",
   "version": "3.8.10"
  }
 },
 "nbformat": 4,
 "nbformat_minor": 5
}
