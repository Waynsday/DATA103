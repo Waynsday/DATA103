{
 "cells": [
  {
   "cell_type": "markdown",
   "id": "911d6a41",
   "metadata": {},
   "source": [
    "# Akeboshi, Wayne"
   ]
  },
  {
   "cell_type": "markdown",
   "id": "5a74be5b",
   "metadata": {},
   "source": [
    "For this quiz your knowledge on KNN, Linear Regression and Logistic Regression will be tested. 1 dataset will be used for the quiz for a classification problem. **Please leave your partial solutions and comment as to what you are trying to do in your solution so that you can get partial points**"
   ]
  },
  {
   "cell_type": "markdown",
   "id": "b227cb41",
   "metadata": {},
   "source": [
    "# Classification using KNN & Logistic Regression"
   ]
  },
  {
   "cell_type": "markdown",
   "id": "84f639e2",
   "metadata": {},
   "source": [
    "For telcos one of the business problems they face is customer churn. This means users have unsubscribed to their services in effect reducing their potential income. With this you are tasked to build a classifiation model using KNN & Logistic Regression. By having this model, the company is able to be more proactive in preventing customer churn. The dataset contains the following features\n",
    "\n",
    "- customerId - unique identifier for customer\n",
    "- gender - customer gender male/female\n",
    "- SeniorCitizen\t- indicator if customer is senior citizent 0/1\n",
    "- Partner - Whether the customer has a partner or not (Yes, No)\n",
    "- Dependents - Whether the customer has dependents or not (Yes, No)\n",
    "- tenure - Number of months the customer has stayed with the company\n",
    "- PhoneService - Whether the customer has a phone service or not (Yes, No)\n",
    "- MultipleLines\t- Whether the customer has multiple lines or not (Yes, No, No phone service)\n",
    "- InternetService - Customer’s internet service provider (DSL, Fiber optic, No)\n",
    "- OnlineSecurity - Whether the customer has online security or not (Yes, No, No internet service)\n",
    "- OnlineBackup - Whether the customer has online backup or not (Yes, No, No internet service)\n",
    "- DeviceProtection - Whether the customer has device protection or not (Yes, No, No internet service)\n",
    "- TechSupport - Whether the customer has tech support or not (Yes, No, No internet service)\n",
    "- StreamingTV - Whether the customer has streaming TV or not (Yes, No, No internet service)\n",
    "- StreamingMovies - Whether the customer has streaming movies or not (Yes, No, No internet service)\n",
    "- Contract - The contract term of the customer (Month-to-month, One year, Two year)\n",
    "- PaperlessBilling - Whether the customer has paperless billing or not (Yes, No)\n",
    "- PaymentMethod\t- The customer’s payment method (Electronic check, Mailed check, Bank transfer (automatic), Credit card (automatic))\n",
    "- MonthlyCharges - The amount charged to the customer monthly\n",
    "- TotalCharges - The total amount charged to the customer\n",
    "- Churn - Whether the customer churned or not (Yes or No)\n",
    "\n",
    "For this dataset our model will be optimized based on the Churn field "
   ]
  },
  {
   "cell_type": "code",
   "execution_count": 1,
   "id": "e49706aa",
   "metadata": {},
   "outputs": [],
   "source": [
    "import pandas as pd \n",
    "import seaborn as sns \n",
    "import matplotlib.pyplot as plt\n",
    "\n",
    "sns.set_style('whitegrid')\n",
    "sns.set_palette('Set2')\n",
    "sns.color_palette('Set2')\n",
    "dlsu_green = \"#117a65ff\"\n",
    "\n",
    "from sklearn.model_selection import train_test_split\n",
    "from sklearn.metrics import r2_score\n",
    "from sklearn.neighbors import KNeighborsClassifier\n",
    "from sklearn.linear_model import LogisticRegression\n",
    "from sklearn.preprocessing import OneHotEncoder\n",
    "from sklearn.metrics import precision_score, recall_score, f1_score, accuracy_score\n"
   ]
  },
  {
   "cell_type": "code",
   "execution_count": 2,
   "id": "d805e994",
   "metadata": {},
   "outputs": [
    {
     "data": {
      "text/html": [
       "<div>\n",
       "<style scoped>\n",
       "    .dataframe tbody tr th:only-of-type {\n",
       "        vertical-align: middle;\n",
       "    }\n",
       "\n",
       "    .dataframe tbody tr th {\n",
       "        vertical-align: top;\n",
       "    }\n",
       "\n",
       "    .dataframe thead th {\n",
       "        text-align: right;\n",
       "    }\n",
       "</style>\n",
       "<table border=\"1\" class=\"dataframe\">\n",
       "  <thead>\n",
       "    <tr style=\"text-align: right;\">\n",
       "      <th></th>\n",
       "      <th>customerID</th>\n",
       "      <th>gender</th>\n",
       "      <th>SeniorCitizen</th>\n",
       "      <th>Partner</th>\n",
       "      <th>Dependents</th>\n",
       "      <th>tenure</th>\n",
       "      <th>PhoneService</th>\n",
       "      <th>MultipleLines</th>\n",
       "      <th>InternetService</th>\n",
       "      <th>OnlineSecurity</th>\n",
       "      <th>...</th>\n",
       "      <th>DeviceProtection</th>\n",
       "      <th>TechSupport</th>\n",
       "      <th>StreamingTV</th>\n",
       "      <th>StreamingMovies</th>\n",
       "      <th>Contract</th>\n",
       "      <th>PaperlessBilling</th>\n",
       "      <th>PaymentMethod</th>\n",
       "      <th>MonthlyCharges</th>\n",
       "      <th>TotalCharges</th>\n",
       "      <th>Churn</th>\n",
       "    </tr>\n",
       "  </thead>\n",
       "  <tbody>\n",
       "    <tr>\n",
       "      <th>0</th>\n",
       "      <td>7590-VHVEG</td>\n",
       "      <td>Female</td>\n",
       "      <td>0</td>\n",
       "      <td>Yes</td>\n",
       "      <td>No</td>\n",
       "      <td>1</td>\n",
       "      <td>No</td>\n",
       "      <td>No phone service</td>\n",
       "      <td>DSL</td>\n",
       "      <td>No</td>\n",
       "      <td>...</td>\n",
       "      <td>No</td>\n",
       "      <td>No</td>\n",
       "      <td>No</td>\n",
       "      <td>No</td>\n",
       "      <td>Month-to-month</td>\n",
       "      <td>Yes</td>\n",
       "      <td>Electronic check</td>\n",
       "      <td>29.85</td>\n",
       "      <td>29.85</td>\n",
       "      <td>No</td>\n",
       "    </tr>\n",
       "    <tr>\n",
       "      <th>1</th>\n",
       "      <td>5575-GNVDE</td>\n",
       "      <td>Male</td>\n",
       "      <td>0</td>\n",
       "      <td>No</td>\n",
       "      <td>No</td>\n",
       "      <td>34</td>\n",
       "      <td>Yes</td>\n",
       "      <td>No</td>\n",
       "      <td>DSL</td>\n",
       "      <td>Yes</td>\n",
       "      <td>...</td>\n",
       "      <td>Yes</td>\n",
       "      <td>No</td>\n",
       "      <td>No</td>\n",
       "      <td>No</td>\n",
       "      <td>One year</td>\n",
       "      <td>No</td>\n",
       "      <td>Mailed check</td>\n",
       "      <td>56.95</td>\n",
       "      <td>1889.5</td>\n",
       "      <td>No</td>\n",
       "    </tr>\n",
       "    <tr>\n",
       "      <th>2</th>\n",
       "      <td>3668-QPYBK</td>\n",
       "      <td>Male</td>\n",
       "      <td>0</td>\n",
       "      <td>No</td>\n",
       "      <td>No</td>\n",
       "      <td>2</td>\n",
       "      <td>Yes</td>\n",
       "      <td>No</td>\n",
       "      <td>DSL</td>\n",
       "      <td>Yes</td>\n",
       "      <td>...</td>\n",
       "      <td>No</td>\n",
       "      <td>No</td>\n",
       "      <td>No</td>\n",
       "      <td>No</td>\n",
       "      <td>Month-to-month</td>\n",
       "      <td>Yes</td>\n",
       "      <td>Mailed check</td>\n",
       "      <td>53.85</td>\n",
       "      <td>108.15</td>\n",
       "      <td>Yes</td>\n",
       "    </tr>\n",
       "    <tr>\n",
       "      <th>3</th>\n",
       "      <td>7795-CFOCW</td>\n",
       "      <td>Male</td>\n",
       "      <td>0</td>\n",
       "      <td>No</td>\n",
       "      <td>No</td>\n",
       "      <td>45</td>\n",
       "      <td>No</td>\n",
       "      <td>No phone service</td>\n",
       "      <td>DSL</td>\n",
       "      <td>Yes</td>\n",
       "      <td>...</td>\n",
       "      <td>Yes</td>\n",
       "      <td>Yes</td>\n",
       "      <td>No</td>\n",
       "      <td>No</td>\n",
       "      <td>One year</td>\n",
       "      <td>No</td>\n",
       "      <td>Bank transfer (automatic)</td>\n",
       "      <td>42.30</td>\n",
       "      <td>1840.75</td>\n",
       "      <td>No</td>\n",
       "    </tr>\n",
       "    <tr>\n",
       "      <th>4</th>\n",
       "      <td>9237-HQITU</td>\n",
       "      <td>Female</td>\n",
       "      <td>0</td>\n",
       "      <td>No</td>\n",
       "      <td>No</td>\n",
       "      <td>2</td>\n",
       "      <td>Yes</td>\n",
       "      <td>No</td>\n",
       "      <td>Fiber optic</td>\n",
       "      <td>No</td>\n",
       "      <td>...</td>\n",
       "      <td>No</td>\n",
       "      <td>No</td>\n",
       "      <td>No</td>\n",
       "      <td>No</td>\n",
       "      <td>Month-to-month</td>\n",
       "      <td>Yes</td>\n",
       "      <td>Electronic check</td>\n",
       "      <td>70.70</td>\n",
       "      <td>151.65</td>\n",
       "      <td>Yes</td>\n",
       "    </tr>\n",
       "  </tbody>\n",
       "</table>\n",
       "<p>5 rows × 21 columns</p>\n",
       "</div>"
      ],
      "text/plain": [
       "   customerID  gender  SeniorCitizen Partner Dependents  tenure PhoneService  \\\n",
       "0  7590-VHVEG  Female              0     Yes         No       1           No   \n",
       "1  5575-GNVDE    Male              0      No         No      34          Yes   \n",
       "2  3668-QPYBK    Male              0      No         No       2          Yes   \n",
       "3  7795-CFOCW    Male              0      No         No      45           No   \n",
       "4  9237-HQITU  Female              0      No         No       2          Yes   \n",
       "\n",
       "      MultipleLines InternetService OnlineSecurity  ... DeviceProtection  \\\n",
       "0  No phone service             DSL             No  ...               No   \n",
       "1                No             DSL            Yes  ...              Yes   \n",
       "2                No             DSL            Yes  ...               No   \n",
       "3  No phone service             DSL            Yes  ...              Yes   \n",
       "4                No     Fiber optic             No  ...               No   \n",
       "\n",
       "  TechSupport StreamingTV StreamingMovies        Contract PaperlessBilling  \\\n",
       "0          No          No              No  Month-to-month              Yes   \n",
       "1          No          No              No        One year               No   \n",
       "2          No          No              No  Month-to-month              Yes   \n",
       "3         Yes          No              No        One year               No   \n",
       "4          No          No              No  Month-to-month              Yes   \n",
       "\n",
       "               PaymentMethod MonthlyCharges  TotalCharges Churn  \n",
       "0           Electronic check          29.85         29.85    No  \n",
       "1               Mailed check          56.95        1889.5    No  \n",
       "2               Mailed check          53.85        108.15   Yes  \n",
       "3  Bank transfer (automatic)          42.30       1840.75    No  \n",
       "4           Electronic check          70.70        151.65   Yes  \n",
       "\n",
       "[5 rows x 21 columns]"
      ]
     },
     "execution_count": 2,
     "metadata": {},
     "output_type": "execute_result"
    }
   ],
   "source": [
    "churn_df = pd.read_csv(\"data/WA_Fn-UseC_-Telco-Customer-Churn.csv\")\n",
    "churn_df.head()"
   ]
  },
  {
   "cell_type": "code",
   "execution_count": 3,
   "id": "456b7280",
   "metadata": {},
   "outputs": [
    {
     "data": {
      "text/html": [
       "<div>\n",
       "<style scoped>\n",
       "    .dataframe tbody tr th:only-of-type {\n",
       "        vertical-align: middle;\n",
       "    }\n",
       "\n",
       "    .dataframe tbody tr th {\n",
       "        vertical-align: top;\n",
       "    }\n",
       "\n",
       "    .dataframe thead th {\n",
       "        text-align: right;\n",
       "    }\n",
       "</style>\n",
       "<table border=\"1\" class=\"dataframe\">\n",
       "  <thead>\n",
       "    <tr style=\"text-align: right;\">\n",
       "      <th></th>\n",
       "      <th>SeniorCitizen</th>\n",
       "      <th>tenure</th>\n",
       "      <th>MonthlyCharges</th>\n",
       "    </tr>\n",
       "  </thead>\n",
       "  <tbody>\n",
       "    <tr>\n",
       "      <th>count</th>\n",
       "      <td>7043.000000</td>\n",
       "      <td>7043.000000</td>\n",
       "      <td>7043.000000</td>\n",
       "    </tr>\n",
       "    <tr>\n",
       "      <th>mean</th>\n",
       "      <td>0.162147</td>\n",
       "      <td>32.371149</td>\n",
       "      <td>64.761692</td>\n",
       "    </tr>\n",
       "    <tr>\n",
       "      <th>std</th>\n",
       "      <td>0.368612</td>\n",
       "      <td>24.559481</td>\n",
       "      <td>30.090047</td>\n",
       "    </tr>\n",
       "    <tr>\n",
       "      <th>min</th>\n",
       "      <td>0.000000</td>\n",
       "      <td>0.000000</td>\n",
       "      <td>18.250000</td>\n",
       "    </tr>\n",
       "    <tr>\n",
       "      <th>25%</th>\n",
       "      <td>0.000000</td>\n",
       "      <td>9.000000</td>\n",
       "      <td>35.500000</td>\n",
       "    </tr>\n",
       "    <tr>\n",
       "      <th>50%</th>\n",
       "      <td>0.000000</td>\n",
       "      <td>29.000000</td>\n",
       "      <td>70.350000</td>\n",
       "    </tr>\n",
       "    <tr>\n",
       "      <th>75%</th>\n",
       "      <td>0.000000</td>\n",
       "      <td>55.000000</td>\n",
       "      <td>89.850000</td>\n",
       "    </tr>\n",
       "    <tr>\n",
       "      <th>max</th>\n",
       "      <td>1.000000</td>\n",
       "      <td>72.000000</td>\n",
       "      <td>118.750000</td>\n",
       "    </tr>\n",
       "  </tbody>\n",
       "</table>\n",
       "</div>"
      ],
      "text/plain": [
       "       SeniorCitizen       tenure  MonthlyCharges\n",
       "count    7043.000000  7043.000000     7043.000000\n",
       "mean        0.162147    32.371149       64.761692\n",
       "std         0.368612    24.559481       30.090047\n",
       "min         0.000000     0.000000       18.250000\n",
       "25%         0.000000     9.000000       35.500000\n",
       "50%         0.000000    29.000000       70.350000\n",
       "75%         0.000000    55.000000       89.850000\n",
       "max         1.000000    72.000000      118.750000"
      ]
     },
     "execution_count": 3,
     "metadata": {},
     "output_type": "execute_result"
    }
   ],
   "source": [
    "churn_df.describe()"
   ]
  },
  {
   "cell_type": "code",
   "execution_count": 4,
   "id": "1e927835",
   "metadata": {},
   "outputs": [
    {
     "data": {
      "text/plain": [
       "customerID          0\n",
       "gender              0\n",
       "SeniorCitizen       0\n",
       "Partner             0\n",
       "Dependents          0\n",
       "tenure              0\n",
       "PhoneService        0\n",
       "MultipleLines       0\n",
       "InternetService     0\n",
       "OnlineSecurity      0\n",
       "OnlineBackup        0\n",
       "DeviceProtection    0\n",
       "TechSupport         0\n",
       "StreamingTV         0\n",
       "StreamingMovies     0\n",
       "Contract            0\n",
       "PaperlessBilling    0\n",
       "PaymentMethod       0\n",
       "MonthlyCharges      0\n",
       "TotalCharges        0\n",
       "Churn               0\n",
       "dtype: int64"
      ]
     },
     "execution_count": 4,
     "metadata": {},
     "output_type": "execute_result"
    }
   ],
   "source": [
    "churn_df.isnull().sum()"
   ]
  },
  {
   "cell_type": "markdown",
   "id": "510da5a9",
   "metadata": {},
   "source": [
    "# Data Preprocessing"
   ]
  },
  {
   "cell_type": "markdown",
   "id": "61e84708",
   "metadata": {},
   "source": [
    "For us to load the data to the model we have to convert our categorical features into numeric"
   ]
  },
  {
   "cell_type": "code",
   "execution_count": 5,
   "id": "9d07ad1c",
   "metadata": {},
   "outputs": [
    {
     "name": "stderr",
     "output_type": "stream",
     "text": [
      "C:\\ProgramData\\Anaconda3\\envs\\DATA102\\lib\\site-packages\\sklearn\\utils\\deprecation.py:87: FutureWarning: Function get_feature_names is deprecated; get_feature_names is deprecated in 1.0 and will be removed in 1.2. Please use get_feature_names_out instead.\n",
      "  warnings.warn(msg, category=FutureWarning)\n"
     ]
    },
    {
     "data": {
      "text/html": [
       "<div>\n",
       "<style scoped>\n",
       "    .dataframe tbody tr th:only-of-type {\n",
       "        vertical-align: middle;\n",
       "    }\n",
       "\n",
       "    .dataframe tbody tr th {\n",
       "        vertical-align: top;\n",
       "    }\n",
       "\n",
       "    .dataframe thead th {\n",
       "        text-align: right;\n",
       "    }\n",
       "</style>\n",
       "<table border=\"1\" class=\"dataframe\">\n",
       "  <thead>\n",
       "    <tr style=\"text-align: right;\">\n",
       "      <th></th>\n",
       "      <th>gender</th>\n",
       "      <th>SeniorCitizen</th>\n",
       "      <th>Partner</th>\n",
       "      <th>Dependents</th>\n",
       "      <th>tenure</th>\n",
       "      <th>PhoneService</th>\n",
       "      <th>MultipleLines</th>\n",
       "      <th>OnlineSecurity</th>\n",
       "      <th>OnlineBackup</th>\n",
       "      <th>DeviceProtection</th>\n",
       "      <th>...</th>\n",
       "      <th>x0_DSL</th>\n",
       "      <th>x0_Fiber optic</th>\n",
       "      <th>x0_No</th>\n",
       "      <th>x1_Month-to-month</th>\n",
       "      <th>x1_One year</th>\n",
       "      <th>x1_Two year</th>\n",
       "      <th>x2_Bank transfer (automatic)</th>\n",
       "      <th>x2_Credit card (automatic)</th>\n",
       "      <th>x2_Electronic check</th>\n",
       "      <th>x2_Mailed check</th>\n",
       "    </tr>\n",
       "  </thead>\n",
       "  <tbody>\n",
       "    <tr>\n",
       "      <th>0</th>\n",
       "      <td>1</td>\n",
       "      <td>0</td>\n",
       "      <td>1</td>\n",
       "      <td>0</td>\n",
       "      <td>1</td>\n",
       "      <td>0</td>\n",
       "      <td>0</td>\n",
       "      <td>0</td>\n",
       "      <td>1</td>\n",
       "      <td>0</td>\n",
       "      <td>...</td>\n",
       "      <td>1.0</td>\n",
       "      <td>0.0</td>\n",
       "      <td>0.0</td>\n",
       "      <td>1.0</td>\n",
       "      <td>0.0</td>\n",
       "      <td>0.0</td>\n",
       "      <td>0.0</td>\n",
       "      <td>0.0</td>\n",
       "      <td>1.0</td>\n",
       "      <td>0.0</td>\n",
       "    </tr>\n",
       "    <tr>\n",
       "      <th>1</th>\n",
       "      <td>0</td>\n",
       "      <td>0</td>\n",
       "      <td>0</td>\n",
       "      <td>0</td>\n",
       "      <td>34</td>\n",
       "      <td>1</td>\n",
       "      <td>0</td>\n",
       "      <td>1</td>\n",
       "      <td>0</td>\n",
       "      <td>1</td>\n",
       "      <td>...</td>\n",
       "      <td>1.0</td>\n",
       "      <td>0.0</td>\n",
       "      <td>0.0</td>\n",
       "      <td>0.0</td>\n",
       "      <td>1.0</td>\n",
       "      <td>0.0</td>\n",
       "      <td>0.0</td>\n",
       "      <td>0.0</td>\n",
       "      <td>0.0</td>\n",
       "      <td>1.0</td>\n",
       "    </tr>\n",
       "    <tr>\n",
       "      <th>2</th>\n",
       "      <td>0</td>\n",
       "      <td>0</td>\n",
       "      <td>0</td>\n",
       "      <td>0</td>\n",
       "      <td>2</td>\n",
       "      <td>1</td>\n",
       "      <td>0</td>\n",
       "      <td>1</td>\n",
       "      <td>1</td>\n",
       "      <td>0</td>\n",
       "      <td>...</td>\n",
       "      <td>1.0</td>\n",
       "      <td>0.0</td>\n",
       "      <td>0.0</td>\n",
       "      <td>1.0</td>\n",
       "      <td>0.0</td>\n",
       "      <td>0.0</td>\n",
       "      <td>0.0</td>\n",
       "      <td>0.0</td>\n",
       "      <td>0.0</td>\n",
       "      <td>1.0</td>\n",
       "    </tr>\n",
       "    <tr>\n",
       "      <th>3</th>\n",
       "      <td>0</td>\n",
       "      <td>0</td>\n",
       "      <td>0</td>\n",
       "      <td>0</td>\n",
       "      <td>45</td>\n",
       "      <td>0</td>\n",
       "      <td>0</td>\n",
       "      <td>1</td>\n",
       "      <td>0</td>\n",
       "      <td>1</td>\n",
       "      <td>...</td>\n",
       "      <td>1.0</td>\n",
       "      <td>0.0</td>\n",
       "      <td>0.0</td>\n",
       "      <td>0.0</td>\n",
       "      <td>1.0</td>\n",
       "      <td>0.0</td>\n",
       "      <td>1.0</td>\n",
       "      <td>0.0</td>\n",
       "      <td>0.0</td>\n",
       "      <td>0.0</td>\n",
       "    </tr>\n",
       "    <tr>\n",
       "      <th>4</th>\n",
       "      <td>1</td>\n",
       "      <td>0</td>\n",
       "      <td>0</td>\n",
       "      <td>0</td>\n",
       "      <td>2</td>\n",
       "      <td>1</td>\n",
       "      <td>0</td>\n",
       "      <td>0</td>\n",
       "      <td>0</td>\n",
       "      <td>0</td>\n",
       "      <td>...</td>\n",
       "      <td>0.0</td>\n",
       "      <td>1.0</td>\n",
       "      <td>0.0</td>\n",
       "      <td>1.0</td>\n",
       "      <td>0.0</td>\n",
       "      <td>0.0</td>\n",
       "      <td>0.0</td>\n",
       "      <td>0.0</td>\n",
       "      <td>1.0</td>\n",
       "      <td>0.0</td>\n",
       "    </tr>\n",
       "  </tbody>\n",
       "</table>\n",
       "<p>5 rows × 27 columns</p>\n",
       "</div>"
      ],
      "text/plain": [
       "   gender  SeniorCitizen  Partner  Dependents  tenure  PhoneService  \\\n",
       "0       1              0        1           0       1             0   \n",
       "1       0              0        0           0      34             1   \n",
       "2       0              0        0           0       2             1   \n",
       "3       0              0        0           0      45             0   \n",
       "4       1              0        0           0       2             1   \n",
       "\n",
       "   MultipleLines  OnlineSecurity  OnlineBackup  DeviceProtection  ...  x0_DSL  \\\n",
       "0              0               0             1                 0  ...     1.0   \n",
       "1              0               1             0                 1  ...     1.0   \n",
       "2              0               1             1                 0  ...     1.0   \n",
       "3              0               1             0                 1  ...     1.0   \n",
       "4              0               0             0                 0  ...     0.0   \n",
       "\n",
       "   x0_Fiber optic  x0_No  x1_Month-to-month  x1_One year  x1_Two year  \\\n",
       "0             0.0    0.0                1.0          0.0          0.0   \n",
       "1             0.0    0.0                0.0          1.0          0.0   \n",
       "2             0.0    0.0                1.0          0.0          0.0   \n",
       "3             0.0    0.0                0.0          1.0          0.0   \n",
       "4             1.0    0.0                1.0          0.0          0.0   \n",
       "\n",
       "   x2_Bank transfer (automatic)  x2_Credit card (automatic)  \\\n",
       "0                           0.0                         0.0   \n",
       "1                           0.0                         0.0   \n",
       "2                           0.0                         0.0   \n",
       "3                           1.0                         0.0   \n",
       "4                           0.0                         0.0   \n",
       "\n",
       "   x2_Electronic check  x2_Mailed check  \n",
       "0                  1.0              0.0  \n",
       "1                  0.0              1.0  \n",
       "2                  0.0              1.0  \n",
       "3                  0.0              0.0  \n",
       "4                  1.0              0.0  \n",
       "\n",
       "[5 rows x 27 columns]"
      ]
     },
     "execution_count": 5,
     "metadata": {},
     "output_type": "execute_result"
    }
   ],
   "source": [
    "model_data = churn_df.copy(deep=True)\n",
    "\n",
    "#remove customerId column from the model data\n",
    "model_data.drop(\"customerID\", inplace=True, axis=1)\n",
    "#convert gender to numeric\n",
    "model_data.gender = model_data.gender.apply(lambda x: 1 if x == 'Female' else 0)\n",
    "#convert SeniorCitizen, Partner, Dependents, PhoneService, PaperlessBilling, Churn & etc\n",
    "for c in ['SeniorCitizen', 'Partner', \n",
    "          'Dependents', 'PhoneService', \n",
    "          'PaperlessBilling', 'Churn',\n",
    "          'MultipleLines', 'OnlineSecurity',\n",
    "          'OnlineBackup', 'DeviceProtection',\n",
    "          'TechSupport', 'StreamingTV',\n",
    "          'StreamingMovies']:\n",
    "    model_data[c] = model_data[c].apply(lambda x: 1 if x == 'Yes' else 0) \n",
    "\n",
    "#convert TotalCharges to float\n",
    "model_data.TotalCharges = pd.to_numeric(model_data.TotalCharges, errors='coerce')\n",
    "model_data.TotalCharges = model_data.TotalCharges.fillna(value=-1)\n",
    "\n",
    "#one hot encode features with multiple categories \n",
    "multi_categorical_features = ['InternetService', 'Contract', 'PaymentMethod']\n",
    "enc = OneHotEncoder(handle_unknown='ignore')\n",
    "res = enc.fit_transform(model_data[multi_categorical_features])\n",
    "res_df = pd.DataFrame(res.todense(), columns=enc.get_feature_names())\n",
    "\n",
    "model_data.drop(multi_categorical_features, axis=1, inplace=True)\n",
    "model_data = pd.concat([model_data, res_df], axis=1)\n",
    "\n",
    "model_data.head()"
   ]
  },
  {
   "cell_type": "code",
   "execution_count": 6,
   "id": "81cdccfc-512f-41bb-870b-74249f55a251",
   "metadata": {},
   "outputs": [],
   "source": [
    "model_data.to_csv('Churn_Data.csv')"
   ]
  },
  {
   "cell_type": "code",
   "execution_count": 7,
   "id": "f4a62d29-03fc-415a-b09f-7f4e5e06e3f3",
   "metadata": {},
   "outputs": [
    {
     "data": {
      "text/plain": [
       "Index(['gender', 'SeniorCitizen', 'Partner', 'Dependents', 'tenure',\n",
       "       'PhoneService', 'MultipleLines', 'OnlineSecurity', 'OnlineBackup',\n",
       "       'DeviceProtection', 'TechSupport', 'StreamingTV', 'StreamingMovies',\n",
       "       'PaperlessBilling', 'MonthlyCharges', 'TotalCharges', 'Churn', 'x0_DSL',\n",
       "       'x0_Fiber optic', 'x0_No', 'x1_Month-to-month', 'x1_One year',\n",
       "       'x1_Two year', 'x2_Bank transfer (automatic)',\n",
       "       'x2_Credit card (automatic)', 'x2_Electronic check', 'x2_Mailed check'],\n",
       "      dtype='object')"
      ]
     },
     "execution_count": 7,
     "metadata": {},
     "output_type": "execute_result"
    }
   ],
   "source": [
    "model_data.columns"
   ]
  },
  {
   "cell_type": "markdown",
   "id": "3698a625",
   "metadata": {},
   "source": [
    "# Creating a Classification Model using KNN"
   ]
  },
  {
   "cell_type": "markdown",
   "id": "5f0a34dc",
   "metadata": {},
   "source": [
    "In this section you will create a KMeans classifier wherein the target is the churn feature. This means we are trying to forecast if a customer is going to churn or not. "
   ]
  },
  {
   "cell_type": "markdown",
   "id": "634d0360",
   "metadata": {},
   "source": [
    "**Plot the distribution of our target variable (2pts)**"
   ]
  },
  {
   "cell_type": "markdown",
   "id": "4e60c80d-7587-493a-9672-c800b95ed118",
   "metadata": {},
   "source": [
    "In this section, we plot churning in two different ways. First, we look at the raw counts to visualize the scale of the dataset and its datapoints. Then, a pie chart shows the composition of the entirety of the dataset for customer churn to show the scale and significance of the potential imbalance of the dataset."
   ]
  },
  {
   "cell_type": "code",
   "execution_count": 9,
   "id": "65d705ea",
   "metadata": {},
   "outputs": [
    {
     "name": "stderr",
     "output_type": "stream",
     "text": [
      "C:\\ProgramData\\Anaconda3\\envs\\DATA102\\lib\\site-packages\\seaborn\\_decorators.py:36: FutureWarning: Pass the following variable as a keyword arg: x. From version 0.12, the only valid positional argument will be `data`, and passing other arguments without an explicit keyword will result in an error or misinterpretation.\n",
      "  warnings.warn(\n"
     ]
    },
    {
     "data": {
      "image/png": "[encoded data removed]",
      "text/plain": [
       "<Figure size 432x288 with 1 Axes>"
      ]
     },
     "metadata": {},
     "output_type": "display_data"
    }
   ],
   "source": [
    "ax = sns.countplot(model_data['Churn'], color=dlsu_green)\n",
    "ax.set_title('Count of Churn in Dataset')\n",
    "ax.set_xlabel('Churn')\n",
    "ax.set_ylabel('Percent in dataset')\n",
    "plt.savefig('Churn Count.png')"
   ]
  },
  {
   "cell_type": "code",
   "execution_count": 15,
   "id": "e3d8d3ae-82bb-487e-b2c4-9c7cf3442e0a",
   "metadata": {},
   "outputs": [
    {
     "data": {
      "text/plain": [
       "0    5174\n",
       "1    1869\n",
       "Name: Churn, dtype: int64"
      ]
     },
     "execution_count": 15,
     "metadata": {},
     "output_type": "execute_result"
    }
   ],
   "source": [
    "model_data['Churn'].value_counts()"
   ]
  },
  {
   "cell_type": "code",
   "execution_count": null,
   "id": "707c4fd8",
   "metadata": {},
   "outputs": [],
   "source": [
    "ax = plt.pie(model_data['Churn'].value_counts(), labels =model_data['Churn'].unique(), autopct='%.0f%%')"
   ]
  },
  {
   "cell_type": "markdown",
   "id": "565d247a",
   "metadata": {},
   "source": [
    "**what insights can you get from the target distribution? how will this affect our model? (2pts)**"
   ]
  },
  {
   "cell_type": "markdown",
   "id": "d8506171-cd76-4e61-a808-e22610a3a9d0",
   "metadata": {},
   "source": [
    "From the distribution charts, it shows that 27% of the data shows churn and 73% shows the opposite. Thus, it could be inferred that the dataset is imbalanced and biased towards not churning."
   ]
  },
  {
   "cell_type": "markdown",
   "id": "7c892aee",
   "metadata": {},
   "source": [
    "## Model Development"
   ]
  },
  {
   "cell_type": "markdown",
   "id": "97d44112",
   "metadata": {},
   "source": [
    "**Store the independent variables to X and the dependent variable to y (2pts)**"
   ]
  },
  {
   "cell_type": "code",
   "execution_count": 50,
   "id": "691cb7a3",
   "metadata": {},
   "outputs": [
    {
     "name": "stdout",
     "output_type": "stream",
     "text": [
      "(7043, 26)\n",
      "(7043,)\n"
     ]
    }
   ],
   "source": [
    "X = model_data.drop('Churn', axis=1)\n",
    "y = model_data['Churn']\n",
    "print(X.shape)\n",
    "print(y.shape)"
   ]
  },
  {
   "cell_type": "markdown",
   "id": "67223c45",
   "metadata": {},
   "source": [
    "**do a train-test split wherein 80% of the data is used for training and 20% is used for testing (2pts)**"
   ]
  },
  {
   "cell_type": "code",
   "execution_count": 51,
   "id": "832e834b",
   "metadata": {},
   "outputs": [],
   "source": [
    "X_train, X_test, y_train, y_test = train_test_split(X, y, test_size=.2, random_state=42)"
   ]
  },
  {
   "cell_type": "markdown",
   "id": "76a9711a",
   "metadata": {},
   "source": [
    "**build an initial KNN model and set the K to 5 and show the train & test accuracy (2 pts)**"
   ]
  },
  {
   "cell_type": "code",
   "execution_count": 52,
   "id": "8d5e0794",
   "metadata": {},
   "outputs": [
    {
     "data": {
      "text/plain": [
       "KNeighborsClassifier()"
      ]
     },
     "execution_count": 52,
     "metadata": {},
     "output_type": "execute_result"
    }
   ],
   "source": [
    "clf = KNeighborsClassifier(n_neighbors = 5, p=2)\n",
    "clf.fit(X_train, y_train)"
   ]
  },
  {
   "cell_type": "code",
   "execution_count": 54,
   "id": "bde2392b-1adb-47ea-ba91-0d64d015993c",
   "metadata": {},
   "outputs": [
    {
     "name": "stdout",
     "output_type": "stream",
     "text": [
      "Accuracy: 0.78\n",
      "Precision: 0.59\n",
      "Recall: 0.48\n",
      "F1 Score: 0.53\n"
     ]
    }
   ],
   "source": [
    "y_pred = clf.predict(X_test)\n",
    "print(\"Accuracy: {:.2f}\".format(accuracy_score(y_test,y_pred)))\n",
    "print(\"Precision: {:.2f}\".format(precision_score(y_test, y_pred)))\n",
    "print(\"Recall: {:.2f}\".format(recall_score(y_test, y_pred)))\n",
    "print(\"F1 Score: {:.2f}\".format(f1_score(y_test, y_pred)))"
   ]
  },
  {
   "cell_type": "markdown",
   "id": "41fbfade",
   "metadata": {},
   "source": [
    "**should we trust accuracy as our metric for this problem? Why or why not? (3pts)**"
   ]
  },
  {
   "cell_type": "markdown",
   "id": "d64432ed-6c73-4f90-8f8f-f24331b884cf",
   "metadata": {},
   "source": [
    "Given the nature of the problem, the objective is to create a model that would fairly predict correctly whether or not the customer will churn. Thus, accuracy is not a fair evaluation. Additionally, the imbalanced dataset may have bias towards not churning, thus a more accurate metric would be to use F1 score to evaluate the model."
   ]
  },
  {
   "cell_type": "markdown",
   "id": "925b5bd7",
   "metadata": {},
   "source": [
    "**Calculate accuracy, precision, recall & f1-score using different k parameters (2 to 20), store the results in a dataframe and  display dataframe content(2pts)**"
   ]
  },
  {
   "cell_type": "markdown",
   "id": "2f583214-1dc2-4b7e-b65d-9bbe03481f62",
   "metadata": {},
   "source": [
    "In this case, we create multiple KNN models with varying values of k from 2 to 20. Its metrics are recorded and saved into a dataframe res_df."
   ]
  },
  {
   "cell_type": "code",
   "execution_count": 58,
   "id": "4e3f2a66",
   "metadata": {},
   "outputs": [
    {
     "data": {
      "text/html": [
       "<div>\n",
       "<style scoped>\n",
       "    .dataframe tbody tr th:only-of-type {\n",
       "        vertical-align: middle;\n",
       "    }\n",
       "\n",
       "    .dataframe tbody tr th {\n",
       "        vertical-align: top;\n",
       "    }\n",
       "\n",
       "    .dataframe thead th {\n",
       "        text-align: right;\n",
       "    }\n",
       "</style>\n",
       "<table border=\"1\" class=\"dataframe\">\n",
       "  <thead>\n",
       "    <tr style=\"text-align: right;\">\n",
       "      <th></th>\n",
       "      <th>k</th>\n",
       "      <th>Accuracy</th>\n",
       "      <th>Precision</th>\n",
       "      <th>Recall</th>\n",
       "      <th>F1 Score</th>\n",
       "    </tr>\n",
       "  </thead>\n",
       "  <tbody>\n",
       "    <tr>\n",
       "      <th>0</th>\n",
       "      <td>2</td>\n",
       "      <td>0.777857</td>\n",
       "      <td>0.687500</td>\n",
       "      <td>0.294906</td>\n",
       "      <td>0.412758</td>\n",
       "    </tr>\n",
       "    <tr>\n",
       "      <th>1</th>\n",
       "      <td>3</td>\n",
       "      <td>0.770759</td>\n",
       "      <td>0.579114</td>\n",
       "      <td>0.490617</td>\n",
       "      <td>0.531205</td>\n",
       "    </tr>\n",
       "    <tr>\n",
       "      <th>2</th>\n",
       "      <td>4</td>\n",
       "      <td>0.782115</td>\n",
       "      <td>0.661765</td>\n",
       "      <td>0.361930</td>\n",
       "      <td>0.467938</td>\n",
       "    </tr>\n",
       "    <tr>\n",
       "      <th>3</th>\n",
       "      <td>5</td>\n",
       "      <td>0.775018</td>\n",
       "      <td>0.592715</td>\n",
       "      <td>0.479893</td>\n",
       "      <td>0.530370</td>\n",
       "    </tr>\n",
       "    <tr>\n",
       "      <th>4</th>\n",
       "      <td>6</td>\n",
       "      <td>0.794180</td>\n",
       "      <td>0.691244</td>\n",
       "      <td>0.402145</td>\n",
       "      <td>0.508475</td>\n",
       "    </tr>\n",
       "    <tr>\n",
       "      <th>5</th>\n",
       "      <td>7</td>\n",
       "      <td>0.785664</td>\n",
       "      <td>0.627240</td>\n",
       "      <td>0.469169</td>\n",
       "      <td>0.536810</td>\n",
       "    </tr>\n",
       "    <tr>\n",
       "      <th>6</th>\n",
       "      <td>8</td>\n",
       "      <td>0.788502</td>\n",
       "      <td>0.679426</td>\n",
       "      <td>0.380697</td>\n",
       "      <td>0.487973</td>\n",
       "    </tr>\n",
       "    <tr>\n",
       "      <th>7</th>\n",
       "      <td>9</td>\n",
       "      <td>0.787083</td>\n",
       "      <td>0.635688</td>\n",
       "      <td>0.458445</td>\n",
       "      <td>0.532710</td>\n",
       "    </tr>\n",
       "    <tr>\n",
       "      <th>8</th>\n",
       "      <td>10</td>\n",
       "      <td>0.790632</td>\n",
       "      <td>0.678899</td>\n",
       "      <td>0.396783</td>\n",
       "      <td>0.500846</td>\n",
       "    </tr>\n",
       "    <tr>\n",
       "      <th>9</th>\n",
       "      <td>11</td>\n",
       "      <td>0.792761</td>\n",
       "      <td>0.661355</td>\n",
       "      <td>0.445040</td>\n",
       "      <td>0.532051</td>\n",
       "    </tr>\n",
       "    <tr>\n",
       "      <th>10</th>\n",
       "      <td>12</td>\n",
       "      <td>0.794890</td>\n",
       "      <td>0.689189</td>\n",
       "      <td>0.410188</td>\n",
       "      <td>0.514286</td>\n",
       "    </tr>\n",
       "    <tr>\n",
       "      <th>11</th>\n",
       "      <td>13</td>\n",
       "      <td>0.794890</td>\n",
       "      <td>0.669355</td>\n",
       "      <td>0.445040</td>\n",
       "      <td>0.534622</td>\n",
       "    </tr>\n",
       "    <tr>\n",
       "      <th>12</th>\n",
       "      <td>14</td>\n",
       "      <td>0.787793</td>\n",
       "      <td>0.676190</td>\n",
       "      <td>0.380697</td>\n",
       "      <td>0.487136</td>\n",
       "    </tr>\n",
       "    <tr>\n",
       "      <th>13</th>\n",
       "      <td>15</td>\n",
       "      <td>0.791341</td>\n",
       "      <td>0.666667</td>\n",
       "      <td>0.423592</td>\n",
       "      <td>0.518033</td>\n",
       "    </tr>\n",
       "    <tr>\n",
       "      <th>14</th>\n",
       "      <td>16</td>\n",
       "      <td>0.791341</td>\n",
       "      <td>0.688995</td>\n",
       "      <td>0.386059</td>\n",
       "      <td>0.494845</td>\n",
       "    </tr>\n",
       "    <tr>\n",
       "      <th>15</th>\n",
       "      <td>17</td>\n",
       "      <td>0.792761</td>\n",
       "      <td>0.670886</td>\n",
       "      <td>0.426273</td>\n",
       "      <td>0.521311</td>\n",
       "    </tr>\n",
       "    <tr>\n",
       "      <th>16</th>\n",
       "      <td>18</td>\n",
       "      <td>0.792051</td>\n",
       "      <td>0.690476</td>\n",
       "      <td>0.388740</td>\n",
       "      <td>0.497427</td>\n",
       "    </tr>\n",
       "    <tr>\n",
       "      <th>17</th>\n",
       "      <td>19</td>\n",
       "      <td>0.794890</td>\n",
       "      <td>0.675000</td>\n",
       "      <td>0.434316</td>\n",
       "      <td>0.528548</td>\n",
       "    </tr>\n",
       "    <tr>\n",
       "      <th>18</th>\n",
       "      <td>20</td>\n",
       "      <td>0.791341</td>\n",
       "      <td>0.680365</td>\n",
       "      <td>0.399464</td>\n",
       "      <td>0.503378</td>\n",
       "    </tr>\n",
       "  </tbody>\n",
       "</table>\n",
       "</div>"
      ],
      "text/plain": [
       "     k  Accuracy  Precision    Recall  F1 Score\n",
       "0    2  0.777857   0.687500  0.294906  0.412758\n",
       "1    3  0.770759   0.579114  0.490617  0.531205\n",
       "2    4  0.782115   0.661765  0.361930  0.467938\n",
       "3    5  0.775018   0.592715  0.479893  0.530370\n",
       "4    6  0.794180   0.691244  0.402145  0.508475\n",
       "5    7  0.785664   0.627240  0.469169  0.536810\n",
       "6    8  0.788502   0.679426  0.380697  0.487973\n",
       "7    9  0.787083   0.635688  0.458445  0.532710\n",
       "8   10  0.790632   0.678899  0.396783  0.500846\n",
       "9   11  0.792761   0.661355  0.445040  0.532051\n",
       "10  12  0.794890   0.689189  0.410188  0.514286\n",
       "11  13  0.794890   0.669355  0.445040  0.534622\n",
       "12  14  0.787793   0.676190  0.380697  0.487136\n",
       "13  15  0.791341   0.666667  0.423592  0.518033\n",
       "14  16  0.791341   0.688995  0.386059  0.494845\n",
       "15  17  0.792761   0.670886  0.426273  0.521311\n",
       "16  18  0.792051   0.690476  0.388740  0.497427\n",
       "17  19  0.794890   0.675000  0.434316  0.528548\n",
       "18  20  0.791341   0.680365  0.399464  0.503378"
      ]
     },
     "execution_count": 58,
     "metadata": {},
     "output_type": "execute_result"
    }
   ],
   "source": [
    "res =[]\n",
    "for k in range(2,21):\n",
    "    clf = KNeighborsClassifier(n_neighbors=k, p =2)\n",
    "    clf.fit(X_train, y_train)\n",
    "    y_pred = clf.predict(X_test)\n",
    "    res.append([k, accuracy_score(y_test,y_pred), precision_score(y_test, y_pred),recall_score(y_test, y_pred),f1_score(y_test, y_pred)])\n",
    "    \n",
    "res_df = pd.DataFrame(res, columns=['k', 'Accuracy', 'Precision', 'Recall', 'F1 Score'])\n",
    "res_df"
   ]
  },
  {
   "cell_type": "markdown",
   "id": "bbe7a63c-ca15-44f6-99b1-9c77179d4483",
   "metadata": {},
   "source": [
    "After evaluation of the models, we plot the metrics for each value of k and identify the maximum score of the recommended metric."
   ]
  },
  {
   "cell_type": "code",
   "execution_count": 67,
   "id": "5063fb33-2856-46ce-89a9-e57906181d94",
   "metadata": {},
   "outputs": [
    {
     "data": {
      "text/plain": [
       "[<matplotlib.axis.XTick at 0x15ec52ee070>,\n",
       " <matplotlib.axis.XTick at 0x15ec52ee040>,\n",
       " <matplotlib.axis.XTick at 0x15ec53242b0>,\n",
       " <matplotlib.axis.XTick at 0x15ec532dac0>,\n",
       " <matplotlib.axis.XTick at 0x15ec533a280>,\n",
       " <matplotlib.axis.XTick at 0x15ec533a9d0>,\n",
       " <matplotlib.axis.XTick at 0x15ec533f160>,\n",
       " <matplotlib.axis.XTick at 0x15ec533a6a0>,\n",
       " <matplotlib.axis.XTick at 0x15ec5324370>,\n",
       " <matplotlib.axis.XTick at 0x15ec533fa60>,\n",
       " <matplotlib.axis.XTick at 0x15ec52e76d0>,\n",
       " <matplotlib.axis.XTick at 0x15ec5318ca0>,\n",
       " <matplotlib.axis.XTick at 0x15ec536d280>,\n",
       " <matplotlib.axis.XTick at 0x15ec536d9d0>,\n",
       " <matplotlib.axis.XTick at 0x15ec5324520>,\n",
       " <matplotlib.axis.XTick at 0x15ec536d430>,\n",
       " <matplotlib.axis.XTick at 0x15ec5375430>,\n",
       " <matplotlib.axis.XTick at 0x15ec5375b80>,\n",
       " <matplotlib.axis.XTick at 0x15ec537a310>]"
      ]
     },
     "execution_count": 67,
     "metadata": {},
     "output_type": "execute_result"
    },
    {
     "data": {
      "image/png": "[encoded data removed]",
      "text/plain": [
       "<Figure size 864x360 with 1 Axes>"
      ]
     },
     "metadata": {},
     "output_type": "display_data"
    }
   ],
   "source": [
    "fig, ax = plt.subplots(figsize=(12,5))\n",
    "sns.lineplot(data=pd.melt(res_df, ['k']), x='k', y='value', hue='variable', ax=ax)\n",
    "ax.xaxis.set_ticks(range(2,21,1))\n"
   ]
  },
  {
   "cell_type": "code",
   "execution_count": 75,
   "id": "36aa0212-36bc-4809-8edf-7751d6ea7fd5",
   "metadata": {},
   "outputs": [
    {
     "data": {
      "text/html": [
       "<div>\n",
       "<style scoped>\n",
       "    .dataframe tbody tr th:only-of-type {\n",
       "        vertical-align: middle;\n",
       "    }\n",
       "\n",
       "    .dataframe tbody tr th {\n",
       "        vertical-align: top;\n",
       "    }\n",
       "\n",
       "    .dataframe thead th {\n",
       "        text-align: right;\n",
       "    }\n",
       "</style>\n",
       "<table border=\"1\" class=\"dataframe\">\n",
       "  <thead>\n",
       "    <tr style=\"text-align: right;\">\n",
       "      <th></th>\n",
       "      <th>k</th>\n",
       "      <th>Accuracy</th>\n",
       "      <th>Precision</th>\n",
       "      <th>Recall</th>\n",
       "      <th>F1 Score</th>\n",
       "    </tr>\n",
       "  </thead>\n",
       "  <tbody>\n",
       "    <tr>\n",
       "      <th>5</th>\n",
       "      <td>7</td>\n",
       "      <td>0.785664</td>\n",
       "      <td>0.62724</td>\n",
       "      <td>0.469169</td>\n",
       "      <td>0.53681</td>\n",
       "    </tr>\n",
       "  </tbody>\n",
       "</table>\n",
       "</div>"
      ],
      "text/plain": [
       "   k  Accuracy  Precision    Recall  F1 Score\n",
       "5  7  0.785664    0.62724  0.469169   0.53681"
      ]
     },
     "execution_count": 75,
     "metadata": {},
     "output_type": "execute_result"
    }
   ],
   "source": [
    "res_df.iloc[[res_df['F1 Score'].idxmax()]]"
   ]
  },
  {
   "cell_type": "markdown",
   "id": "5eb9c5f8",
   "metadata": {},
   "source": [
    "**Based on the results of using different K parameters, what k parameter would be your recommendation? What metric did you use as your basis for your recommendation and why? (3pts)**"
   ]
  },
  {
   "cell_type": "markdown",
   "id": "f05f4c8b-ce13-48e1-9fc1-d64ba5b7a6e5",
   "metadata": {},
   "source": [
    "Given the various K parameters, the recommended k parameter is **k at 7** which results in an **F1 score of 0.53681**. It is recommended that maximizing the F1 score would be the most appropriate given that the dataset is imbalanced and the objective of the problem is to correctly identify whether or not customers will churn."
   ]
  },
  {
   "cell_type": "markdown",
   "id": "9825d150",
   "metadata": {},
   "source": [
    "## Creating a classification model using Logistic Regression"
   ]
  },
  {
   "cell_type": "markdown",
   "id": "402d329f",
   "metadata": {},
   "source": [
    "**Calculate accuracy, preicion, recall, f1-score by experimenting with different C and penalty values. The C and penalty values have been provided in the cell below. Store the results in a dataframe which contains columns penalty, c, accuracy, precision, recall and f1 (4pts)**"
   ]
  },
  {
   "cell_type": "markdown",
   "id": "193351ff-8143-4924-ab61-2ff86882462f",
   "metadata": {},
   "source": [
    "In this section, we iterate through each parameter testing all the combinations. Each model is evaluated and its scores are recorded in a dataframe res1_df."
   ]
  },
  {
   "cell_type": "code",
   "execution_count": 103,
   "id": "7cb24aa2",
   "metadata": {
    "tags": []
   },
   "outputs": [
    {
     "data": {
      "text/html": [
       "<div>\n",
       "<style scoped>\n",
       "    .dataframe tbody tr th:only-of-type {\n",
       "        vertical-align: middle;\n",
       "    }\n",
       "\n",
       "    .dataframe tbody tr th {\n",
       "        vertical-align: top;\n",
       "    }\n",
       "\n",
       "    .dataframe thead th {\n",
       "        text-align: right;\n",
       "    }\n",
       "</style>\n",
       "<table border=\"1\" class=\"dataframe\">\n",
       "  <thead>\n",
       "    <tr style=\"text-align: right;\">\n",
       "      <th></th>\n",
       "      <th>Penalty</th>\n",
       "      <th>C</th>\n",
       "      <th>Accuracy</th>\n",
       "      <th>Precision</th>\n",
       "      <th>Recall</th>\n",
       "      <th>F1 Score</th>\n",
       "    </tr>\n",
       "  </thead>\n",
       "  <tbody>\n",
       "    <tr>\n",
       "      <th>0</th>\n",
       "      <td>l1</td>\n",
       "      <td>0.1000</td>\n",
       "      <td>0.822569</td>\n",
       "      <td>0.689231</td>\n",
       "      <td>0.600536</td>\n",
       "      <td>0.641834</td>\n",
       "    </tr>\n",
       "    <tr>\n",
       "      <th>1</th>\n",
       "      <td>l1</td>\n",
       "      <td>0.0010</td>\n",
       "      <td>0.784954</td>\n",
       "      <td>0.604790</td>\n",
       "      <td>0.541555</td>\n",
       "      <td>0.571429</td>\n",
       "    </tr>\n",
       "    <tr>\n",
       "      <th>2</th>\n",
       "      <td>l1</td>\n",
       "      <td>0.0001</td>\n",
       "      <td>0.734564</td>\n",
       "      <td>0.000000</td>\n",
       "      <td>0.000000</td>\n",
       "      <td>0.000000</td>\n",
       "    </tr>\n",
       "    <tr>\n",
       "      <th>3</th>\n",
       "      <td>l1</td>\n",
       "      <td>1.0000</td>\n",
       "      <td>0.819730</td>\n",
       "      <td>0.678679</td>\n",
       "      <td>0.605898</td>\n",
       "      <td>0.640227</td>\n",
       "    </tr>\n",
       "    <tr>\n",
       "      <th>4</th>\n",
       "      <td>l2</td>\n",
       "      <td>0.1000</td>\n",
       "      <td>0.823279</td>\n",
       "      <td>0.696203</td>\n",
       "      <td>0.589812</td>\n",
       "      <td>0.638607</td>\n",
       "    </tr>\n",
       "    <tr>\n",
       "      <th>5</th>\n",
       "      <td>l2</td>\n",
       "      <td>0.0010</td>\n",
       "      <td>0.811923</td>\n",
       "      <td>0.690141</td>\n",
       "      <td>0.525469</td>\n",
       "      <td>0.596651</td>\n",
       "    </tr>\n",
       "    <tr>\n",
       "      <th>6</th>\n",
       "      <td>l2</td>\n",
       "      <td>0.0001</td>\n",
       "      <td>0.786373</td>\n",
       "      <td>0.607143</td>\n",
       "      <td>0.546917</td>\n",
       "      <td>0.575458</td>\n",
       "    </tr>\n",
       "    <tr>\n",
       "      <th>7</th>\n",
       "      <td>l2</td>\n",
       "      <td>1.0000</td>\n",
       "      <td>0.821150</td>\n",
       "      <td>0.690852</td>\n",
       "      <td>0.587131</td>\n",
       "      <td>0.634783</td>\n",
       "    </tr>\n",
       "  </tbody>\n",
       "</table>\n",
       "</div>"
      ],
      "text/plain": [
       "  Penalty       C  Accuracy  Precision    Recall  F1 Score\n",
       "0      l1  0.1000  0.822569   0.689231  0.600536  0.641834\n",
       "1      l1  0.0010  0.784954   0.604790  0.541555  0.571429\n",
       "2      l1  0.0001  0.734564   0.000000  0.000000  0.000000\n",
       "3      l1  1.0000  0.819730   0.678679  0.605898  0.640227\n",
       "4      l2  0.1000  0.823279   0.696203  0.589812  0.638607\n",
       "5      l2  0.0010  0.811923   0.690141  0.525469  0.596651\n",
       "6      l2  0.0001  0.786373   0.607143  0.546917  0.575458\n",
       "7      l2  1.0000  0.821150   0.690852  0.587131  0.634783"
      ]
     },
     "execution_count": 103,
     "metadata": {},
     "output_type": "execute_result"
    }
   ],
   "source": [
    "penalty = ['l1', 'l2']\n",
    "C = [0.1, 0.001, 0.0001, 1]\n",
    "\n",
    "res1 = []\n",
    "for i in penalty:\n",
    "    for j in C:\n",
    "        clf = LogisticRegression(penalty=i, C=j, solver='liblinear')\n",
    "        clf.fit(X_train, y_train)\n",
    "        y_pred = clf.predict(X_test)\n",
    "        res1.append([i, j, accuracy_score(y_test,y_pred), precision_score(y_test, y_pred),recall_score(y_test, y_pred),f1_score(y_test, y_pred)])\n",
    "\n",
    "res1_df = pd.DataFrame(res1, columns=['Penalty', 'C', 'Accuracy', 'Precision', 'Recall', 'F1 Score'])\n",
    "res1_df"
   ]
  },
  {
   "cell_type": "markdown",
   "id": "dd61ab5b-e313-47e0-8a7f-2c93ed66810e",
   "metadata": {},
   "source": [
    "The recorded scores are plotted on a bar chart for each model to be compared based on the recommended metric."
   ]
  },
  {
   "cell_type": "code",
   "execution_count": 104,
   "id": "33ae6847-6b27-42d3-9ceb-d669cb826db0",
   "metadata": {},
   "outputs": [
    {
     "data": {
      "text/plain": [
       "<AxesSubplot:xlabel='Params', ylabel='value'>"
      ]
     },
     "execution_count": 104,
     "metadata": {},
     "output_type": "execute_result"
    },
    {
     "data": {
      "image/png": "[encoded data removed]",
      "text/plain": [
       "<Figure size 864x360 with 1 Axes>"
      ]
     },
     "metadata": {},
     "output_type": "display_data"
    }
   ],
   "source": [
    "fig, ax = plt.subplots(figsize=(12,5))\n",
    "res1_df['Params'] = res1_df['Penalty'] + ' ' + res1_df['C'].astype(str)\n",
    "res1_df = res1_df.drop(['Penalty', 'C'], axis=1)\n",
    "res1_df\n",
    "sns.barplot(data=pd.melt(res1_df, ['Params']), x='Params', y='value', hue='variable', ax=ax)"
   ]
  },
  {
   "cell_type": "code",
   "execution_count": 93,
   "id": "26da0ff4-7f87-4765-a92e-edf63c967010",
   "metadata": {},
   "outputs": [
    {
     "data": {
      "text/html": [
       "<div>\n",
       "<style scoped>\n",
       "    .dataframe tbody tr th:only-of-type {\n",
       "        vertical-align: middle;\n",
       "    }\n",
       "\n",
       "    .dataframe tbody tr th {\n",
       "        vertical-align: top;\n",
       "    }\n",
       "\n",
       "    .dataframe thead th {\n",
       "        text-align: right;\n",
       "    }\n",
       "</style>\n",
       "<table border=\"1\" class=\"dataframe\">\n",
       "  <thead>\n",
       "    <tr style=\"text-align: right;\">\n",
       "      <th></th>\n",
       "      <th>Accuracy</th>\n",
       "      <th>Precision</th>\n",
       "      <th>Recall</th>\n",
       "      <th>F1 Score</th>\n",
       "      <th>Params</th>\n",
       "    </tr>\n",
       "  </thead>\n",
       "  <tbody>\n",
       "    <tr>\n",
       "      <th>4</th>\n",
       "      <td>0.822569</td>\n",
       "      <td>0.688073</td>\n",
       "      <td>0.603217</td>\n",
       "      <td>0.642857</td>\n",
       "      <td>l2 0.1</td>\n",
       "    </tr>\n",
       "  </tbody>\n",
       "</table>\n",
       "</div>"
      ],
      "text/plain": [
       "   Accuracy  Precision    Recall  F1 Score  Params\n",
       "4  0.822569   0.688073  0.603217  0.642857  l2 0.1"
      ]
     },
     "execution_count": 93,
     "metadata": {},
     "output_type": "execute_result"
    }
   ],
   "source": [
    "res1_df.iloc[[res1_df['F1 Score'].idxmax()]]"
   ]
  },
  {
   "cell_type": "markdown",
   "id": "ef52deea-7658-4141-b3dc-9d2ad88af5c6",
   "metadata": {},
   "source": [
    "**Which setting would you recommend to use for building the classifier using logistic regression and why? (3pts)**"
   ]
  },
  {
   "cell_type": "markdown",
   "id": "e4beecc1-60fa-4ebb-b420-44bf07a0f136",
   "metadata": {},
   "source": [
    "Based on the scores of various parameters, it is recommended that the combination using **l2 penalty** and **C at 0.1** is the optimal model as it maximized the **F1 score at 0.642857** which is the appropriate metric for evaluation given the nature of the problem."
   ]
  },
  {
   "cell_type": "markdown",
   "id": "13ba8b44",
   "metadata": {},
   "source": [
    "**Using your recommended setting plot the feature importance of the model, What are your insights from the feature importance?What reconmmendations can you give to the company to help with the problem on churn? (5pts)**"
   ]
  },
  {
   "cell_type": "code",
   "execution_count": 96,
   "id": "7f4b6bc7-880d-4994-95f2-d51fd30dd952",
   "metadata": {},
   "outputs": [
    {
     "data": {
      "text/plain": [
       "LogisticRegression(C=0.1, solver='liblinear')"
      ]
     },
     "execution_count": 96,
     "metadata": {},
     "output_type": "execute_result"
    }
   ],
   "source": [
    "clf = LogisticRegression(penalty='l2', C=0.1, solver='liblinear')\n",
    "clf.fit(X_train, y_train)"
   ]
  },
  {
   "cell_type": "code",
   "execution_count": 97,
   "id": "53f9d9c9",
   "metadata": {},
   "outputs": [
    {
     "data": {
      "image/png": "[encoded data removed]",
      "text/plain": [
       "<Figure size 1080x720 with 1 Axes>"
      ]
     },
     "metadata": {},
     "output_type": "display_data"
    }
   ],
   "source": [
    "cols = X_train.columns.to_list()\n",
    "fig, ax = plt.subplots(figsize=(15,10))\n",
    "sns.barplot(x=clf.coef_[0], y=cols)\n",
    "\n",
    "for p in ax.patches:\n",
    "    width = p.get_width()    # get bar length\n",
    "    ax.text(width - .5,       # set the text at 1 unit right of the bar\n",
    "            p.get_y() + p.get_height() / 2, # get Y coordinate + X coordinate / 2\n",
    "            '{:1.2f}'.format(width), # set variable to display, 2 decimals\n",
    "            ha = 'left',   # horizontal alignment\n",
    "            va = 'center',\n",
    "            fontsize=13)  # vertical alignment\n"
   ]
  },
  {
   "cell_type": "markdown",
   "id": "402df14e-0318-4ebd-a95c-3b33288f37e8",
   "metadata": {},
   "source": [
    "Based on the feature importance graph above, it can be inferred that total charges, senior citizenship, and monthly charges are insignificant features to this model. It can also be inferred that gender, partner, tenure, and device protection are features of minimal concern in customer churn. Instead, the following insights can be drawn in addressing the issue of churn. \n",
    "- Two-year contracts, the absence of an ISP, a phone service, online security, and tech support are the top 5 characteristics that indicate a customer that is least likely to churn.\n",
    "- Month-to-month contracts, a fiber optic ISP, and presence of multiple lines are characteristics of a customer that will churn.\n",
    "- Paperless billing and movie streaming are features this model find significant in predicting churning.\n",
    "\n",
    "As for recommendations, it is recommended that customers that fit in the churning demographic are offered longer contracts and provided better customer service and tech support to entice this demographic. It can also be recommended to explore further the reasons of clients who use multiple lines and create packages and offers based on their needs."
   ]
  }
 ],
 "metadata": {
  "kernelspec": {
   "display_name": "Python 3",
   "language": "python",
   "name": "python3"
  },
  "language_info": {
   "codemirror_mode": {
    "name": "ipython",
    "version": 3
   },
   "file_extension": ".py",
   "mimetype": "text/x-python",
   "name": "python",
   "nbconvert_exporter": "python",
   "pygments_lexer": "ipython3",
   "version": "3.8.10"
  }
 },
 "nbformat": 4,
 "nbformat_minor": 5
}
