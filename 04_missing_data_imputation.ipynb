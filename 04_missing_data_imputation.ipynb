{
 "cells": [
  {
   "cell_type": "markdown",
   "id": "85cf00ba",
   "metadata": {},
   "source": [
    "\n",
    "\n",
    "In the real world the data the we receive is imperfect. There will be cases wherein the data provided contains missing data. To handle missing data, we use data imputation techniques to attempt to salvage and recover missing data points. Now there isn't a single technique that is able to solve our missing data issues but there are various methods available for us to use. \n",
    "\n",
    "<img src=\"https://memegenerator.net/img/instances/64277502.jpg\"/>\n",
    "\n",
    "Before discussing the different techniques let's discuss common types of missing data.\n",
    "\n",
    "1. **Missing Completely at Random (MCAR)**\n",
    "\n",
    "This means that the missingness of a data point is unrelated to any of the values observed or missing. In other words, there is no systematic reasoning to justify why a given data point is missing. For example if we maintain a manual file which contains the different products a company sells and for one product the dimensions is missing then its possible that the user who maintains the file just forgot to add value to that field. \n",
    "\n",
    "2. **Missing at Random**\n",
    "\n",
    "This type suggests that there is a relationship between the missingness of data and the observed data. For example, if we had 2 features called is_sick and symptoms. If is_sick is yes then the symptoms field will have values as to why the person is sick if the person is well then the symtpoms field will be blank \n",
    "\n",
    "3. **Missing not at Random**\n",
    "\n",
    "This type is the most complex among the 3, the missingness of the data is in relation to an unboserved phenomena. For example if we have a field that asks for the salary of an person there is a higher chance that they will leave this field blank for data praviacy. The same thing might also happen for emails or mobile numbers. "
   ]
  },
  {
   "cell_type": "markdown",
   "id": "d43a77b2",
   "metadata": {},
   "source": [
    "# Imputation Methods"
   ]
  },
  {
   "cell_type": "code",
   "execution_count": 3,
   "id": "f5a10cde",
   "metadata": {},
   "outputs": [],
   "source": [
    "import pandas as pd \n",
    "import numpy as np"
   ]
  },
  {
   "cell_type": "markdown",
   "id": "5ad05205",
   "metadata": {},
   "source": [
    "1. **Complete Case Analysis** <br>\n",
    "What this method does is just retain data points that have a complete set of features. In effect any instance of data that has missing values will be removed as part of the modeling. This approach can be destructive since it has the potential to remove a lot of data points so it's best to look at how many rows of data will be dropped using this method."
   ]
  },
  {
   "cell_type": "code",
   "execution_count": 4,
   "id": "2c7f479d",
   "metadata": {},
   "outputs": [
    {
     "data": {
      "text/html": [
       "<div>\n",
       "<style scoped>\n",
       "    .dataframe tbody tr th:only-of-type {\n",
       "        vertical-align: middle;\n",
       "    }\n",
       "\n",
       "    .dataframe tbody tr th {\n",
       "        vertical-align: top;\n",
       "    }\n",
       "\n",
       "    .dataframe thead th {\n",
       "        text-align: right;\n",
       "    }\n",
       "</style>\n",
       "<table border=\"1\" class=\"dataframe\">\n",
       "  <thead>\n",
       "    <tr style=\"text-align: right;\">\n",
       "      <th></th>\n",
       "      <th>Name</th>\n",
       "      <th>Address</th>\n",
       "      <th>Mobile Number</th>\n",
       "    </tr>\n",
       "  </thead>\n",
       "  <tbody>\n",
       "    <tr>\n",
       "      <th>0</th>\n",
       "      <td>John</td>\n",
       "      <td>Kyoto Region</td>\n",
       "      <td>2223995.0</td>\n",
       "    </tr>\n",
       "    <tr>\n",
       "      <th>1</th>\n",
       "      <td>Bob</td>\n",
       "      <td>Jhoto Region</td>\n",
       "      <td>NaN</td>\n",
       "    </tr>\n",
       "    <tr>\n",
       "      <th>2</th>\n",
       "      <td>Eve</td>\n",
       "      <td>Sinnoh Region</td>\n",
       "      <td>2242641.0</td>\n",
       "    </tr>\n",
       "    <tr>\n",
       "      <th>3</th>\n",
       "      <td>Rina</td>\n",
       "      <td>NaN</td>\n",
       "      <td>2212696.0</td>\n",
       "    </tr>\n",
       "  </tbody>\n",
       "</table>\n",
       "</div>"
      ],
      "text/plain": [
       "   Name        Address  Mobile Number\n",
       "0  John   Kyoto Region      2223995.0\n",
       "1   Bob   Jhoto Region            NaN\n",
       "2   Eve  Sinnoh Region      2242641.0\n",
       "3  Rina            NaN      2212696.0"
      ]
     },
     "execution_count": 4,
     "metadata": {},
     "output_type": "execute_result"
    }
   ],
   "source": [
    "dict = {'Name':['John', 'Bob', 'Eve', 'Rina'],\n",
    "        'Address': ['Kyoto Region', 'Jhoto Region', 'Sinnoh Region', np.nan],\n",
    "        'Mobile Number':[2223995, np.nan, 2242641, 2212696]}\n",
    "  \n",
    "df = pd.DataFrame(dict)\n",
    "df"
   ]
  },
  {
   "cell_type": "code",
   "execution_count": 5,
   "id": "b4482e17",
   "metadata": {},
   "outputs": [
    {
     "data": {
      "text/html": [
       "<div>\n",
       "<style scoped>\n",
       "    .dataframe tbody tr th:only-of-type {\n",
       "        vertical-align: middle;\n",
       "    }\n",
       "\n",
       "    .dataframe tbody tr th {\n",
       "        vertical-align: top;\n",
       "    }\n",
       "\n",
       "    .dataframe thead th {\n",
       "        text-align: right;\n",
       "    }\n",
       "</style>\n",
       "<table border=\"1\" class=\"dataframe\">\n",
       "  <thead>\n",
       "    <tr style=\"text-align: right;\">\n",
       "      <th></th>\n",
       "      <th>Name</th>\n",
       "      <th>Address</th>\n",
       "      <th>Mobile Number</th>\n",
       "    </tr>\n",
       "  </thead>\n",
       "  <tbody>\n",
       "    <tr>\n",
       "      <th>0</th>\n",
       "      <td>John</td>\n",
       "      <td>Kyoto Region</td>\n",
       "      <td>2223995.0</td>\n",
       "    </tr>\n",
       "    <tr>\n",
       "      <th>2</th>\n",
       "      <td>Eve</td>\n",
       "      <td>Sinnoh Region</td>\n",
       "      <td>2242641.0</td>\n",
       "    </tr>\n",
       "  </tbody>\n",
       "</table>\n",
       "</div>"
      ],
      "text/plain": [
       "   Name        Address  Mobile Number\n",
       "0  John   Kyoto Region      2223995.0\n",
       "2   Eve  Sinnoh Region      2242641.0"
      ]
     },
     "execution_count": 5,
     "metadata": {},
     "output_type": "execute_result"
    }
   ],
   "source": [
    "# to do a complete case analysis we remove features with null values \n",
    "model_data = df.dropna(axis=0)\n",
    "#since Rina and Bob have missing data points they are excluded from modeling \n",
    "model_data"
   ]
  },
  {
   "cell_type": "markdown",
   "id": "7dc96bae",
   "metadata": {},
   "source": [
    "2. **Arbitrary Value Imputation <br>**\n",
    "\n",
    "This method can be used for both numerical and categorical features. This technique assigns large numbers to missing data points in order to represent them as null  (Example 9999999 or -999999). While for categorical features an `unknown` value can be used to fill the missing data points. "
   ]
  },
  {
   "cell_type": "code",
   "execution_count": 9,
   "id": "3d775f61",
   "metadata": {},
   "outputs": [
    {
     "data": {
      "text/html": [
       "<div>\n",
       "<style scoped>\n",
       "    .dataframe tbody tr th:only-of-type {\n",
       "        vertical-align: middle;\n",
       "    }\n",
       "\n",
       "    .dataframe tbody tr th {\n",
       "        vertical-align: top;\n",
       "    }\n",
       "\n",
       "    .dataframe thead th {\n",
       "        text-align: right;\n",
       "    }\n",
       "</style>\n",
       "<table border=\"1\" class=\"dataframe\">\n",
       "  <thead>\n",
       "    <tr style=\"text-align: right;\">\n",
       "      <th></th>\n",
       "      <th>Name</th>\n",
       "      <th>Address</th>\n",
       "      <th>Mobile Number</th>\n",
       "    </tr>\n",
       "  </thead>\n",
       "  <tbody>\n",
       "    <tr>\n",
       "      <th>0</th>\n",
       "      <td>John</td>\n",
       "      <td>Kyoto Region</td>\n",
       "      <td>2223995.0</td>\n",
       "    </tr>\n",
       "    <tr>\n",
       "      <th>1</th>\n",
       "      <td>Bob</td>\n",
       "      <td>Jhoto Region</td>\n",
       "      <td>-9999999.0</td>\n",
       "    </tr>\n",
       "    <tr>\n",
       "      <th>2</th>\n",
       "      <td>Eve</td>\n",
       "      <td>Sinnoh Region</td>\n",
       "      <td>2242641.0</td>\n",
       "    </tr>\n",
       "    <tr>\n",
       "      <th>3</th>\n",
       "      <td>Rina</td>\n",
       "      <td>Unknown</td>\n",
       "      <td>2212696.0</td>\n",
       "    </tr>\n",
       "  </tbody>\n",
       "</table>\n",
       "</div>"
      ],
      "text/plain": [
       "   Name        Address  Mobile Number\n",
       "0  John   Kyoto Region      2223995.0\n",
       "1   Bob   Jhoto Region     -9999999.0\n",
       "2   Eve  Sinnoh Region      2242641.0\n",
       "3  Rina        Unknown      2212696.0"
      ]
     },
     "execution_count": 9,
     "metadata": {},
     "output_type": "execute_result"
    }
   ],
   "source": [
    "#to do this in pandas we use the fillna method and place the value to use to replace our null values\n",
    "model_data = df.copy()\n",
    "model_data['Mobile Number'] = model_data['Mobile Number'].fillna(-9999999)\n",
    "model_data['Address'] = model_data['Address'].fillna('Unknown')\n",
    "model_data"
   ]
  },
  {
   "cell_type": "markdown",
   "id": "7a5b95fa",
   "metadata": {},
   "source": [
    "3. **Using Mean, Median and Mode**"
   ]
  },
  {
   "cell_type": "markdown",
   "id": "8ce15691",
   "metadata": {},
   "source": [
    "This method fills up our null values with the mean, median or mode depending on the distribution of the data points. "
   ]
  },
  {
   "cell_type": "code",
   "execution_count": 11,
   "id": "f54c6e00",
   "metadata": {},
   "outputs": [
    {
     "data": {
      "text/html": [
       "<div>\n",
       "<style scoped>\n",
       "    .dataframe tbody tr th:only-of-type {\n",
       "        vertical-align: middle;\n",
       "    }\n",
       "\n",
       "    .dataframe tbody tr th {\n",
       "        vertical-align: top;\n",
       "    }\n",
       "\n",
       "    .dataframe thead th {\n",
       "        text-align: right;\n",
       "    }\n",
       "</style>\n",
       "<table border=\"1\" class=\"dataframe\">\n",
       "  <thead>\n",
       "    <tr style=\"text-align: right;\">\n",
       "      <th></th>\n",
       "      <th>Name</th>\n",
       "      <th>Address</th>\n",
       "      <th>Mobile Number</th>\n",
       "      <th>Age</th>\n",
       "      <th>Color</th>\n",
       "    </tr>\n",
       "  </thead>\n",
       "  <tbody>\n",
       "    <tr>\n",
       "      <th>0</th>\n",
       "      <td>John</td>\n",
       "      <td>Kyoto Region</td>\n",
       "      <td>2223995.0</td>\n",
       "      <td>NaN</td>\n",
       "      <td>blue</td>\n",
       "    </tr>\n",
       "    <tr>\n",
       "      <th>1</th>\n",
       "      <td>Bob</td>\n",
       "      <td>Jhoto Region</td>\n",
       "      <td>NaN</td>\n",
       "      <td>11.0</td>\n",
       "      <td>blue</td>\n",
       "    </tr>\n",
       "    <tr>\n",
       "      <th>2</th>\n",
       "      <td>Eve</td>\n",
       "      <td>Sinnoh Region</td>\n",
       "      <td>2242641.0</td>\n",
       "      <td>13.0</td>\n",
       "      <td>NaN</td>\n",
       "    </tr>\n",
       "    <tr>\n",
       "      <th>3</th>\n",
       "      <td>Rina</td>\n",
       "      <td>NaN</td>\n",
       "      <td>2212696.0</td>\n",
       "      <td>14.0</td>\n",
       "      <td>yellow</td>\n",
       "    </tr>\n",
       "  </tbody>\n",
       "</table>\n",
       "</div>"
      ],
      "text/plain": [
       "   Name        Address  Mobile Number   Age   Color\n",
       "0  John   Kyoto Region      2223995.0   NaN    blue\n",
       "1   Bob   Jhoto Region            NaN  11.0    blue\n",
       "2   Eve  Sinnoh Region      2242641.0  13.0     NaN\n",
       "3  Rina            NaN      2212696.0  14.0  yellow"
      ]
     },
     "execution_count": 11,
     "metadata": {},
     "output_type": "execute_result"
    }
   ],
   "source": [
    "dict = {'Name':['John', 'Bob', 'Eve', 'Rina'],\n",
    "        'Address': ['Kyoto Region', 'Jhoto Region', 'Sinnoh Region', np.nan],\n",
    "        'Mobile Number':[2223995, np.nan, 2242641, 2212696],\n",
    "        'Age': [np.nan, 11, 13, 14],\n",
    "        'Color': ['blue', 'blue', np.nan, 'yellow']}\n",
    "  \n",
    "df = pd.DataFrame(dict)\n",
    "df"
   ]
  },
  {
   "cell_type": "code",
   "execution_count": 16,
   "id": "248f33b7",
   "metadata": {},
   "outputs": [
    {
     "data": {
      "text/html": [
       "<div>\n",
       "<style scoped>\n",
       "    .dataframe tbody tr th:only-of-type {\n",
       "        vertical-align: middle;\n",
       "    }\n",
       "\n",
       "    .dataframe tbody tr th {\n",
       "        vertical-align: top;\n",
       "    }\n",
       "\n",
       "    .dataframe thead th {\n",
       "        text-align: right;\n",
       "    }\n",
       "</style>\n",
       "<table border=\"1\" class=\"dataframe\">\n",
       "  <thead>\n",
       "    <tr style=\"text-align: right;\">\n",
       "      <th></th>\n",
       "      <th>Name</th>\n",
       "      <th>Address</th>\n",
       "      <th>Mobile Number</th>\n",
       "      <th>Age</th>\n",
       "      <th>Color</th>\n",
       "    </tr>\n",
       "  </thead>\n",
       "  <tbody>\n",
       "    <tr>\n",
       "      <th>0</th>\n",
       "      <td>John</td>\n",
       "      <td>Kyoto Region</td>\n",
       "      <td>2223995.0</td>\n",
       "      <td>12.666667</td>\n",
       "      <td>blue</td>\n",
       "    </tr>\n",
       "    <tr>\n",
       "      <th>1</th>\n",
       "      <td>Bob</td>\n",
       "      <td>Jhoto Region</td>\n",
       "      <td>NaN</td>\n",
       "      <td>11.000000</td>\n",
       "      <td>blue</td>\n",
       "    </tr>\n",
       "    <tr>\n",
       "      <th>2</th>\n",
       "      <td>Eve</td>\n",
       "      <td>Sinnoh Region</td>\n",
       "      <td>2242641.0</td>\n",
       "      <td>13.000000</td>\n",
       "      <td>blue</td>\n",
       "    </tr>\n",
       "    <tr>\n",
       "      <th>3</th>\n",
       "      <td>Rina</td>\n",
       "      <td>NaN</td>\n",
       "      <td>2212696.0</td>\n",
       "      <td>14.000000</td>\n",
       "      <td>yellow</td>\n",
       "    </tr>\n",
       "  </tbody>\n",
       "</table>\n",
       "</div>"
      ],
      "text/plain": [
       "   Name        Address  Mobile Number        Age   Color\n",
       "0  John   Kyoto Region      2223995.0  12.666667    blue\n",
       "1   Bob   Jhoto Region            NaN  11.000000    blue\n",
       "2   Eve  Sinnoh Region      2242641.0  13.000000    blue\n",
       "3  Rina            NaN      2212696.0  14.000000  yellow"
      ]
     },
     "execution_count": 16,
     "metadata": {},
     "output_type": "execute_result"
    }
   ],
   "source": [
    "df['Age'] = df['Age'].fillna(df.Age.mean())\n",
    "df['Color'] = df['Color'].fillna(df.Color.mode()[0])"
   ]
  },
  {
   "cell_type": "markdown",
   "id": "e1407142",
   "metadata": {},
   "source": [
    "4. **Using Maching Learning** \n",
    "\n",
    "It's also possible to use machine learning to forecast missing values for certain data points. In this approach we treat the column with missing values as our target and utilize the other features as input. SKlearn has the KNNImputer class which uses KNN in order to impute the missing values. KNNImputer only works using numeric data so if you have categorical features you can use `LabelEncoder` or `OneHotEncoding` to convert your categorical features to numeric."
   ]
  },
  {
   "cell_type": "code",
   "execution_count": 19,
   "id": "c9694c56",
   "metadata": {},
   "outputs": [
    {
     "data": {
      "text/html": [
       "<div>\n",
       "<style scoped>\n",
       "    .dataframe tbody tr th:only-of-type {\n",
       "        vertical-align: middle;\n",
       "    }\n",
       "\n",
       "    .dataframe tbody tr th {\n",
       "        vertical-align: top;\n",
       "    }\n",
       "\n",
       "    .dataframe thead th {\n",
       "        text-align: right;\n",
       "    }\n",
       "</style>\n",
       "<table border=\"1\" class=\"dataframe\">\n",
       "  <thead>\n",
       "    <tr style=\"text-align: right;\">\n",
       "      <th></th>\n",
       "      <th>feat_1</th>\n",
       "      <th>feat_2</th>\n",
       "      <th>feat_3</th>\n",
       "    </tr>\n",
       "  </thead>\n",
       "  <tbody>\n",
       "    <tr>\n",
       "      <th>0</th>\n",
       "      <td>1.0</td>\n",
       "      <td>2</td>\n",
       "      <td>NaN</td>\n",
       "    </tr>\n",
       "    <tr>\n",
       "      <th>1</th>\n",
       "      <td>3.0</td>\n",
       "      <td>4</td>\n",
       "      <td>3.0</td>\n",
       "    </tr>\n",
       "    <tr>\n",
       "      <th>2</th>\n",
       "      <td>NaN</td>\n",
       "      <td>6</td>\n",
       "      <td>5.0</td>\n",
       "    </tr>\n",
       "    <tr>\n",
       "      <th>3</th>\n",
       "      <td>8.0</td>\n",
       "      <td>8</td>\n",
       "      <td>7.0</td>\n",
       "    </tr>\n",
       "  </tbody>\n",
       "</table>\n",
       "</div>"
      ],
      "text/plain": [
       "   feat_1  feat_2  feat_3\n",
       "0     1.0       2     NaN\n",
       "1     3.0       4     3.0\n",
       "2     NaN       6     5.0\n",
       "3     8.0       8     7.0"
      ]
     },
     "execution_count": 19,
     "metadata": {},
     "output_type": "execute_result"
    }
   ],
   "source": [
    "from sklearn.impute import KNNImputer\n",
    "X = [[1, 2, np.nan], [3, 4, 3], [np.nan, 6, 5], [8, 8, 7]]\n",
    "df = pd.DataFrame(X, columns=['feat_1', 'feat_2', 'feat_3'])\n",
    "df"
   ]
  },
  {
   "cell_type": "code",
   "execution_count": 22,
   "id": "60041666",
   "metadata": {},
   "outputs": [
    {
     "data": {
      "text/plain": [
       "array([[1. , 2. , 4. ],\n",
       "       [3. , 4. , 3. ],\n",
       "       [5.5, 6. , 5. ],\n",
       "       [8. , 8. , 7. ]])"
      ]
     },
     "execution_count": 22,
     "metadata": {},
     "output_type": "execute_result"
    }
   ],
   "source": [
    "imputer = KNNImputer(n_neighbors=2)\n",
    "imputer.fit_transform(df)"
   ]
  },
  {
   "cell_type": "markdown",
   "id": "decb7df1",
   "metadata": {},
   "source": [
    "Whatever method you choose to impute missing data its important that you convey this to the business or domain experts so that they are made aware that there are limitations in the data provided and they might be able to look into better data sources that are cleaner or suggest ways to fill in the missing values. "
   ]
  },
  {
   "cell_type": "markdown",
   "id": "03441ddc",
   "metadata": {},
   "source": [
    "# References"
   ]
  },
  {
   "cell_type": "markdown",
   "id": "31b0bd35",
   "metadata": {},
   "source": [
    "https://www.analyticsvidhya.com/blog/2021/06/defining-analysing-and-implementing-imputation-techniques/"
   ]
  }
 ],
 "metadata": {
  "kernelspec": {
   "display_name": "Python 3",
   "language": "python",
   "name": "python3"
  },
  "language_info": {
   "codemirror_mode": {
    "name": "ipython",
    "version": 3
   },
   "file_extension": ".py",
   "mimetype": "text/x-python",
   "name": "python",
   "nbconvert_exporter": "python",
   "pygments_lexer": "ipython3",
   "version": "3.8.10"
  }
 },
 "nbformat": 4,
 "nbformat_minor": 5
}
